{
 "cells": [
  {
   "cell_type": "code",
   "execution_count": 1,
   "metadata": {},
   "outputs": [
    {
     "name": "stdout",
     "output_type": "stream",
     "text": [
      "C:\\Users\\agus\\Dropbox\\Doctorado\\NeuroData\n"
     ]
    }
   ],
   "source": [
    "cd .."
   ]
  },
  {
   "cell_type": "code",
   "execution_count": null,
   "metadata": {},
   "outputs": [
    {
     "name": "stdout",
     "output_type": "stream",
     "text": [
      "Vm1 {'id': 0, 'sampling_rate': 20000.0, 'dtype': 'int16', 'units': 'mV', 'gain': 0.03051757880712104, 'offset': 0.0, 'group_id': 0, 'index': 0}\n",
      "Im1 {'id': 1, 'sampling_rate': 20000.0, 'dtype': 'int16', 'units': 'nA', 'gain': 0.03051757880712104, 'offset': 0.0, 'group_id': 0, 'index': 1}\n",
      "IN5 {'id': 5, 'sampling_rate': 20000.0, 'dtype': 'int16', 'units': 'V', 'gain': 0.00030517578125, 'offset': 0.0, 'group_id': 0, 'index': 2}\n",
      "IN6 {'id': 6, 'sampling_rate': 20000.0, 'dtype': 'int16', 'units': 'V', 'gain': 0.00030517578125, 'offset': 0.0, 'group_id': 0, 'index': 3}\n",
      "Found 13285 out of 13537 events\n",
      "0 -7845.485063012707\n",
      "1 -3710.1273651077345\n",
      "2 -2784.462552939558\n",
      "3 -2462.5652726062044\n",
      "4 -2210.933707953547\n",
      "5 -1986.0337312248357\n",
      "6 -1787.8179413763592\n",
      "7 -1599.9601712338826\n",
      "8 -1433.3705747075946\n",
      "9 -1284.2438900386378\n",
      "10 -1150.7041556901686\n",
      "11 -1026.2105035980103\n",
      "12 -921.6966281131972\n",
      "13 -820.3903392498232\n",
      "14 -722.8421014778132\n",
      "15 -628.7105304476809\n",
      "16 -539.5305508476304\n",
      "17 -454.0101459738489\n",
      "18 -377.8877109355799\n",
      "19 -304.3567314671536\n",
      "20 -243.83972065233138\n",
      "21 -187.2273292236623\n",
      "22 -135.36584738631063\n",
      "23 -85.30516873736269\n",
      "24 -38.686199027495604\n",
      "25 1.6468251963415241\n",
      "26 38.23157939040357\n",
      "27 71.16230258372343\n",
      "28 101.68735066165027\n",
      "29 129.14935756487284\n",
      "30 151.66917916309285\n",
      "31 173.9039213042779\n",
      "32 192.64525099910315\n",
      "33 210.56682290219032\n",
      "34 226.26279005148172\n",
      "35 241.82297119500436\n",
      "36 256.97743198494754\n",
      "37 270.79561893153186\n",
      "38 283.6159824533279\n",
      "39 295.99225648699394\n",
      "Running\n"
     ]
    }
   ],
   "source": [
    "%matplotlib qt5\n",
    "from copy import deepcopy\n",
    "from importlib import reload\n",
    "import time\n",
    "import PyLeech.AbfExtension as abfe\n",
    "import numpy as np\n",
    "import matplotlib.pylab as plt\n",
    "import PyLeech.sorting_with_python as swp\n",
    "import PyLeech.spsortUtils\n",
    "from sklearn.cluster import KMeans\n",
    "import multiprocessing\n",
    "import PyLeech.constants as constants\n",
    "import PyLeech.filterUtils\n",
    "import PyLeech.BurstUtils as BurstUtils\n",
    "\n",
    "nan = constants.nan\n",
    "opp0 = constants.opp0\n",
    "\n",
    "\n",
    "\n",
    "\n",
    "\n",
    "np.set_printoptions(precision=3)\n",
    "plt.ion()\n",
    "\n",
    "filename = \"RegistrosDP_PP/2018_11_06_0004.abf\"\n",
    "block = abfe.ExtendedAxonRawIo(\"RegistrosDP_PP/2018_11_06_0004.abf\")\n",
    "ch_info = block.ch_info\n",
    "\n",
    "[print(ch, item) for ch, item in ch_info.items()]\n",
    "\n",
    "n1 = np.array(block.getSignal_single_segment('IN5'))\n",
    "n2 = np.array(block.getSignal_single_segment('IN6'))\n",
    "fs = block.get_signal_sampling_rate()\n",
    "data_len = int(len(n1)/2)\n",
    "train_time = abfe.generateTimeVector(data_len, fs)\n",
    "\n",
    "\n",
    "del block\n",
    "\n",
    "# plt.figure()\n",
    "# PyLeech.filterUtils.plotSpectrums(n1, n2, sampling_rate=fs, nperseg=10000)\n",
    "\n",
    "n1_filt = PyLeech.filterUtils.runButterFilter(n1, 3000, sampling_rate=fs)\n",
    "n2_filt = PyLeech.filterUtils.runButterFilter(n2, 3000, sampling_rate=fs)\n",
    "\n",
    "n1_filt = PyLeech.filterUtils.runButterFilter(n1_filt, 20, sampling_rate=fs, butt_order=4, btype='high')\n",
    "n2_filt = PyLeech.filterUtils.runButterFilter(n2_filt, 20, sampling_rate=fs, butt_order=4, btype='high')\n",
    "\n",
    "# PyLeech.filterUtils.plotSpectrums(n2, n2_filt, sampling_rate=fs, nperseg=10000)\n",
    "\n",
    "train_data = np.array(\n",
    "    [n1_filt[:data_len],\n",
    "     n2_filt[:data_len],\n",
    "    ]\n",
    ")\n",
    "del n1, n2, n1_filt, n2_filt\n",
    "train_time\n",
    "\n",
    "\n",
    "sorter = PyLeech.spsortUtils.SpSorter(filename, train_data, train_time, fs)\n",
    "del train_data, train_time\n",
    "\n",
    "sorter.normTraces()\n",
    "sorter.smoothAndFindPeaks(vect_len=7, threshold=6, min_dist=100)\n",
    "sorter.makeEvents(149, 150)\n",
    "sorter.makeNoiseEvents(size=4000)\n",
    "sorter.getGoodEvents(threshold=25)\n",
    "\n",
    "sorter.getPcaBase(plot_vectors=False)\n",
    "\n",
    "sorter.getVectorWeights(40)\n",
    "start = time.time()\n",
    "sorter.KMeansClusterEvents(25, use_pca=True, dim_size=25, save=False)\n",
    "end = time.time()\n",
    "print(end-start)"
   ]
  },
  {
   "cell_type": "code",
   "execution_count": null,
   "metadata": {},
   "outputs": [],
   "source": [
    "from sklearn import mixture"
   ]
  },
  {
   "cell_type": "code",
   "execution_count": null,
   "metadata": {},
   "outputs": [],
   "source": [
    "start = time.time()\n",
    "evt_proy = np.dot(sorter.evts[sorter.good_evts], sorter.unitary[:,0:25])\n",
    "gmm = mixture.GaussianMixture(n_components=20, covariance_type='full').fit(evt_proy)\n",
    "end = time.time()\n",
    "print('elapsed time: %i' % int(end - start))"
   ]
  },
  {
   "cell_type": "code",
   "execution_count": null,
   "metadata": {},
   "outputs": [],
   "source": [
    "start = time.time()\n",
    "sorter.KMeansClusterEvents(5, use_pca=True, dim_size=25, save=False)\n",
    "end = time.time()\n",
    "print('KMeans took %i' % int(end-start))\n",
    "\n",
    "      \n",
    "\n",
    "orig_clusters = deepcopy(sorter.clusters)\n",
    "sorter.plotClusters()\n",
    "      \n",
    "      \n",
    "start = time.time()\n",
    "evt_proy = np.dot(sorter.evts[sorter.good_evts], sorter.unitary[:,0:25])\n",
    "gmm = mixture.GaussianMixture(n_components=5, covariance_type='full', n_init=300, max_iter=200).fit(evt_proy)\n",
    "\n",
    "\n",
    "sorter.clusters = gmm.predict(evt_proy)\n",
    "end = time.time()\n",
    "print('GMM took %i' % int(end - start))\n",
    "sorter.plotClusters()"
   ]
  },
  {
   "cell_type": "code",
   "execution_count": 27,
   "metadata": {},
   "outputs": [],
   "source": [
    "sorter.viewPcaClusters(go_pandas=True, clust_dim=15)"
   ]
  },
  {
   "cell_type": "code",
   "execution_count": 17,
   "metadata": {},
   "outputs": [
    {
     "data": {
      "text/plain": [
       "<Figure size 640x480 with 0 Axes>"
      ]
     },
     "execution_count": 17,
     "metadata": {},
     "output_type": "execute_result"
    }
   ],
   "source": [
    "plt.figure()"
   ]
  },
  {
   "cell_type": "code",
   "execution_count": null,
   "metadata": {},
   "outputs": [],
   "source": []
  }
 ],
 "metadata": {
  "kernelspec": {
   "display_name": "Python 3",
   "language": "python",
   "name": "python3"
  },
  "language_info": {
   "codemirror_mode": {
    "name": "ipython",
    "version": 3
   },
   "file_extension": ".py",
   "mimetype": "text/x-python",
   "name": "python",
   "nbconvert_exporter": "python",
   "pygments_lexer": "ipython3",
   "version": "3.6.5"
  }
 },
 "nbformat": 4,
 "nbformat_minor": 2
}
