{
 "cells": [
  {
   "cell_type": "code",
   "execution_count": 1,
   "metadata": {},
   "outputs": [
    {
     "name": "stdout",
     "output_type": "stream",
     "text": [
      "C:\\Users\\Agustin\\Dropbox\\Doctorado\\NeuroData\n"
     ]
    }
   ],
   "source": [
    "cd .."
   ]
  },
  {
   "cell_type": "code",
   "execution_count": 2,
   "metadata": {},
   "outputs": [],
   "source": [
    "import PyLeech.Utils.NLDUtils as NLD\n",
    "import PyLeech.Utils.AbfExtension as abfe\n",
    "\n",
    "import PyLeech.Utils.CrawlingDatabaseUtils as CDU\n",
    "import PyLeech.Utils.burstStorerLoader as bStorerLoader\n",
    "import PyLeech.Utils.burstUtils as burstUtils\n",
    "\n",
    "import numpy as np\n",
    "import scipy.signal as spsig\n",
    "from mpl_toolkits.mplot3d import Axes3D\n",
    "import matplotlib.pyplot as plt\n",
    "from sklearn.preprocessing import StandardScaler"
   ]
  },
  {
   "cell_type": "code",
   "execution_count": 3,
   "metadata": {},
   "outputs": [],
   "source": [
    "%matplotlib qt5"
   ]
  },
  {
   "cell_type": "code",
   "execution_count": 15,
   "metadata": {},
   "outputs": [
    {
     "name": "stdout",
     "output_type": "stream",
     "text": [
      "I need to set attribute 'isDe3' before continuing\n",
      "I need to set attribute 'isDe3' before continuing\n"
     ]
    }
   ],
   "source": [
    "cdd = CDU.loadDataDict()\n",
    "cdb = CDU.loadCrawlingDatabase()\n",
    "file_list = []\n",
    "for files in list(cdd.keys()):\n",
    "    burst_obj = bStorerLoader.UnitInfo(files, 'RegistrosDP_PP', mode='load')\n",
    "    try:\n",
    "        arr_dict, time_vector1, fs = abfe.getArraysFromAbfFiles(files, ['Vm1'])\n",
    "        file_list.append(files)\n",
    "    except:\n",
    "        pass\n",
    "\n"
   ]
  },
  {
   "cell_type": "code",
   "execution_count": 5,
   "metadata": {},
   "outputs": [],
   "source": [
    "file_list.append('19-05-16/2019_05_16_0006.abf')"
   ]
  },
  {
   "cell_type": "code",
   "execution_count": 6,
   "metadata": {},
   "outputs": [
    {
     "data": {
      "text/plain": [
       "['RegistrosDP_PP\\\\2018_12_03_0005.pklspikes',\n",
       " 'RegistrosDP_PP\\\\2018_12_04_0003_0004_0005_0006b.pklspikes',\n",
       " 'RegistrosDP_PP\\\\2018_12_06_0005.pklspikes',\n",
       " 'RegistrosDP_PP\\\\2018_12_13_0015.pklspikes',\n",
       " '19-05-16/2019_05_16_0006.abf']"
      ]
     },
     "execution_count": 6,
     "metadata": {},
     "output_type": "execute_result"
    }
   ],
   "source": [
    "file_list"
   ]
  },
  {
   "cell_type": "markdown",
   "metadata": {},
   "source": [
    "### NS 16-05"
   ]
  },
  {
   "cell_type": "code",
   "execution_count": 14,
   "metadata": {},
   "outputs": [
    {
     "data": {
      "text/plain": [
       "Text(0.5,0.98,'RegistrosDP_PP\\\\2018_12_03_0005.pklspikes')"
      ]
     },
     "execution_count": 14,
     "metadata": {},
     "output_type": "execute_result"
    }
   ],
   "source": [
    "arr_dict, time_vector, fs = abfe.getArraysFromAbfFiles(file_list[-1], ['Vm1'])\n",
    "NS = arr_dict['Vm1']\n",
    "crawling_intervals = [[348, 739]]\n",
    "    \n",
    "binning_dt = 0.1\n",
    "kernel_sigma = 5\n",
    "step = int(binning_dt * fs)\n",
    "\n",
    "neuron_idxs = []\n",
    "for interval in crawling_intervals:\n",
    "    neuron_idxs.append(np.where((time_vector > interval[0]) & (time_vector < interval[1]))[0][::step])\n",
    "neuron_idxs = np.hstack(neuron_idxs)\n",
    "neuron_cut_time = time_vector[neuron_idxs]\n",
    "\n",
    "kernel = NLD.generateGaussianKernel(sigma=kernel_sigma, time_range=30, dt_step=1 / fs)\n",
    "conv_NS = spsig.fftconvolve(NS, kernel, mode='same')\n",
    "cut_NS = conv_NS[neuron_idxs]\n",
    "\n",
    "fig, ax = plt.subplots()\n",
    "ax.plot(cut_NS)\n",
    "# NS_embedding = NLD.getTraceEmbedding(cut_NS, int(5 / .1), 3)\n",
    "NS_embedding = NLD.getDerivativeEmbedding(cut_NS, 1/fs, 3)\n",
    "fig, ax = NLD.plot3Dline(NS_embedding)\n",
    "fig.suptitle(fn)\n"
   ]
  },
  {
   "cell_type": "markdown",
   "metadata": {},
   "source": [
    "#### NS"
   ]
  },
  {
   "cell_type": "code",
   "execution_count": 52,
   "metadata": {},
   "outputs": [
    {
     "name": "stdout",
     "output_type": "stream",
     "text": [
      "[[350, 623], [662, 818]]\n",
      "returning reordered matrix\n"
     ]
    }
   ],
   "source": [
    "for fn in [file_list[3]]:\n",
    "    arr_dict, time_vector, fs = abfe.getArraysFromAbfFiles(fn, ['Vm1'])\n",
    "    NS = arr_dict['Vm1']\n",
    "    del arr_dict\n",
    "\n",
    "\n",
    "    NS[(NS > -20) | (NS < -60)] = np.median(NS)\n",
    "    good_neurons = [neuron for neuron, neuron_dict in cdd[fn]['neurons'].items() if neuron_dict['neuron_is_good']]\n",
    "\n",
    "    crawling_intervals = cdd[fn]['crawling_intervals']\n",
    "    print(crawling_intervals)\n",
    "\n",
    "    burst_obj = bStorerLoader.UnitInfo(fn, 'RegistrosDP_PP', mode='load')\n",
    "    \n",
    "    binning_dt = 0.1\n",
    "#     kernel_sigma = 5\n",
    "    kernel_sigma = 5\n",
    "    new_sfd = burstUtils.removeOutliers(burst_obj.spike_freq_dict, 5)\n",
    "    binned_sfd = burstUtils.digitizeSpikeFreqs(new_sfd, binning_dt, time_vector[-1], count=False)\n",
    "    cut_binned_freq_array = burstUtils.binned_spike_freq_dict_ToArray(binned_sfd, crawling_intervals, good_neurons)\n",
    "    \n",
    "    \n",
    "    kernel = NLD.generateGaussianKernel(sigma=1, time_range=20, dt_step=binning_dt)\n",
    "    smoothed_sfd = {}\n",
    "    for key, items in binned_sfd.items():\n",
    "        smoothed_sfd[key] = np.array([items[0], spsig.fftconvolve(items[1], kernel, mode='same')])\n",
    "    \n",
    "    step = int(binning_dt * fs)\n",
    "    neuron_idxs = []\n",
    "    spike_times = []\n",
    "#     for interval in crawling_intervals:\n",
    "    for interval in [[350, 450]]:\n",
    "        neuron_idxs.append(np.where((time_vector > interval[0]) & (time_vector < interval[1]))[0][::step])\n",
    "        spike_times.append(np.where((smoothed_sfd[3][0] > interval[0]) & (smoothed_sfd[3][0] < interval[1]))[0])\n",
    "    neuron_idxs = np.hstack(neuron_idxs)\n",
    "    spike_times = np.hstack(spike_times)\n",
    "    \n",
    "    neuron_cut_time = time_vector[neuron_idxs]\n",
    "\n",
    "    kernel = NLD.generateGaussianKernel(sigma=kernel_sigma, time_range=30, dt_step=1 / fs)\n",
    "    conv_NS = spsig.fftconvolve(NS, kernel, mode='same')\n",
    "    cut_NS = conv_NS[neuron_idxs]\n",
    "\n",
    "    fig, axes = burstUtils.plotFreq(smoothed_sfd, color_dict=burst_obj.color_dict,\n",
    "                                    template_dict=burst_obj.template_dict, scatter_plot=False,\n",
    "                                    optional_trace=[time_vector[::int(step / 4)], conv_NS[::int(step / 4)]],\n",
    "                                    outlier_thres=None, ms=4, draw_list=[3])\n",
    "    fig.suptitle(fn)\n",
    "\n",
    "    fig, axes = burstUtils.plotFreq(burst_obj.spike_freq_dict, color_dict=burst_obj.color_dict,\n",
    "                                    template_dict=burst_obj.template_dict, scatter_plot=True,\n",
    "                                    optional_trace=[time_vector[::int(step / 4)], conv_NS[::int(step / 4)]],\n",
    "                                    outlier_thres=3, ms=4, draw_list=[3])\n",
    "    fig.suptitle(fn)\n",
    "#     NS_embedding = NLD.getDerivativeEmbedding(cut_NS, 0.1, 3)\n",
    "    \n",
    "    NS_embedding = NLD.getDerivativeEmbedding(cut_NS, .1, 3)\n",
    "    \n",
    "    \n",
    "    jumps = np.where(np.diff(neuron_idxs) != np.diff(neuron_idxs)[0])[0]\n",
    "    if len(jumps) > 0:\n",
    "        NS_embedding[jumps] = np.nan\n",
    "        NS_embedding[jumps + 1] = np.nan\n",
    "\n",
    "#     scaler = StandardScaler()\n",
    "#     NS_embedding = scaler.fit_transform(NS_embedding)\n",
    "\n",
    "    fig, ax = NLD.plot3Dline(NS_embedding, color_idx=None)\n",
    "    fig.suptitle(fn + '\\n NS')\n",
    "#     for key in smoothed_sfd.keys():\n",
    "    for key in [3]:\n",
    "        sp_embedding = NLD.getDerivativeEmbedding(smoothed_sfd[key][1][spike_times], .1, 3)\n",
    "        sp_embedding[(sp_embedding[:,2]>50) | (sp_embedding[:,2]<-50)] = np.nan\n",
    "        fig, ax = NLD.plot3Dline(sp_embedding)\n",
    "        fig.suptitle(fn + '\\n' + str(key))\n",
    "    \n",
    "#     NS_embedding = NLD.getTraceEmbedding(cut_NS[:], int(1.2 / .1), 3)\n",
    "    rt1 = NLD.getCloseReturns(NS_embedding)\n",
    "\n",
    "#     reord_rt, fig1, ax1, \n",
    "    rt, fig1, ax1, fig2, ax2 = NLD.plotCloseReturns(rt1, get_counts=True, reorder=True, masked=False, thr=.1, return_reordered=True)\n",
    "    fig1.suptitle(fn)\n",
    "    fig2.suptitle(fn)"
   ]
  },
  {
   "cell_type": "code",
   "execution_count": 19,
   "metadata": {},
   "outputs": [
    {
     "name": "stdout",
     "output_type": "stream",
     "text": [
      "[[325, 700]]\n"
     ]
    }
   ],
   "source": [
    "for fn in [file_list[2]]:\n",
    "    arr_dict, time_vector, fs = abfe.getArraysFromAbfFiles(fn, ['Vm1'])\n",
    "    NS = arr_dict['Vm1']\n",
    "    del arr_dict\n",
    "\n",
    "    NS[(NS > -20) | (NS < -60)] = np.median(NS)\n",
    "    good_neurons = [neuron for neuron, neuron_dict in cdd[fn]['neurons'].items() if neuron_dict['neuron_is_good']]\n",
    "\n",
    "    crawling_intervals = cdd[fn]['crawling_intervals']\n",
    "    print(crawling_intervals)\n",
    "\n",
    "    burst_obj = bStorerLoader.UnitInfo(fn, 'RegistrosDP_PP', mode='load')\n",
    "    \n",
    "\n",
    "\n",
    "    new_sfd = burstUtils.removeOutliers(burst_obj.spike_freq_dict, 5)\n",
    "    binned_sfd = burstUtils.digitizeSpikeFreqs(new_sfd, binning_dt, time_vector[-1], count=False)\n",
    "    cut_binned_freq_array = burstUtils.binned_spike_freq_dict_ToArray(binned_sfd, crawling_intervals, good_neurons)\n",
    "    \n",
    "    \n",
    "    kernel = NLD.generateGaussianKernel(sigma=kernel_sigma, time_range=20, dt_step=binning_dt)\n",
    "    smoothed_sfd = {}\n",
    "    for key, items in binned_sfd.items():\n",
    "        smoothed_sfd[key] = np.array([items[0], spsig.fftconvolve(items[1], kernel, mode='same')])\n",
    "    \n",
    "    step = int(binning_dt * fs)\n",
    "    neuron_idxs = []\n",
    "    for interval in crawling_intervals:\n",
    "        neuron_idxs.append(np.where((time_vector > interval[0]) & (time_vector < interval[1]))[0][::step])\n",
    "    neuron_idxs = np.hstack(neuron_idxs)\n",
    "\n",
    "    neuron_cut_time = time_vector[neuron_idxs]\n",
    "\n",
    "    kernel = NLD.generateGaussianKernel(sigma=kernel_sigma, time_range=30, dt_step=1 / fs)\n",
    "    conv_NS = spsig.fftconvolve(NS, kernel, mode='same')\n",
    "    cut_NS = conv_NS[neuron_idxs]\n",
    "\n",
    "    \n",
    "#     NS_embedding = NLD.getDerivativeEmbedding(cut_NS, 0.1, 3)\n",
    "    NS_embedding = NLD.getTraceEmbedding(cut_NS, int(5 / .1), 3)\n",
    "    jumps = np.where(np.diff(neuron_idxs) != np.diff(neuron_idxs)[0])[0]\n",
    "    if len(jumps) > 0:\n",
    "        NS_embedding[jumps] = np.nan\n",
    "        NS_embedding[jumps + 1] = np.nan\n",
    "    \n",
    "    scaler = StandardScaler()\n",
    "    NS_embedding = scaler.fit_transform(NS_embedding)\n",
    "    NLD.plot3Dline(NS_embedding)\n",
    "#     NLD.plot3Dline(NS_embedding)\n",
    "    rt1 = NLD.getCloseReturns(NS_embedding)\n",
    "\n",
    "\n",
    "#     for pair in [[800, 1700], [1900, 2450]]:\n",
    "#         fig, ax = NLD.plot3Dline(NS_embedding[pair[0]:pair[1]], color_idx=None)\n",
    "#         ax.set_title(fn + '\\n' + str(pair[0]) + '-' + str(pair[1]))\n",
    "    \n",
    "    \n",
    "    \n",
    "#     fig, ax = NLD.plot3Dline(NS_embedding[150:300])\n",
    "#     NLD.plot3Dline(NS_embedding[150+1400:300+1400], fig_ax_pair=[fig, ax],color_idx=None)\n",
    "    \n",
    "#     fig, ax = NLD.plot3Dline(NS_embedding[800:1000], color_idx=None)\n",
    "#     NLD.plot3Dline(NS_embedding[800+740:1000+740], fig_ax_pair=[fig, ax],color_idx=None)\n",
    "        "
   ]
  },
  {
   "cell_type": "code",
   "execution_count": 7,
   "metadata": {},
   "outputs": [
    {
     "data": {
      "text/plain": [
       "{'RegistrosDP_PP\\\\2018_12_03_0005.pklspikes': [[180, 1350],\n",
       "  [520, 1300],\n",
       "  [850, 1400],\n",
       "  [1260, 1750]],\n",
       " 'RegistrosDP_PP\\\\2018_12_04_0003_0004_0005_0006b.pklspikes': [[70, 440],\n",
       "  [350, 590]],\n",
       " 'RegistrosDP_PP\\\\2018_12_06_0005.pklspikes': [[750, 1235],\n",
       "  [750, 2200],\n",
       "  [750, 1475],\n",
       "  [2220, 3100],\n",
       "  [1550, 2500],\n",
       "  [3280, 3680]],\n",
       " 'RegistrosDP_PP\\\\2018_12_13_0015.pklspikes': [[300, 800],\n",
       "  [1300, 1920],\n",
       "  [2200, 2725],\n",
       "  [2410, 3070],\n",
       "  [2450, 3050],\n",
       "  [170, 750]]}"
      ]
     },
     "execution_count": 7,
     "metadata": {},
     "output_type": "execute_result"
    }
   ],
   "source": [
    "deri_loops_dict = {\n",
    "    file_list[0]:\n",
    "        [\n",
    "            [180, 300+1050],\n",
    "            [520,750+550],\n",
    "            [850, 1050+350],\n",
    "            [1260, 1400+350]\n",
    "        ],\n",
    "    file_list[1]:\n",
    "        [\n",
    "            [70,150+290],\n",
    "            [350, 450+140],\n",
    "            \n",
    "        ],\n",
    "    file_list[2]:\n",
    "    [\n",
    "        [750, 900+335],\n",
    "        [750, 950+1250],\n",
    "        [750, 750 + 725],\n",
    "        [2220, 3000+100],\n",
    "        [1550, 1700+800],\n",
    "        [3280, 3400+280]\n",
    "    ],\n",
    "    file_list[3]:\n",
    "        [\n",
    "            [300, 800],\n",
    "            [1300, 1350+570],\n",
    "            [2200, 2500+225],\n",
    "            [2410, 2700+370],\n",
    "            [2450, 2500+550],\n",
    "            [170, 250+500],\n",
    "            \n",
    "    \n",
    "        ]      \n",
    "}\n",
    "loops_dict"
   ]
  },
  {
   "cell_type": "code",
   "execution_count": 22,
   "metadata": {},
   "outputs": [
    {
     "name": "stdout",
     "output_type": "stream",
     "text": [
      "[[350, 700]]\n",
      "I need to set attribute 'isDe3' before continuing\n"
     ]
    },
    {
     "name": "stderr",
     "output_type": "stream",
     "text": [
      "c:\\users\\agus\\appdata\\local\\programs\\python\\python36\\lib\\site-packages\\findiff\\findiff.py:242: FutureWarning: Using a non-tuple sequence for multidimensional indexing is deprecated; use `arr[tuple(seq)]` instead of `arr[seq]`. In the future this will be interpreted as an array index, `arr[np.array(seq)]`, which will result either in an error or a different result.\n",
      "  yd[ref_multi_slice] += w * y[off_multi_slice]\n",
      "c:\\users\\agus\\appdata\\local\\programs\\python\\python36\\lib\\site-packages\\findiff\\findiff.py:240: FutureWarning: Using a non-tuple sequence for multidimensional indexing is deprecated; use `arr[tuple(seq)]` instead of `arr[seq]`. In the future this will be interpreted as an array index, `arr[np.array(seq)]`, which will result either in an error or a different result.\n",
      "  yd[ref_multi_slice] += y[off_multi_slice]\n"
     ]
    },
    {
     "name": "stdout",
     "output_type": "stream",
     "text": [
      "[[360, 520]]\n"
     ]
    },
    {
     "name": "stderr",
     "output_type": "stream",
     "text": [
      "c:\\users\\agus\\appdata\\local\\programs\\python\\python36\\lib\\site-packages\\findiff\\findiff.py:242: FutureWarning: Using a non-tuple sequence for multidimensional indexing is deprecated; use `arr[tuple(seq)]` instead of `arr[seq]`. In the future this will be interpreted as an array index, `arr[np.array(seq)]`, which will result either in an error or a different result.\n",
      "  yd[ref_multi_slice] += w * y[off_multi_slice]\n",
      "c:\\users\\agus\\appdata\\local\\programs\\python\\python36\\lib\\site-packages\\findiff\\findiff.py:240: FutureWarning: Using a non-tuple sequence for multidimensional indexing is deprecated; use `arr[tuple(seq)]` instead of `arr[seq]`. In the future this will be interpreted as an array index, `arr[np.array(seq)]`, which will result either in an error or a different result.\n",
      "  yd[ref_multi_slice] += y[off_multi_slice]\n"
     ]
    },
    {
     "name": "stdout",
     "output_type": "stream",
     "text": [
      "[[325, 700]]\n"
     ]
    },
    {
     "name": "stderr",
     "output_type": "stream",
     "text": [
      "c:\\users\\agus\\appdata\\local\\programs\\python\\python36\\lib\\site-packages\\findiff\\findiff.py:242: FutureWarning: Using a non-tuple sequence for multidimensional indexing is deprecated; use `arr[tuple(seq)]` instead of `arr[seq]`. In the future this will be interpreted as an array index, `arr[np.array(seq)]`, which will result either in an error or a different result.\n",
      "  yd[ref_multi_slice] += w * y[off_multi_slice]\n",
      "c:\\users\\agus\\appdata\\local\\programs\\python\\python36\\lib\\site-packages\\findiff\\findiff.py:240: FutureWarning: Using a non-tuple sequence for multidimensional indexing is deprecated; use `arr[tuple(seq)]` instead of `arr[seq]`. In the future this will be interpreted as an array index, `arr[np.array(seq)]`, which will result either in an error or a different result.\n",
      "  yd[ref_multi_slice] += y[off_multi_slice]\n"
     ]
    },
    {
     "name": "stdout",
     "output_type": "stream",
     "text": [
      "[[350, 623], [662, 818]]\n"
     ]
    },
    {
     "name": "stderr",
     "output_type": "stream",
     "text": [
      "c:\\users\\agus\\appdata\\local\\programs\\python\\python36\\lib\\site-packages\\findiff\\findiff.py:242: FutureWarning: Using a non-tuple sequence for multidimensional indexing is deprecated; use `arr[tuple(seq)]` instead of `arr[seq]`. In the future this will be interpreted as an array index, `arr[np.array(seq)]`, which will result either in an error or a different result.\n",
      "  yd[ref_multi_slice] += w * y[off_multi_slice]\n",
      "c:\\users\\agus\\appdata\\local\\programs\\python\\python36\\lib\\site-packages\\findiff\\findiff.py:240: FutureWarning: Using a non-tuple sequence for multidimensional indexing is deprecated; use `arr[tuple(seq)]` instead of `arr[seq]`. In the future this will be interpreted as an array index, `arr[np.array(seq)]`, which will result either in an error or a different result.\n",
      "  yd[ref_multi_slice] += y[off_multi_slice]\n"
     ]
    }
   ],
   "source": [
    "for fn in file_list:\n",
    "    arr_dict, time_vector, fs = abfe.getArraysFromAbfFiles(fn, ['Vm1'])\n",
    "    NS = arr_dict['Vm1']\n",
    "    del arr_dict\n",
    "\n",
    "\n",
    "    NS[(NS > -20) | (NS < -60)] = np.median(NS)\n",
    "    good_neurons = [neuron for neuron, neuron_dict in cdd[fn]['neurons'].items() if neuron_dict['neuron_is_good']]\n",
    "\n",
    "    crawling_intervals = cdd[fn]['crawling_intervals']\n",
    "    print(crawling_intervals)\n",
    "\n",
    "    burst_obj = bStorerLoader.UnitInfo(fn, 'RegistrosDP_PP', mode='load')\n",
    "    \n",
    "\n",
    "\n",
    "    new_sfd = burstUtils.removeOutliers(burst_obj.spike_freq_dict, 5)\n",
    "    binned_sfd = burstUtils.digitizeSpikeFreqs(new_sfd, binning_dt, time_vector[-1], count=False)\n",
    "    cut_binned_freq_array = burstUtils.binned_spike_freq_dict_ToArray(binned_sfd, crawling_intervals, good_neurons)\n",
    "    \n",
    "    \n",
    "    kernel = NLD.generateGaussianKernel(sigma=kernel_sigma, time_range=20, dt_step=binning_dt)\n",
    "    smoothed_sfd = {}\n",
    "    for key, items in binned_sfd.items():\n",
    "        smoothed_sfd[key] = np.array([items[0], spsig.fftconvolve(items[1], kernel, mode='same')])\n",
    "\n",
    "    \n",
    "    \n",
    "    step = int(binning_dt * fs)\n",
    "    neuron_idxs = []\n",
    "    for interval in crawling_intervals:\n",
    "        neuron_idxs.append(np.where((time_vector > interval[0]) & (time_vector < interval[1]))[0][::step])\n",
    "    neuron_idxs = np.hstack(neuron_idxs)\n",
    "\n",
    "    neuron_cut_time = time_vector[neuron_idxs]\n",
    "\n",
    "    kernel = NLD.generateGaussianKernel(sigma=kernel_sigma, time_range=30, dt_step=1 / fs)\n",
    "    conv_NS = spsig.fftconvolve(NS, kernel, mode='same')\n",
    "    cut_NS = conv_NS[neuron_idxs]\n",
    "\n",
    "    \n",
    "    NS_embedding = NLD.getDerivativeEmbedding(cut_NS, 0.1, 3)\n",
    "    jumps = np.where(np.diff(neuron_idxs) != np.diff(neuron_idxs)[0])[0]\n",
    "    if len(jumps) > 0:\n",
    "        NS_embedding[jumps] = np.nan\n",
    "        NS_embedding[jumps + 1] = np.nan\n",
    "    \n",
    "    scaler = StandardScaler()\n",
    "    NS_embedding = scaler.fit_transform(NS_embedding)\n",
    "    \n",
    "#     NLD.plot3Dline(NS_embedding)\n",
    "    rt1 = NLD.getCloseReturns(NS_embedding)\n",
    "\n",
    "\n",
    "    for pair in loops_dict[fn]:\n",
    "        fig, ax = NLD.plot3Dline(NS_embedding[pair[0]:pair[1]])\n",
    "        ax.set_title(fn + '\\n' + str(pair[0]) + '-' + str(pair[1]))"
   ]
  },
  {
   "cell_type": "markdown",
   "metadata": {},
   "source": [
    "#### Neuronas"
   ]
  },
  {
   "cell_type": "code",
   "execution_count": null,
   "metadata": {},
   "outputs": [
    {
     "name": "stdout",
     "output_type": "stream",
     "text": [
      "[[350, 700]]\n",
      "I need to set attribute 'isDe3' before continuing\n"
     ]
    },
    {
     "name": "stderr",
     "output_type": "stream",
     "text": [
      "c:\\users\\agus\\appdata\\local\\programs\\python\\python36\\lib\\site-packages\\findiff\\findiff.py:242: FutureWarning: Using a non-tuple sequence for multidimensional indexing is deprecated; use `arr[tuple(seq)]` instead of `arr[seq]`. In the future this will be interpreted as an array index, `arr[np.array(seq)]`, which will result either in an error or a different result.\n",
      "  yd[ref_multi_slice] += w * y[off_multi_slice]\n",
      "c:\\users\\agus\\appdata\\local\\programs\\python\\python36\\lib\\site-packages\\findiff\\findiff.py:240: FutureWarning: Using a non-tuple sequence for multidimensional indexing is deprecated; use `arr[tuple(seq)]` instead of `arr[seq]`. In the future this will be interpreted as an array index, `arr[np.array(seq)]`, which will result either in an error or a different result.\n",
      "  yd[ref_multi_slice] += y[off_multi_slice]\n"
     ]
    },
    {
     "name": "stdout",
     "output_type": "stream",
     "text": [
      "returning reordered matrix\n"
     ]
    },
    {
     "name": "stderr",
     "output_type": "stream",
     "text": [
      "c:\\users\\agus\\appdata\\local\\programs\\python\\python36\\lib\\site-packages\\findiff\\findiff.py:242: FutureWarning: Using a non-tuple sequence for multidimensional indexing is deprecated; use `arr[tuple(seq)]` instead of `arr[seq]`. In the future this will be interpreted as an array index, `arr[np.array(seq)]`, which will result either in an error or a different result.\n",
      "  yd[ref_multi_slice] += w * y[off_multi_slice]\n",
      "c:\\users\\agus\\appdata\\local\\programs\\python\\python36\\lib\\site-packages\\findiff\\findiff.py:240: FutureWarning: Using a non-tuple sequence for multidimensional indexing is deprecated; use `arr[tuple(seq)]` instead of `arr[seq]`. In the future this will be interpreted as an array index, `arr[np.array(seq)]`, which will result either in an error or a different result.\n",
      "  yd[ref_multi_slice] += y[off_multi_slice]\n"
     ]
    },
    {
     "name": "stdout",
     "output_type": "stream",
     "text": [
      "returning reordered matrix\n"
     ]
    },
    {
     "name": "stderr",
     "output_type": "stream",
     "text": [
      "c:\\users\\agus\\appdata\\local\\programs\\python\\python36\\lib\\site-packages\\findiff\\findiff.py:242: FutureWarning: Using a non-tuple sequence for multidimensional indexing is deprecated; use `arr[tuple(seq)]` instead of `arr[seq]`. In the future this will be interpreted as an array index, `arr[np.array(seq)]`, which will result either in an error or a different result.\n",
      "  yd[ref_multi_slice] += w * y[off_multi_slice]\n",
      "c:\\users\\agus\\appdata\\local\\programs\\python\\python36\\lib\\site-packages\\findiff\\findiff.py:240: FutureWarning: Using a non-tuple sequence for multidimensional indexing is deprecated; use `arr[tuple(seq)]` instead of `arr[seq]`. In the future this will be interpreted as an array index, `arr[np.array(seq)]`, which will result either in an error or a different result.\n",
      "  yd[ref_multi_slice] += y[off_multi_slice]\n"
     ]
    },
    {
     "name": "stdout",
     "output_type": "stream",
     "text": [
      "returning reordered matrix\n"
     ]
    },
    {
     "name": "stderr",
     "output_type": "stream",
     "text": [
      "c:\\users\\agus\\appdata\\local\\programs\\python\\python36\\lib\\site-packages\\findiff\\findiff.py:242: FutureWarning: Using a non-tuple sequence for multidimensional indexing is deprecated; use `arr[tuple(seq)]` instead of `arr[seq]`. In the future this will be interpreted as an array index, `arr[np.array(seq)]`, which will result either in an error or a different result.\n",
      "  yd[ref_multi_slice] += w * y[off_multi_slice]\n",
      "c:\\users\\agus\\appdata\\local\\programs\\python\\python36\\lib\\site-packages\\findiff\\findiff.py:240: FutureWarning: Using a non-tuple sequence for multidimensional indexing is deprecated; use `arr[tuple(seq)]` instead of `arr[seq]`. In the future this will be interpreted as an array index, `arr[np.array(seq)]`, which will result either in an error or a different result.\n",
      "  yd[ref_multi_slice] += y[off_multi_slice]\n"
     ]
    },
    {
     "name": "stdout",
     "output_type": "stream",
     "text": [
      "returning reordered matrix\n",
      "[[360, 520]]\n"
     ]
    },
    {
     "name": "stderr",
     "output_type": "stream",
     "text": [
      "c:\\users\\agus\\appdata\\local\\programs\\python\\python36\\lib\\site-packages\\findiff\\findiff.py:242: FutureWarning: Using a non-tuple sequence for multidimensional indexing is deprecated; use `arr[tuple(seq)]` instead of `arr[seq]`. In the future this will be interpreted as an array index, `arr[np.array(seq)]`, which will result either in an error or a different result.\n",
      "  yd[ref_multi_slice] += w * y[off_multi_slice]\n",
      "c:\\users\\agus\\appdata\\local\\programs\\python\\python36\\lib\\site-packages\\findiff\\findiff.py:240: FutureWarning: Using a non-tuple sequence for multidimensional indexing is deprecated; use `arr[tuple(seq)]` instead of `arr[seq]`. In the future this will be interpreted as an array index, `arr[np.array(seq)]`, which will result either in an error or a different result.\n",
      "  yd[ref_multi_slice] += y[off_multi_slice]\n"
     ]
    },
    {
     "name": "stdout",
     "output_type": "stream",
     "text": [
      "returning reordered matrix\n"
     ]
    },
    {
     "name": "stderr",
     "output_type": "stream",
     "text": [
      "c:\\users\\agus\\appdata\\local\\programs\\python\\python36\\lib\\site-packages\\findiff\\findiff.py:242: FutureWarning: Using a non-tuple sequence for multidimensional indexing is deprecated; use `arr[tuple(seq)]` instead of `arr[seq]`. In the future this will be interpreted as an array index, `arr[np.array(seq)]`, which will result either in an error or a different result.\n",
      "  yd[ref_multi_slice] += w * y[off_multi_slice]\n",
      "c:\\users\\agus\\appdata\\local\\programs\\python\\python36\\lib\\site-packages\\findiff\\findiff.py:240: FutureWarning: Using a non-tuple sequence for multidimensional indexing is deprecated; use `arr[tuple(seq)]` instead of `arr[seq]`. In the future this will be interpreted as an array index, `arr[np.array(seq)]`, which will result either in an error or a different result.\n",
      "  yd[ref_multi_slice] += y[off_multi_slice]\n"
     ]
    },
    {
     "name": "stdout",
     "output_type": "stream",
     "text": [
      "returning reordered matrix\n"
     ]
    },
    {
     "name": "stderr",
     "output_type": "stream",
     "text": [
      "c:\\users\\agus\\appdata\\local\\programs\\python\\python36\\lib\\site-packages\\findiff\\findiff.py:242: FutureWarning: Using a non-tuple sequence for multidimensional indexing is deprecated; use `arr[tuple(seq)]` instead of `arr[seq]`. In the future this will be interpreted as an array index, `arr[np.array(seq)]`, which will result either in an error or a different result.\n",
      "  yd[ref_multi_slice] += w * y[off_multi_slice]\n",
      "c:\\users\\agus\\appdata\\local\\programs\\python\\python36\\lib\\site-packages\\findiff\\findiff.py:240: FutureWarning: Using a non-tuple sequence for multidimensional indexing is deprecated; use `arr[tuple(seq)]` instead of `arr[seq]`. In the future this will be interpreted as an array index, `arr[np.array(seq)]`, which will result either in an error or a different result.\n",
      "  yd[ref_multi_slice] += y[off_multi_slice]\n",
      "c:\\users\\agus\\appdata\\local\\programs\\python\\python36\\lib\\site-packages\\matplotlib\\pyplot.py:513: RuntimeWarning: More than 20 figures have been opened. Figures created through the pyplot interface (`matplotlib.pyplot.figure`) are retained until explicitly closed and may consume too much memory. (To control this warning, see the rcParam `figure.max_open_warning`).\n",
      "  max_open_warning, RuntimeWarning)\n"
     ]
    },
    {
     "name": "stdout",
     "output_type": "stream",
     "text": [
      "returning reordered matrix\n"
     ]
    },
    {
     "name": "stderr",
     "output_type": "stream",
     "text": [
      "c:\\users\\agus\\appdata\\local\\programs\\python\\python36\\lib\\site-packages\\findiff\\findiff.py:242: FutureWarning: Using a non-tuple sequence for multidimensional indexing is deprecated; use `arr[tuple(seq)]` instead of `arr[seq]`. In the future this will be interpreted as an array index, `arr[np.array(seq)]`, which will result either in an error or a different result.\n",
      "  yd[ref_multi_slice] += w * y[off_multi_slice]\n",
      "c:\\users\\agus\\appdata\\local\\programs\\python\\python36\\lib\\site-packages\\findiff\\findiff.py:240: FutureWarning: Using a non-tuple sequence for multidimensional indexing is deprecated; use `arr[tuple(seq)]` instead of `arr[seq]`. In the future this will be interpreted as an array index, `arr[np.array(seq)]`, which will result either in an error or a different result.\n",
      "  yd[ref_multi_slice] += y[off_multi_slice]\n",
      "c:\\users\\agus\\appdata\\local\\programs\\python\\python36\\lib\\site-packages\\matplotlib\\pyplot.py:513: RuntimeWarning: More than 20 figures have been opened. Figures created through the pyplot interface (`matplotlib.pyplot.figure`) are retained until explicitly closed and may consume too much memory. (To control this warning, see the rcParam `figure.max_open_warning`).\n",
      "  max_open_warning, RuntimeWarning)\n"
     ]
    },
    {
     "name": "stdout",
     "output_type": "stream",
     "text": [
      "returning reordered matrix\n"
     ]
    },
    {
     "name": "stderr",
     "output_type": "stream",
     "text": [
      "c:\\users\\agus\\appdata\\local\\programs\\python\\python36\\lib\\site-packages\\findiff\\findiff.py:242: FutureWarning: Using a non-tuple sequence for multidimensional indexing is deprecated; use `arr[tuple(seq)]` instead of `arr[seq]`. In the future this will be interpreted as an array index, `arr[np.array(seq)]`, which will result either in an error or a different result.\n",
      "  yd[ref_multi_slice] += w * y[off_multi_slice]\n",
      "c:\\users\\agus\\appdata\\local\\programs\\python\\python36\\lib\\site-packages\\findiff\\findiff.py:240: FutureWarning: Using a non-tuple sequence for multidimensional indexing is deprecated; use `arr[tuple(seq)]` instead of `arr[seq]`. In the future this will be interpreted as an array index, `arr[np.array(seq)]`, which will result either in an error or a different result.\n",
      "  yd[ref_multi_slice] += y[off_multi_slice]\n",
      "c:\\users\\agus\\appdata\\local\\programs\\python\\python36\\lib\\site-packages\\matplotlib\\pyplot.py:513: RuntimeWarning: More than 20 figures have been opened. Figures created through the pyplot interface (`matplotlib.pyplot.figure`) are retained until explicitly closed and may consume too much memory. (To control this warning, see the rcParam `figure.max_open_warning`).\n",
      "  max_open_warning, RuntimeWarning)\n"
     ]
    },
    {
     "name": "stdout",
     "output_type": "stream",
     "text": [
      "returning reordered matrix\n"
     ]
    },
    {
     "name": "stderr",
     "output_type": "stream",
     "text": [
      "c:\\users\\agus\\appdata\\local\\programs\\python\\python36\\lib\\site-packages\\findiff\\findiff.py:242: FutureWarning: Using a non-tuple sequence for multidimensional indexing is deprecated; use `arr[tuple(seq)]` instead of `arr[seq]`. In the future this will be interpreted as an array index, `arr[np.array(seq)]`, which will result either in an error or a different result.\n",
      "  yd[ref_multi_slice] += w * y[off_multi_slice]\n",
      "c:\\users\\agus\\appdata\\local\\programs\\python\\python36\\lib\\site-packages\\findiff\\findiff.py:240: FutureWarning: Using a non-tuple sequence for multidimensional indexing is deprecated; use `arr[tuple(seq)]` instead of `arr[seq]`. In the future this will be interpreted as an array index, `arr[np.array(seq)]`, which will result either in an error or a different result.\n",
      "  yd[ref_multi_slice] += y[off_multi_slice]\n",
      "c:\\users\\agus\\appdata\\local\\programs\\python\\python36\\lib\\site-packages\\matplotlib\\pyplot.py:513: RuntimeWarning: More than 20 figures have been opened. Figures created through the pyplot interface (`matplotlib.pyplot.figure`) are retained until explicitly closed and may consume too much memory. (To control this warning, see the rcParam `figure.max_open_warning`).\n",
      "  max_open_warning, RuntimeWarning)\n"
     ]
    },
    {
     "name": "stdout",
     "output_type": "stream",
     "text": [
      "returning reordered matrix\n"
     ]
    },
    {
     "name": "stderr",
     "output_type": "stream",
     "text": [
      "c:\\users\\agus\\appdata\\local\\programs\\python\\python36\\lib\\site-packages\\findiff\\findiff.py:242: FutureWarning: Using a non-tuple sequence for multidimensional indexing is deprecated; use `arr[tuple(seq)]` instead of `arr[seq]`. In the future this will be interpreted as an array index, `arr[np.array(seq)]`, which will result either in an error or a different result.\n",
      "  yd[ref_multi_slice] += w * y[off_multi_slice]\n",
      "c:\\users\\agus\\appdata\\local\\programs\\python\\python36\\lib\\site-packages\\findiff\\findiff.py:240: FutureWarning: Using a non-tuple sequence for multidimensional indexing is deprecated; use `arr[tuple(seq)]` instead of `arr[seq]`. In the future this will be interpreted as an array index, `arr[np.array(seq)]`, which will result either in an error or a different result.\n",
      "  yd[ref_multi_slice] += y[off_multi_slice]\n",
      "c:\\users\\agus\\appdata\\local\\programs\\python\\python36\\lib\\site-packages\\matplotlib\\pyplot.py:513: RuntimeWarning: More than 20 figures have been opened. Figures created through the pyplot interface (`matplotlib.pyplot.figure`) are retained until explicitly closed and may consume too much memory. (To control this warning, see the rcParam `figure.max_open_warning`).\n",
      "  max_open_warning, RuntimeWarning)\n"
     ]
    },
    {
     "name": "stdout",
     "output_type": "stream",
     "text": [
      "returning reordered matrix\n"
     ]
    },
    {
     "name": "stderr",
     "output_type": "stream",
     "text": [
      "c:\\users\\agus\\appdata\\local\\programs\\python\\python36\\lib\\site-packages\\findiff\\findiff.py:242: FutureWarning: Using a non-tuple sequence for multidimensional indexing is deprecated; use `arr[tuple(seq)]` instead of `arr[seq]`. In the future this will be interpreted as an array index, `arr[np.array(seq)]`, which will result either in an error or a different result.\n",
      "  yd[ref_multi_slice] += w * y[off_multi_slice]\n",
      "c:\\users\\agus\\appdata\\local\\programs\\python\\python36\\lib\\site-packages\\findiff\\findiff.py:240: FutureWarning: Using a non-tuple sequence for multidimensional indexing is deprecated; use `arr[tuple(seq)]` instead of `arr[seq]`. In the future this will be interpreted as an array index, `arr[np.array(seq)]`, which will result either in an error or a different result.\n",
      "  yd[ref_multi_slice] += y[off_multi_slice]\n",
      "c:\\users\\agus\\appdata\\local\\programs\\python\\python36\\lib\\site-packages\\matplotlib\\pyplot.py:513: RuntimeWarning: More than 20 figures have been opened. Figures created through the pyplot interface (`matplotlib.pyplot.figure`) are retained until explicitly closed and may consume too much memory. (To control this warning, see the rcParam `figure.max_open_warning`).\n",
      "  max_open_warning, RuntimeWarning)\n"
     ]
    },
    {
     "name": "stdout",
     "output_type": "stream",
     "text": [
      "returning reordered matrix\n"
     ]
    },
    {
     "name": "stderr",
     "output_type": "stream",
     "text": [
      "c:\\users\\agus\\appdata\\local\\programs\\python\\python36\\lib\\site-packages\\findiff\\findiff.py:242: FutureWarning: Using a non-tuple sequence for multidimensional indexing is deprecated; use `arr[tuple(seq)]` instead of `arr[seq]`. In the future this will be interpreted as an array index, `arr[np.array(seq)]`, which will result either in an error or a different result.\n",
      "  yd[ref_multi_slice] += w * y[off_multi_slice]\n",
      "c:\\users\\agus\\appdata\\local\\programs\\python\\python36\\lib\\site-packages\\findiff\\findiff.py:240: FutureWarning: Using a non-tuple sequence for multidimensional indexing is deprecated; use `arr[tuple(seq)]` instead of `arr[seq]`. In the future this will be interpreted as an array index, `arr[np.array(seq)]`, which will result either in an error or a different result.\n",
      "  yd[ref_multi_slice] += y[off_multi_slice]\n",
      "c:\\users\\agus\\appdata\\local\\programs\\python\\python36\\lib\\site-packages\\matplotlib\\pyplot.py:513: RuntimeWarning: More than 20 figures have been opened. Figures created through the pyplot interface (`matplotlib.pyplot.figure`) are retained until explicitly closed and may consume too much memory. (To control this warning, see the rcParam `figure.max_open_warning`).\n",
      "  max_open_warning, RuntimeWarning)\n"
     ]
    },
    {
     "name": "stdout",
     "output_type": "stream",
     "text": [
      "returning reordered matrix\n"
     ]
    },
    {
     "name": "stderr",
     "output_type": "stream",
     "text": [
      "c:\\users\\agus\\appdata\\local\\programs\\python\\python36\\lib\\site-packages\\findiff\\findiff.py:242: FutureWarning: Using a non-tuple sequence for multidimensional indexing is deprecated; use `arr[tuple(seq)]` instead of `arr[seq]`. In the future this will be interpreted as an array index, `arr[np.array(seq)]`, which will result either in an error or a different result.\n",
      "  yd[ref_multi_slice] += w * y[off_multi_slice]\n",
      "c:\\users\\agus\\appdata\\local\\programs\\python\\python36\\lib\\site-packages\\findiff\\findiff.py:240: FutureWarning: Using a non-tuple sequence for multidimensional indexing is deprecated; use `arr[tuple(seq)]` instead of `arr[seq]`. In the future this will be interpreted as an array index, `arr[np.array(seq)]`, which will result either in an error or a different result.\n",
      "  yd[ref_multi_slice] += y[off_multi_slice]\n",
      "c:\\users\\agus\\appdata\\local\\programs\\python\\python36\\lib\\site-packages\\matplotlib\\pyplot.py:513: RuntimeWarning: More than 20 figures have been opened. Figures created through the pyplot interface (`matplotlib.pyplot.figure`) are retained until explicitly closed and may consume too much memory. (To control this warning, see the rcParam `figure.max_open_warning`).\n",
      "  max_open_warning, RuntimeWarning)\n"
     ]
    },
    {
     "name": "stdout",
     "output_type": "stream",
     "text": [
      "returning reordered matrix\n"
     ]
    },
    {
     "name": "stderr",
     "output_type": "stream",
     "text": [
      "c:\\users\\agus\\appdata\\local\\programs\\python\\python36\\lib\\site-packages\\findiff\\findiff.py:242: FutureWarning: Using a non-tuple sequence for multidimensional indexing is deprecated; use `arr[tuple(seq)]` instead of `arr[seq]`. In the future this will be interpreted as an array index, `arr[np.array(seq)]`, which will result either in an error or a different result.\n",
      "  yd[ref_multi_slice] += w * y[off_multi_slice]\n",
      "c:\\users\\agus\\appdata\\local\\programs\\python\\python36\\lib\\site-packages\\findiff\\findiff.py:240: FutureWarning: Using a non-tuple sequence for multidimensional indexing is deprecated; use `arr[tuple(seq)]` instead of `arr[seq]`. In the future this will be interpreted as an array index, `arr[np.array(seq)]`, which will result either in an error or a different result.\n",
      "  yd[ref_multi_slice] += y[off_multi_slice]\n",
      "c:\\users\\agus\\appdata\\local\\programs\\python\\python36\\lib\\site-packages\\matplotlib\\pyplot.py:513: RuntimeWarning: More than 20 figures have been opened. Figures created through the pyplot interface (`matplotlib.pyplot.figure`) are retained until explicitly closed and may consume too much memory. (To control this warning, see the rcParam `figure.max_open_warning`).\n",
      "  max_open_warning, RuntimeWarning)\n"
     ]
    },
    {
     "name": "stdout",
     "output_type": "stream",
     "text": [
      "returning reordered matrix\n"
     ]
    },
    {
     "name": "stderr",
     "output_type": "stream",
     "text": [
      "c:\\users\\agus\\appdata\\local\\programs\\python\\python36\\lib\\site-packages\\findiff\\findiff.py:242: FutureWarning: Using a non-tuple sequence for multidimensional indexing is deprecated; use `arr[tuple(seq)]` instead of `arr[seq]`. In the future this will be interpreted as an array index, `arr[np.array(seq)]`, which will result either in an error or a different result.\n",
      "  yd[ref_multi_slice] += w * y[off_multi_slice]\n",
      "c:\\users\\agus\\appdata\\local\\programs\\python\\python36\\lib\\site-packages\\findiff\\findiff.py:240: FutureWarning: Using a non-tuple sequence for multidimensional indexing is deprecated; use `arr[tuple(seq)]` instead of `arr[seq]`. In the future this will be interpreted as an array index, `arr[np.array(seq)]`, which will result either in an error or a different result.\n",
      "  yd[ref_multi_slice] += y[off_multi_slice]\n",
      "c:\\users\\agus\\appdata\\local\\programs\\python\\python36\\lib\\site-packages\\matplotlib\\pyplot.py:513: RuntimeWarning: More than 20 figures have been opened. Figures created through the pyplot interface (`matplotlib.pyplot.figure`) are retained until explicitly closed and may consume too much memory. (To control this warning, see the rcParam `figure.max_open_warning`).\n",
      "  max_open_warning, RuntimeWarning)\n"
     ]
    },
    {
     "name": "stdout",
     "output_type": "stream",
     "text": [
      "returning reordered matrix\n"
     ]
    },
    {
     "name": "stderr",
     "output_type": "stream",
     "text": [
      "c:\\users\\agus\\appdata\\local\\programs\\python\\python36\\lib\\site-packages\\findiff\\findiff.py:242: FutureWarning: Using a non-tuple sequence for multidimensional indexing is deprecated; use `arr[tuple(seq)]` instead of `arr[seq]`. In the future this will be interpreted as an array index, `arr[np.array(seq)]`, which will result either in an error or a different result.\n",
      "  yd[ref_multi_slice] += w * y[off_multi_slice]\n",
      "c:\\users\\agus\\appdata\\local\\programs\\python\\python36\\lib\\site-packages\\findiff\\findiff.py:240: FutureWarning: Using a non-tuple sequence for multidimensional indexing is deprecated; use `arr[tuple(seq)]` instead of `arr[seq]`. In the future this will be interpreted as an array index, `arr[np.array(seq)]`, which will result either in an error or a different result.\n",
      "  yd[ref_multi_slice] += y[off_multi_slice]\n",
      "c:\\users\\agus\\appdata\\local\\programs\\python\\python36\\lib\\site-packages\\matplotlib\\pyplot.py:513: RuntimeWarning: More than 20 figures have been opened. Figures created through the pyplot interface (`matplotlib.pyplot.figure`) are retained until explicitly closed and may consume too much memory. (To control this warning, see the rcParam `figure.max_open_warning`).\n",
      "  max_open_warning, RuntimeWarning)\n"
     ]
    },
    {
     "name": "stdout",
     "output_type": "stream",
     "text": [
      "returning reordered matrix\n"
     ]
    },
    {
     "name": "stderr",
     "output_type": "stream",
     "text": [
      "c:\\users\\agus\\appdata\\local\\programs\\python\\python36\\lib\\site-packages\\findiff\\findiff.py:242: FutureWarning: Using a non-tuple sequence for multidimensional indexing is deprecated; use `arr[tuple(seq)]` instead of `arr[seq]`. In the future this will be interpreted as an array index, `arr[np.array(seq)]`, which will result either in an error or a different result.\n",
      "  yd[ref_multi_slice] += w * y[off_multi_slice]\n",
      "c:\\users\\agus\\appdata\\local\\programs\\python\\python36\\lib\\site-packages\\findiff\\findiff.py:240: FutureWarning: Using a non-tuple sequence for multidimensional indexing is deprecated; use `arr[tuple(seq)]` instead of `arr[seq]`. In the future this will be interpreted as an array index, `arr[np.array(seq)]`, which will result either in an error or a different result.\n",
      "  yd[ref_multi_slice] += y[off_multi_slice]\n",
      "c:\\users\\agus\\appdata\\local\\programs\\python\\python36\\lib\\site-packages\\matplotlib\\pyplot.py:513: RuntimeWarning: More than 20 figures have been opened. Figures created through the pyplot interface (`matplotlib.pyplot.figure`) are retained until explicitly closed and may consume too much memory. (To control this warning, see the rcParam `figure.max_open_warning`).\n",
      "  max_open_warning, RuntimeWarning)\n"
     ]
    },
    {
     "name": "stdout",
     "output_type": "stream",
     "text": [
      "returning reordered matrix\n"
     ]
    }
   ],
   "source": [
    "for fn in file_list:\n",
    "    arr_dict, time_vector, fs = abfe.getArraysFromAbfFiles(fn, ['Vm1'])\n",
    "    NS = arr_dict['Vm1']\n",
    "    del arr_dict\n",
    "\n",
    "\n",
    "    NS[(NS > -20) | (NS < -60)] = np.median(NS)\n",
    "    good_neurons = [neuron for neuron, neuron_dict in cdd[fn]['neurons'].items() if neuron_dict['neuron_is_good']]\n",
    "\n",
    "    crawling_intervals = cdd[fn]['crawling_intervals']\n",
    "    print(crawling_intervals)\n",
    "\n",
    "    burst_obj = bStorerLoader.UnitInfo(fn, 'RegistrosDP_PP', mode='load')\n",
    "    \n",
    "    binning_dt = 0.1\n",
    "    kernel_sigma = 1\n",
    "    \n",
    "    new_sfd = burstUtils.removeOutliers(burst_obj.spike_freq_dict, 5)\n",
    "    binned_sfd = burstUtils.digitizeSpikeFreqs(new_sfd, binning_dt, time_vector[-1], count=False)\n",
    "    cut_binned_freq_array = burstUtils.binned_spike_freq_dict_ToArray(binned_sfd, crawling_intervals, good_neurons)\n",
    "    \n",
    "    \n",
    "    kernel = NLD.generateGaussianKernel(sigma=kernel_sigma, time_range=20, dt_step=binning_dt)\n",
    "    smoothed_sfd = {}\n",
    "    for key, items in binned_sfd.items():\n",
    "        smoothed_sfd[key] = np.array([items[0], spsig.fftconvolve(items[1], kernel, mode='same')])\n",
    "    \n",
    "    step = int(binning_dt * fs)\n",
    "    neuron_idxs = []\n",
    "    for interval in crawling_intervals:\n",
    "        neuron_idxs.append(np.where((time_vector > interval[0]) & (time_vector < interval[1]))[0][::step])\n",
    "    neuron_idxs = np.hstack(neuron_idxs)\n",
    "\n",
    "    neuron_cut_time = time_vector[neuron_idxs]\n",
    "\n",
    "    kernel = NLD.generateGaussianKernel(sigma=kernel_sigma, time_range=30, dt_step=1 / fs)\n",
    "    conv_NS = spsig.fftconvolve(NS, kernel, mode='same')\n",
    "    cut_NS = conv_NS[neuron_idxs]\n",
    "\n",
    "    fig, axes = burstUtils.plotFreq(smoothed_sfd, color_dict=burst_obj.color_dict,\n",
    "                                    template_dict=burst_obj.template_dict, scatter_plot=False,\n",
    "                                    optional_trace=[time_vector[::int(step / 4)], conv_NS[::int(step / 4)]],\n",
    "                                    outlier_thres=None, ms=4)\n",
    "    fig.suptitle(fn)\n",
    "    for key, items in smoothed_sfd.items():\n",
    "        if cdd[fn]['neurons'][key]['neuron_is_good']:\n",
    "            embedding = NLD.getDerivativeEmbedding(items[1], 0.1, 3)\n",
    "            jumps = np.where(np.diff(neuron_idxs) != np.diff(neuron_idxs)[0])[0]\n",
    "            if len(jumps) > 0:\n",
    "                NS_embedding[jumps] = np.nan\n",
    "                NS_embedding[jumps + 1] = np.nan\n",
    "\n",
    "            scaler = StandardScaler()\n",
    "            embedding = scaler.fit_transform(embedding)\n",
    "\n",
    "            fig, ax = NLD.plot3Dline(NS_embedding)\n",
    "            fig.suptitle(fn + '\\n' + str(key))\n",
    "    #     NS_embedding = NLD.getTraceEmbedding(cut_NS[:], int(1.2 / .1), 3)\n",
    "            rt1 = NLD.getCloseReturns(NS_embedding)\n",
    "\n",
    "    #     reord_rt, fig1, ax1, \n",
    "            rt, fig1, ax1, fig2, ax2 = NLD.plotCloseReturns(rt1, get_counts=True, reorder=True, masked=False, thr=.1, return_reordered=True)\n",
    "    #     fig1.suptitle(fn)\n",
    "            fig2.suptitle(fn + '\\n' + str(key))"
   ]
  },
  {
   "cell_type": "code",
   "execution_count": null,
   "metadata": {},
   "outputs": [],
   "source": []
  }
 ],
 "metadata": {
  "kernelspec": {
   "display_name": "Python 3",
   "language": "python",
   "name": "python3"
  },
  "language_info": {
   "codemirror_mode": {
    "name": "ipython",
    "version": 3
   },
   "file_extension": ".py",
   "mimetype": "text/x-python",
   "name": "python",
   "nbconvert_exporter": "python",
   "pygments_lexer": "ipython3",
   "version": "3.6.5"
  }
 },
 "nbformat": 4,
 "nbformat_minor": 2
}
