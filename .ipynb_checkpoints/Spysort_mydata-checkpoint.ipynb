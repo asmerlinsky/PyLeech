{
 "cells": [
  {
   "cell_type": "code",
   "execution_count": 2,
   "metadata": {},
   "outputs": [
    {
     "data": {
      "text/plain": [
       "'C:\\\\Users\\\\Agustin\\\\Dropbox\\\\Doctorado\\\\NeuroData\\\\PyLeech'"
      ]
     },
     "execution_count": 2,
     "metadata": {},
     "output_type": "execute_result"
    }
   ],
   "source": [
    "import os\n",
    "os.getcwd()"
   ]
  },
  {
   "cell_type": "code",
   "execution_count": 7,
   "metadata": {},
   "outputs": [],
   "source": [
    "import AbfExtension as AbfE\n",
    "import numpy as np\n",
    "import matplotlib.pylab as plt\n",
    "import sorting_with_python as swp\n",
    "plt.ion()"
   ]
  },
  {
   "cell_type": "code",
   "execution_count": 8,
   "metadata": {},
   "outputs": [
    {
     "name": "stdout",
     "output_type": "stream",
     "text": [
      "{'IN5': {'id': 0, 'sampling_rate': 5050.50505050505, 'dtype': 'int16', 'units': 'V', 'gain': 0.00030517578125, 'offset': 0.0, 'group_id': 0, 'index': 0}, 'IN6': {'id': 1, 'sampling_rate': 5050.50505050505, 'dtype': 'int16', 'units': 'V', 'gain': 0.00030517578125, 'offset': 0.0, 'group_id': 0, 'index': 1}}\n"
     ]
    }
   ],
   "source": [
    "block = AbfE.ExtendedAxonRawIo('for_testing.abf')\n",
    "print(block.ch_info)"
   ]
  },
  {
   "cell_type": "code",
   "execution_count": 9,
   "metadata": {},
   "outputs": [],
   "source": [
    "n1 = block.getSignal_single_segment('IN5')\n",
    "n2 = block.getSignal_single_segment('IN6')\n",
    "fs = block.get_signal_sampling_rate()\n",
    "time = AbfE.generateTimeVector(len(n1), fs)\n",
    "data = [np.array(n1), np.array(n2)]\n",
    "data_len = len(n1)"
   ]
  },
  {
   "cell_type": "code",
   "execution_count": 10,
   "metadata": {},
   "outputs": [
    {
     "data": {
      "text/plain": [
       "[array([-0.192,  0.013,  0.015,  0.017,  0.168]),\n",
       " array([-0.152,  0.011,  0.014,  0.017,  0.206])]"
      ]
     },
     "execution_count": 10,
     "metadata": {},
     "output_type": "execute_result"
    }
   ],
   "source": [
    "from scipy.stats.mstats import mquantiles\n",
    "np.set_printoptions(precision=3)\n",
    "[mquantiles(x,prob=[0,0.25,0.5,0.75,1]) for x in data]"
   ]
  },
  {
   "cell_type": "code",
   "execution_count": 11,
   "metadata": {},
   "outputs": [
    {
     "data": {
      "text/plain": [
       "[0.010966344, 0.010653943]"
      ]
     },
     "execution_count": 11,
     "metadata": {},
     "output_type": "execute_result"
    }
   ],
   "source": [
    "[np.std(x) for x in data]"
   ]
  },
  {
   "cell_type": "code",
   "execution_count": 12,
   "metadata": {},
   "outputs": [
    {
     "data": {
      "text/plain": [
       "[0.00030517578, 0.00030517578]"
      ]
     },
     "execution_count": 12,
     "metadata": {},
     "output_type": "execute_result"
    }
   ],
   "source": [
    "[np.min(np.diff(np.sort(np.unique(x)))) for x in data]"
   ]
  },
  {
   "cell_type": "code",
   "execution_count": 13,
   "metadata": {},
   "outputs": [],
   "source": [
    "tt = time\n",
    "%matplotlib qt5\n",
    "plt.figure()\n",
    "swp.plot_data_list(data,tt,0.1)"
   ]
  },
  {
   "cell_type": "code",
   "execution_count": 23,
   "metadata": {},
   "outputs": [],
   "source": [
    "data_mad = list(map(swp.mad,data))\n",
    "data = list(map(lambda x: (x-np.median(x))/swp.mad(x), data))"
   ]
  },
  {
   "cell_type": "code",
   "execution_count": 24,
   "metadata": {},
   "outputs": [
    {
     "data": {
      "text/plain": [
       "(-5, 10)"
      ]
     },
     "execution_count": 24,
     "metadata": {},
     "output_type": "execute_result"
    }
   ],
   "source": [
    "plt.figure()\n",
    "plt.plot(tt,data[0],color=\"black\")\n",
    "plt.xlim([0,0.2])\n",
    "plt.ylim([-17,13])\n",
    "plt.axhline(y=1,color=\"red\")\n",
    "plt.axhline(y=-1,color=\"red\")\n",
    "plt.axhline(y=np.std(data[0]),color=\"blue\",linestyle=\"dashed\")\n",
    "plt.axhline(y=-np.std(data[0]),color=\"blue\",linestyle=\"dashed\")\n",
    "plt.xlabel('Time (s)')\n",
    "plt.ylim([-5,10])"
   ]
  },
  {
   "cell_type": "code",
   "execution_count": null,
   "metadata": {},
   "outputs": [],
   "source": []
  }
 ],
 "metadata": {
  "kernelspec": {
   "display_name": "Python 3",
   "language": "python",
   "name": "python3"
  },
  "language_info": {
   "codemirror_mode": {
    "name": "ipython",
    "version": 3
   },
   "file_extension": ".py",
   "mimetype": "text/x-python",
   "name": "python",
   "nbconvert_exporter": "python",
   "pygments_lexer": "ipython3",
   "version": "3.6.5"
  }
 },
 "nbformat": 4,
 "nbformat_minor": 2
}
