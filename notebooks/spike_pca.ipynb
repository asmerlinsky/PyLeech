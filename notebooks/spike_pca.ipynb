{
 "cells": [
  {
   "cell_type": "code",
   "execution_count": 1,
   "metadata": {},
   "outputs": [
    {
     "name": "stdout",
     "output_type": "stream",
     "text": [
      "C:\\Users\\Agustin\\Dropbox\\Doctorado\\NeuroData\\PyLeech\n"
     ]
    }
   ],
   "source": [
    "cd .."
   ]
  },
  {
   "cell_type": "code",
   "execution_count": 2,
   "metadata": {},
   "outputs": [
    {
     "name": "stdout",
     "output_type": "stream",
     "text": [
      "C:\\Users\\Agustin\\Dropbox\\Doctorado\\NeuroData\n"
     ]
    }
   ],
   "source": [
    "cd .."
   ]
  },
  {
   "cell_type": "code",
   "execution_count": 3,
   "metadata": {},
   "outputs": [],
   "source": [
    "%matplotlib qt5"
   ]
  },
  {
   "cell_type": "code",
   "execution_count": 4,
   "metadata": {},
   "outputs": [],
   "source": [
    "import PyLeech.Utils.CrawlingDatabaseUtils as CDU\n",
    "from PyLeech.Utils.burstStorerLoader import BurstStorerLoader\n",
    "import PyLeech.Utils.burstUtils as burstUtils\n",
    "import numpy as np\n",
    "import matplotlib.pyplot as plt\n",
    "import PyLeech.Utils.NLDUtils as NLD\n",
    "import scipy.signal as spsig\n",
    "import os.path\n",
    "import matplotlib\n",
    "from mpl_toolkits.mplot3d import Axes3D\n",
    "from sklearn.decomposition import FastICA, FactorAnalysis, PCA\n",
    "from sklearn.preprocessing import StandardScaler\n",
    "import PyLeech.Utils.AbfExtension as abfe\n",
    "import PyLeech.Utils.spikeUtils as spikeUtils\n",
    "import more_itertools as mit"
   ]
  },
  {
   "cell_type": "code",
   "execution_count": 5,
   "metadata": {},
   "outputs": [
    {
     "name": "stdout",
     "output_type": "stream",
     "text": [
      "0 RegistrosDP_PP\\18n05010.pklspikes\n",
      "1 RegistrosDP_PP\\2018_10_11_0002.pklspikes\n",
      "2 RegistrosDP_PP\\2018_12_03_0005.pklspikes\n",
      "3 RegistrosDP_PP\\2018_12_04_0003_0004_0005_0006b.pklspikes\n",
      "4 RegistrosDP_PP\\2018_12_06_0005.pklspikes\n",
      "5 RegistrosDP_PP\\2018_12_13_0015.pklspikes\n",
      "6 RegistrosDP_PP\\NS_DP_PP_0.pklspikes\n",
      "7 RegistrosDP_PP\\NS_T_DP_PP_0_cut.pklspikes\n",
      "8 RegistrosDP_PP\\NS_T_DP_PP_1.pklspikes\n",
      "9 RegistrosDP_PP\\2014_09_25_0008.pklspikes\n",
      "10 RegistrosDP_PP\\2019_01_28_0001.pklspikes\n",
      "11 RegistrosDP_PP\\2018_11_06_0004.pklspikes\n",
      "12 RegistrosDP_PP\\2018_12_03_0000_0001.pklspikes\n",
      "13 RegistrosDP_PP\\14217000.pklspikes\n",
      "14 RegistrosDP_PP\\2017_12_08_0002.pklspikes\n",
      "15 RegistrosDP_PP\\cont10.pklspikes\n",
      "16 RegistrosDP_PP\\2018_12_13_0001.pklspikes\n",
      "17 RegistrosDP_PP\\2019_07_22_0002.pklspikes\n",
      "18 RegistrosDP_PP\\2019_07_22_0009.pklspikes\n",
      "19 RegistrosDP_PP\\2019_07_22_0011.pklspikes\n",
      "20 RegistrosDP_PP\\2019_07_23_0004.pklspikes\n",
      "21 RegistrosDP_PP\\2019_07_23_0008.pklspikes\n",
      "22 RegistrosDP_PP\\2019_07_23_0014.pklspikes\n",
      "23 RegistrosDP_PP\\2019_08_28_0005.pklspikes\n",
      "24 RegistrosDP_PP\\2019_08_30_0003.pklspikes\n"
     ]
    }
   ],
   "source": [
    "cdd = CDU.loadDataDict()\n",
    "file_list = list(cdd)\n",
    "trace_list = []\n",
    "emb_list = []\n",
    "ran_files = []\n",
    "run_dict = {}\n",
    "a = [print(i, fn) for fn, i in zip(file_list, range(len(file_list)))]"
   ]
  },
  {
   "cell_type": "code",
   "execution_count": 6,
   "metadata": {},
   "outputs": [],
   "source": [
    "del cdd[\"RegistrosDP_PP\\\\NS_DP_PP_0.pklspikes\"]\n",
    "del cdd[\"RegistrosDP_PP\\\\NS_T_DP_PP_0_cut.pklspikes\"]\n",
    "del cdd[\"RegistrosDP_PP\\\\NS_T_DP_PP_1.pklspikes\"]\n",
    "del cdd[\"RegistrosDP_PP\\\\2019_01_28_0001.pklspikes\"]"
   ]
  },
  {
   "cell_type": "code",
   "execution_count": 7,
   "metadata": {},
   "outputs": [],
   "source": [
    "binning_dt = 1\n",
    "spike_kernel_sigma = 1.5\n",
    "n_components = 3\n",
    "\n",
    "sc = StandardScaler()\n",
    "ica = FastICA(n_components=n_components, max_iter=1000)\n",
    "fa = FactorAnalysis(n_components=n_components)\n",
    "pca = PCA(n_components=n_components)\n",
    "ica_dict = {}\n",
    "fa_dict = {}\n",
    "pca_dict = {}"
   ]
  },
  {
   "cell_type": "code",
   "execution_count": 13,
   "metadata": {},
   "outputs": [],
   "source": [
    "for fn, data in cdd.items():\n",
    "    if ('2019_08_28_0005' not in fn) and ('2019_08_30_0003' not in fn):\n",
    "        continue\n",
    "#     try:\n",
    "#         ns_channel = [key for key, items in data['channels'].items() if 'NS'==items][0] \n",
    "#         print(\"Running %s\" % fn)\n",
    "#     except IndexError:\n",
    "#         continue\n",
    "    \n",
    "    arr_dict, time_vector1, fs = abfe.getArraysFromAbfFiles(fn, ['IN5'])\n",
    "        \n",
    "        \n",
    "#     NS_kernel = NLD.generateGaussianKernel(sigma=spike_kernel_sigma, time_range=20, dt_step=1/fs)\n",
    "#     conv_NS = spsig.fftconvolve(arr_dict[ns_channel], NS_kernel, mode='same')[::int(binning_dt * fs)]\n",
    "    time_vector1 = time_vector1[::int(binning_dt * fs)]\n",
    "    del arr_dict\n",
    "\n",
    "    burst_object = BurstStorerLoader(fn, 'RegistrosDP_PP', 'load')\n",
    "\n",
    "    good_neurons = [neuron for neuron, neuron_dict in data['neurons'].items() if neuron_dict['neuron_is_good']]\n",
    "\n",
    "    spike_freq_array = burstUtils.processSpikeFreqDict(burst_object.spike_freq_dict, step=int(binning_dt * fs) / fs,\n",
    "                                                       num=time_vector1.shape[0], selected_neurons=good_neurons,\n",
    "                                                       time_length=burst_object.time[-1])\n",
    "\n",
    "    smoothed_sfd = {}\n",
    "    burst_array = []\n",
    "\n",
    "    kernel = NLD.generateGaussianKernel(sigma=spike_kernel_sigma, time_range=20, dt_step=binning_dt)\n",
    "#     burst_array.append(conv_NS)\n",
    "    for key, items in spike_freq_array.items():\n",
    "        smoothed_sfd[key] = np.array([items[0], spsig.fftconvolve(items[1], kernel, mode='same')])\n",
    "        burst_array.append(smoothed_sfd[key][1])\n",
    "    burst_array = np.array(burst_array).T\n",
    "\n",
    "\n",
    "    fig, axl = burstUtils.plotFreq(burst_object.spike_freq_dict, draw_list=good_neurons, scatter_plot=True,\n",
    "#                         optional_trace=[time_vector1, conv_NS], \n",
    "                                   outlier_thres=3.5)\n",
    "    fig.suptitle(fn)\n",
    "    for ax in axl:\n",
    "        ax.axvline(cdd[fn][\"crawling_intervals\"][0][0], c='r')\n",
    "        ax.axvline(cdd[fn][\"crawling_intervals\"][-1][-1], c='r')\n",
    "\n",
    "    spike_idxs = NLD.getSpikeIdxs(smoothed_sfd, cdd[fn][\"crawling_intervals\"])\n",
    "    scaled_data = sc.fit_transform(burst_array[spike_idxs])\n",
    "    ica_dict[fn] = ica.fit_transform(scaled_data)\n",
    "    fa_dict[fn] = fa.fit_transform(scaled_data)\n",
    "    pca_dict[fn] = pca.fit_transform(scaled_data)"
   ]
  },
  {
   "cell_type": "code",
   "execution_count": 14,
   "metadata": {},
   "outputs": [],
   "source": [
    "model_dict = {'FA': fa_dict, 'PCA': pca_dict, \"ICA\": ica_dict}"
   ]
  },
  {
   "cell_type": "code",
   "execution_count": null,
   "metadata": {},
   "outputs": [],
   "source": []
  },
  {
   "cell_type": "code",
   "execution_count": 17,
   "metadata": {},
   "outputs": [
    {
     "name": "stdout",
     "output_type": "stream",
     "text": [
      "(725, 3)\n"
     ]
    },
    {
     "ename": "AttributeError",
     "evalue": "'numpy.ndarray' object has no attribute 'plot'",
     "output_type": "error",
     "traceback": [
      "\u001b[1;31m---------------------------------------------------------------------------\u001b[0m",
      "\u001b[1;31mAttributeError\u001b[0m                            Traceback (most recent call last)",
      "\u001b[1;32m<ipython-input-17-ecfbaf0ec40a>\u001b[0m in \u001b[0;36m<module>\u001b[1;34m\u001b[0m\n\u001b[0;32m     22\u001b[0m             \u001b[1;31m# ax.scatter(items[idxs[i]:idxs[i+1],0], items[idxs[i]:idxs[i+1],1], color=colors[i], s=5)\u001b[0m\u001b[1;33m\u001b[0m\u001b[1;33m\u001b[0m\u001b[0m\n\u001b[0;32m     23\u001b[0m \u001b[1;33m\u001b[0m\u001b[0m\n\u001b[1;32m---> 24\u001b[1;33m         \u001b[0max0\u001b[0m\u001b[1;33m[\u001b[0m\u001b[0mj\u001b[0m\u001b[1;33m]\u001b[0m\u001b[1;33m.\u001b[0m\u001b[0mplot\u001b[0m\u001b[1;33m(\u001b[0m\u001b[0mitems\u001b[0m\u001b[1;33m[\u001b[0m\u001b[1;33m:\u001b[0m\u001b[1;33m,\u001b[0m \u001b[1;36m0\u001b[0m\u001b[1;33m]\u001b[0m\u001b[1;33m,\u001b[0m \u001b[0mcolor\u001b[0m\u001b[1;33m=\u001b[0m\u001b[1;34m'k'\u001b[0m\u001b[1;33m)\u001b[0m\u001b[1;33m\u001b[0m\u001b[0m\n\u001b[0m\u001b[0;32m     25\u001b[0m         \u001b[0max0\u001b[0m\u001b[1;33m[\u001b[0m\u001b[0mj\u001b[0m\u001b[1;33m]\u001b[0m\u001b[1;33m.\u001b[0m\u001b[0mplot\u001b[0m\u001b[1;33m(\u001b[0m\u001b[0mitems\u001b[0m\u001b[1;33m[\u001b[0m\u001b[1;33m:\u001b[0m\u001b[1;33m,\u001b[0m \u001b[1;36m1\u001b[0m\u001b[1;33m]\u001b[0m\u001b[1;33m,\u001b[0m \u001b[0mcolor\u001b[0m\u001b[1;33m=\u001b[0m\u001b[1;34m'r'\u001b[0m\u001b[1;33m)\u001b[0m\u001b[1;33m\u001b[0m\u001b[0m\n\u001b[0;32m     26\u001b[0m         \u001b[0max0\u001b[0m\u001b[1;33m[\u001b[0m\u001b[0mj\u001b[0m\u001b[1;33m]\u001b[0m\u001b[1;33m.\u001b[0m\u001b[0mset_xlim\u001b[0m\u001b[1;33m(\u001b[0m\u001b[1;33m[\u001b[0m\u001b[1;36m0\u001b[0m\u001b[1;33m,\u001b[0m \u001b[0mmax_len\u001b[0m\u001b[1;33m]\u001b[0m\u001b[1;33m)\u001b[0m\u001b[1;33m\u001b[0m\u001b[0m\n",
      "\u001b[1;31mAttributeError\u001b[0m: 'numpy.ndarray' object has no attribute 'plot'"
     ]
    }
   ],
   "source": [
    "fig0, ax0 = plt.subplots(3, 4)\n",
    "# fig1, ax1 = plt.subplots(len(current_dict), 1)\n",
    "\n",
    "for model, current_dict in model_dict.items():\n",
    "    j = 0\n",
    "    max_len = max([items.shape[0] for key, items in current_dict.items()])\n",
    "    for fn, items in current_dict.items():\n",
    "        \n",
    "        # fig = plt.figure()\n",
    "        # ax = Axes3D(fig)\n",
    "\n",
    "        print(items.shape)\n",
    "    #     fig, ax = plt.subplots(2, 1)\n",
    "        # num = 3\n",
    "        # idxs = np.linspace(0, items.shape[0], num+1, dtype=int)\n",
    "        # colors = ['r', 'k', 'g', 'b', 'c']\n",
    "        # for i in range(idxs.shape[0]-1):\n",
    "        #     if i==1: continue\n",
    "\n",
    "\n",
    "            # ax.scatter3D(items[idxs[i]:idxs[i+1],0], items[idxs[i]:idxs[i+1],1], items[idxs[i]:idxs[i+1],2], color=colors[i], s=5)\n",
    "            # ax.scatter(items[idxs[i]:idxs[i+1],0], items[idxs[i]:idxs[i+1],1], color=colors[i], s=5)\n",
    "\n",
    "        ax0[j].plot(items[:, 0], color='k')\n",
    "        ax0[j].plot(items[:, 1], color='r')\n",
    "        ax0[j].set_xlim([0, max_len])\n",
    "\n",
    "    #     ax1[j].set_xlim([0, max_len])\n",
    "\n",
    "        j += 1"
   ]
  },
  {
   "cell_type": "code",
   "execution_count": 86,
   "metadata": {},
   "outputs": [],
   "source": [
    "### 3d representation\n",
    "\n",
    "num_colors = 6\n",
    "for model, current_dict in model_dict.items():\n",
    "    if model == 'PCA':\n",
    "        \n",
    "        i = 1\n",
    "        for key, items in current_dict.items():\n",
    "            fig = plt.figure() \n",
    "            ax = Axes3D(fig)\n",
    "#             ax = fig.add_subplot(3, 4, i, projection='3d')\n",
    "    #         ax[i, j].scatter(items[:, 0], items[:, 1], c=plt.cm.jet(np.linspace(0, 1, items.shape[0])), s=15)\n",
    "            ax.scatter(items[:, 0], items[:, 1], items[:, 2], c=plt.cm.jet(np.repeat(np.linspace(.1, .9, num_colors), np.ceil(items.shape[0]/num_colors))[:items.shape[0]]), s=15)\n",
    "            ax.set_title(os.path.basename(os.path.splitext(key)[0]))\n",
    "            ax.xaxis.set_visible(False)\n",
    "            ax.yaxis.set_visible(False)\n",
    "\n",
    "            i += 1\n",
    "#         fig.suptitle(model)\n",
    "#         fig.subplots_adjust(right=0.8)\n",
    "#         cbar_ax = fig.add_axes([0.9, 0.15, 0.025, 0.7])\n",
    "#         fig.colorbar(sm, ticks=np.linspace(0, 1, N), boundaries=np.arange(-0.05, 1.1, .05), cax=cbar_ax)"
   ]
  },
  {
   "cell_type": "code",
   "execution_count": 20,
   "metadata": {},
   "outputs": [],
   "source": [
    "### 2d representation\n",
    "\n",
    "\n",
    "N = 21\n",
    "cmap = plt.cm.brg\n",
    "norm = matplotlib.colors.Normalize(vmin=0, vmax=1)\n",
    "sm = plt.cm.ScalarMappable(cmap=cmap, norm=norm)\n",
    "sm.set_array([])\n",
    "\n",
    "num_colors = 10\n",
    "for model, current_dict in model_dict.items():\n",
    "    if model == 'PCA':\n",
    "#         fig, ax = plt.subplots(3, 4)\n",
    "        j = 0 \n",
    "        i = 0\n",
    "        for key, items in current_dict.items():\n",
    "            fig, ax = plt.subplots()\n",
    "    #         ax[i, j].scatter(items[:, 0], items[:, 1], c=plt.cm.jet(np.linspace(0, 1, items.shape[0])), s=15)\n",
    "#             ax[i, j].scatter(items[:, 0], items[:, 1], c=cmap(np.repeat(np.linspace(0, 1, num_colors), np.ceil(items.shape[0]/num_colors))[:items.shape[0]]), s=8)\n",
    "#             ax[i, j].set_title(os.path.basename(os.path.splitext(key)[0]))\n",
    "            ax.scatter(items[:, 0], items[:, 1], c=cmap(np.repeat(np.linspace(0, 1, num_colors), np.ceil(items.shape[0]/num_colors))[:items.shape[0]]), s=8)\n",
    "            ax.set_title(os.path.basename(os.path.splitext(key)[0]))\n",
    "            j += 1\n",
    "\n",
    "            if j==4:\n",
    "                j = 0\n",
    "                i += 1\n",
    "        fig.suptitle(model)\n",
    "        fig.subplots_adjust(right=0.8)\n",
    "        cbar_ax = fig.add_axes([0.9, 0.15, 0.025, 0.7])\n",
    "        fig.colorbar(sm, ticks=np.linspace(0, 1, N), boundaries=np.arange(-0.05, 1.1, .05), cax=cbar_ax)\n"
   ]
  },
  {
   "cell_type": "code",
   "execution_count": 46,
   "metadata": {},
   "outputs": [],
   "source": [
    "import seaborn as sns\n",
    "\n",
    "sequential_colors = [\n",
    "            'Greys', 'Purples', 'Blues', 'Greens', 'Oranges', 'Reds',\n",
    "            'YlOrBr', 'YlOrRd', 'OrRd', 'PuRd', 'RdPu', 'BuPu',\n",
    "            'GnBu', 'PuBu', 'YlGnBu', 'PuBuGn', 'BuGn', 'YlGn']\n",
    "\n",
    "num_colors = 6\n",
    "\n",
    "for key, items in pca_dict.items():\n",
    "    fig, ax = plt.subplots()\n",
    "    i = 0\n",
    "    for elem in np.array_split(items, num_colors):\n",
    "        sns.kdeplot(elem[:,0], elem[:,1], n_levels=2, cmaps=sequential_colors[i], shade=True, shade_lowest=False, alpha=.7, ax=ax, label=str(i))\n",
    "        i += 1\n",
    "    fig.legend()\n",
    "    "
   ]
  },
  {
   "cell_type": "code",
   "execution_count": null,
   "metadata": {},
   "outputs": [],
   "source": []
  }
 ],
 "metadata": {
  "kernelspec": {
   "display_name": "Python 3",
   "language": "python",
   "name": "python3"
  },
  "language_info": {
   "codemirror_mode": {
    "name": "ipython",
    "version": 3
   },
   "file_extension": ".py",
   "mimetype": "text/x-python",
   "name": "python",
   "nbconvert_exporter": "python",
   "pygments_lexer": "ipython3",
   "version": "3.6.8"
  }
 },
 "nbformat": 4,
 "nbformat_minor": 4
}
