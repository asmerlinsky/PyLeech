{
 "cells": [
  {
   "cell_type": "code",
   "execution_count": 1,
   "metadata": {},
   "outputs": [
    {
     "name": "stdout",
     "output_type": "stream",
     "text": [
      "C:\\Users\\Agustin\\Dropbox\\Doctorado\\NeuroData\n"
     ]
    }
   ],
   "source": [
    "cd .."
   ]
  },
  {
   "cell_type": "code",
   "execution_count": 6,
   "metadata": {},
   "outputs": [],
   "source": [
    "%matplotlib qt5\n",
    "import numpy as np\n",
    "import matplotlib.pyplot as plt\n",
    "import matplotlib\n",
    "import PyLeech.Utils.NLDUtils as NLD\n",
    "import PyLeech.Utils.CrawlingDatabaseUtils as CDU\n",
    "import PyLeech.Utils.burstStorerLoader as burstStorerLoader\n",
    "import PyLeech.Utils.AbfExtension as abfe\n",
    "import PyLeech.Utils.burstUtils as burstUtils\n",
    "import scipy.signal as spsig\n",
    "import PyLeech.Utils.NLDUtils as NLDUtils\n",
    "\n",
    "\n",
    "np.set_printoptions(precision=3)\n",
    "plt.ion()\n",
    "plt.rcParams['figure.figsize'] = (24,12)"
   ]
  },
  {
   "cell_type": "code",
   "execution_count": 7,
   "metadata": {},
   "outputs": [
    {
     "data": {
      "text/plain": [
       "Index(['RegistrosDP_PP\\18n05010.pklspikes',\n",
       "       'RegistrosDP_PP\\2018_10_11_0002.pklspikes',\n",
       "       'RegistrosDP_PP\\2018_11_06_0004.pklspikes',\n",
       "       'RegistrosDP_PP\\2018_12_03_0000_0001.pklspikes',\n",
       "       'RegistrosDP_PP\\2018_12_03_0005.pklspikes',\n",
       "       'RegistrosDP_PP\\2018_12_04_0003_0004_0005_0006b.pklspikes',\n",
       "       'RegistrosDP_PP\\2018_12_06_0005.pklspikes',\n",
       "       'RegistrosDP_PP\\2018_12_13_0015.pklspikes',\n",
       "       'RegistrosDP_PP\\NS_DP_PP_0.pklspikes',\n",
       "       'RegistrosDP_PP\\NS_T_DP_PP_0_cut.pklspikes',\n",
       "       'RegistrosDP_PP\\NS_T_DP_PP_1.pklspikes'],\n",
       "      dtype='object', name='filename')"
      ]
     },
     "execution_count": 7,
     "metadata": {},
     "output_type": "execute_result"
    }
   ],
   "source": [
    "cdb = CDU.loadCrawlingDatabase()\n",
    "cdb.index.levels[0]\n",
    "## Los utiles son 6 y 7 ppalmente"
   ]
  },
  {
   "cell_type": "code",
   "execution_count": 9,
   "metadata": {},
   "outputs": [
    {
     "name": "stdout",
     "output_type": "stream",
     "text": [
      "RegistrosDP_PP\\2018_12_13_0015.pklspikes [ 3  8  9 13 15 18 19 20 21]\n"
     ]
    }
   ],
   "source": [
    "    fn = cdb.index.levels[0][7]\n",
    "    \n",
    "    burst_obj = burstStorerLoader.UnitInfo(fn, 'RegistrosDP_PP', mode='load')\n",
    "\n",
    "    arr_dict, time, fs = abfe.getArraysFromAbfFiles(fn, ['Vm1'])\n",
    "    NS = arr_dict['Vm1']\n",
    "    del arr_dict\n",
    "    good_neurons = cdb.loc[fn].index[cdb.loc[fn, 'neuron_is_good'].values.astype(bool)].values\n",
    "    crawling_interval = [cdb.loc[fn].start_time.iloc[0], cdb.loc[fn].end_time.iloc[0]]    \n",
    "    print(fn, good_neurons)"
   ]
  },
  {
   "cell_type": "code",
   "execution_count": 10,
   "metadata": {},
   "outputs": [],
   "source": [
    "dt_step = 0.1\n",
    "binned_sfd = burstUtils.digitizeSpikeFreqs(burst_obj.spike_freq_dict, dt_step, time[-1], count=False)\n",
    "cut_binned_freq_array = burstUtils.binned_spike_freq_dict_ToArray(binned_sfd, crawling_interval, good_neurons)"
   ]
  },
  {
   "cell_type": "code",
   "execution_count": 11,
   "metadata": {},
   "outputs": [],
   "source": [
    "sigma = 3\n",
    "rg = 20\n",
    "x_range = np.arange(-rg, rg, dt_step)\n",
    "gaussian = np.exp(-(x_range/sigma)**2)\n",
    "gaussian /= gaussian.sum()"
   ]
  },
  {
   "cell_type": "code",
   "execution_count": 12,
   "metadata": {},
   "outputs": [],
   "source": [
    "smoothed_sfd = {}\n",
    "for key, items in cut_binned_freq_array.items():\n",
    "    smoothed_sfd[key] = np.array([items[0], spsig.fftconvolve(items[1], gaussian, mode='same')])\n",
    "uncut_smoothed_sfd = {}\n",
    "for key, items in binned_sfd.items():\n",
    "    uncut_smoothed_sfd[key] = np.array([items[0], spsig.fftconvolve(items[1], gaussian, mode='same')])\n"
   ]
  },
  {
   "cell_type": "code",
   "execution_count": 13,
   "metadata": {},
   "outputs": [
    {
     "data": {
      "text/plain": [
       "[<matplotlib.lines.Line2D at 0x2a08e7f29b0>]"
      ]
     },
     "execution_count": 13,
     "metadata": {},
     "output_type": "execute_result"
    }
   ],
   "source": [
    "NS_range = np.arange(-rg, rg, 1/fs)\n",
    "NS_gaussian = gaussian = np.exp(-(NS_range/sigma)**2)\n",
    "NS_gaussian /= NS_gaussian.sum()\n",
    "conv_NS = spsig.fftconvolve(NS, NS_gaussian, mode='same')\n",
    "fig, ax = plt.subplots()\n",
    "ax.plot(time[::100], NS[::100])\n",
    "ax.plot(time[::100], conv_NS[::100], lw=5)\n",
    "# del NS"
   ]
  },
  {
   "cell_type": "code",
   "execution_count": 14,
   "metadata": {},
   "outputs": [],
   "source": [
    "# fig = burstUtils.plotFreq(burst_obj.spike_freq_dict, color_dict=burst_obj.color_dict, optional_trace=[time[::2000], conv_NS[::2000]],\n",
    "#                     template_dict=burst_obj.template_dict, scatter_plot=True, draw_list=good_neurons,\n",
    "#                     outlier_thres=3, ms=4)"
   ]
  },
  {
   "cell_type": "code",
   "execution_count": 15,
   "metadata": {},
   "outputs": [],
   "source": [
    "fig = burstUtils.plotFreq(uncut_smoothed_sfd, color_dict=burst_obj.color_dict, optional_trace=[time[::2000], conv_NS[::2000]],\n",
    "                    template_dict=burst_obj.template_dict, scatter_plot=False, draw_list=good_neurons,\n",
    "                    outlier_thres=None, ms=4)"
   ]
  },
  {
   "cell_type": "markdown",
   "metadata": {},
   "source": [
    "# Close Returns"
   ]
  },
  {
   "cell_type": "code",
   "execution_count": 16,
   "metadata": {},
   "outputs": [],
   "source": [
    "    idxs = np.where(\n",
    "                   (time > 350) & (time < 618) \n",
    "#                     |\n",
    "#                     ((time > 667) & (time < 814) )\n",
    "                   )"
   ]
  },
  {
   "cell_type": "code",
   "execution_count": 17,
   "metadata": {},
   "outputs": [
    {
     "data": {
      "text/plain": [
       "[<matplotlib.lines.Line2D at 0x2a0971eddd8>]"
      ]
     },
     "execution_count": 17,
     "metadata": {},
     "output_type": "execute_result"
    }
   ],
   "source": [
    "plt.figure()\n",
    "plt.plot(time[idxs][::2000], conv_NS[idxs][::2000])"
   ]
  },
  {
   "cell_type": "code",
   "execution_count": 22,
   "metadata": {},
   "outputs": [
    {
     "data": {
      "text/plain": [
       "<matplotlib.legend.Legend at 0x2a0914c92b0>"
      ]
     },
     "execution_count": 22,
     "metadata": {},
     "output_type": "execute_result"
    },
    {
     "data": {
      "image/png": "[encoded data removed]",
      "text/plain": [
       "<Figure size 1152x576 with 1 Axes>"
      ]
     },
     "metadata": {},
     "output_type": "display_data"
    }
   ],
   "source": [
    "rt = NLDUtils.getCloseReturns(conv_NS[idxs][::2000].reshape(-1,1), get_mask=False)\n",
    "\n",
    "rt_reordered = np.zeros(rt.shape)\n",
    "for i in range(rt.shape[0]):\n",
    "    for j in range(i, rt.shape[0]):\n",
    "        rt_reordered[j - i, i] = rt[i, j]\n",
    "\n",
    "\n",
    "trh = .5\n",
    "reordered_mask = (rt_reordered < trh) & (rt_reordered > 0.)\n",
    "%matplotlib inline\n",
    "plt.rcParams['figure.figsize'] = (16,8)\n",
    "plt.figure()\n",
    "plt.scatter(np.arange(1, reordered_mask.shape[0]+1, 1), reordered_mask.sum(axis=1), s=2, label=\"NS close returns\")\n",
    "plt.legend()\n",
    "\n",
    "\n"
   ]
  },
  {
   "cell_type": "code",
   "execution_count": 23,
   "metadata": {},
   "outputs": [],
   "source": [
    "%matplotlib qt5\n",
    "%matplotlib qt5"
   ]
  },
  {
   "cell_type": "code",
   "execution_count": 24,
   "metadata": {},
   "outputs": [],
   "source": [
    "plt.matshow(reordered_mask.astype(int))\n",
    "plt.title(\"NS close returns\")\n",
    "plt.colorbar()\n",
    "# plt.ylim([280, 260])\n",
    "plt.gca().set_aspect('auto')"
   ]
  },
  {
   "cell_type": "markdown",
   "metadata": {},
   "source": [
    "# Embeddings"
   ]
  },
  {
   "cell_type": "code",
   "execution_count": 68,
   "metadata": {},
   "outputs": [],
   "source": [
    "from mpl_toolkits.mplot3d import Axes3D\n",
    "from sklearn.preprocessing import StandardScaler"
   ]
  },
  {
   "cell_type": "code",
   "execution_count": 80,
   "metadata": {},
   "outputs": [
    {
     "data": {
      "text/plain": [
       "[<matplotlib.lines.Line2D at 0x1d50abdfcc0>]"
      ]
     },
     "execution_count": 80,
     "metadata": {},
     "output_type": "execute_result"
    },
    {
     "data": {
      "image/png": "[encoded data removed]",
      "text/plain": [
       "<Figure size 432x288 with 1 Axes>"
      ]
     },
     "metadata": {
      "needs_background": "light"
     },
     "output_type": "display_data"
    }
   ],
   "source": [
    "%matplotlib inline\n",
    "step = 2000\n",
    "plt.plot(conv_NS[idxs][::step])"
   ]
  },
  {
   "cell_type": "code",
   "execution_count": 82,
   "metadata": {},
   "outputs": [],
   "source": [
    "step = 2000\n",
    "NS_embedding = NLDUtils.getDerivativeEmbedding(trace=conv_NS[idxs][::step], dt=step/fs, emb_size=3)\n",
    "# NS_embedding = NLDUtils.getDerivativeEmbedding(trace=conv_NS[::step], dt=step/fs, emb_size=3)"
   ]
  },
  {
   "cell_type": "code",
   "execution_count": 84,
   "metadata": {},
   "outputs": [
    {
     "data": {
      "text/plain": [
       "<matplotlib.colorbar.Colorbar at 0x1d50abb7ac8>"
      ]
     },
     "execution_count": 84,
     "metadata": {},
     "output_type": "execute_result"
    }
   ],
   "source": [
    "%matplotlib qt5\n",
    "%matplotlib qt5\n",
    "N = 21\n",
    "cmap = plt.get_cmap('jet', N)\n",
    "\n",
    "norm = matplotlib.colors.Normalize(vmin=0, vmax=2)\n",
    "sm = plt.cm.ScalarMappable(cmap=cmap, norm=norm)\n",
    "sm.set_array([])\n",
    "fig = plt.figure()\n",
    "ax = Axes3D(fig)\n",
    "NS_plot =  NS_embedding\n",
    "ax.scatter(NS_plot[:,0], NS_plot[:,1], NS_plot[:,2],c=plt.cm.jet(np.linspace(0, 2, NS_plot.shape[0])),s=5)\n",
    "\n",
    "plt.colorbar(sm, ticks=np.linspace(0, 2, N),\n",
    "             boundaries=np.arange(-0.05, 2.1, .1))"
   ]
  },
  {
   "cell_type": "code",
   "execution_count": 87,
   "metadata": {},
   "outputs": [
    {
     "data": {
      "text/plain": [
       "[<mpl_toolkits.mplot3d.art3d.Line3D at 0x1d50476f2b0>]"
      ]
     },
     "execution_count": 87,
     "metadata": {},
     "output_type": "execute_result"
    }
   ],
   "source": [
    "N = 21\n",
    "cmap = plt.get_cmap('jet', N)\n",
    "\n",
    "norm = matplotlib.colors.Normalize(vmin=0, vmax=2)\n",
    "sm = plt.cm.ScalarMappable(cmap=cmap, norm=norm)\n",
    "sm.set_array([])\n",
    "plt.colorbar(sm, ticks=np.linspace(0, 2, N),\n",
    "             boundaries=np.arange(-0.05, 2.1, .1))\n",
    "\n",
    "fig = plt.figure()\n",
    "ax = Axes3D(fig)\n",
    "i=500\n",
    "p = 620\n",
    "ax.plot(NS_embedding[i:i+p, 0], NS_embedding[i:i+p, 1], NS_embedding[i:i+p, 2], label=\"n\" + str(key) + \" dt= \" + str(i), lw=1)"
   ]
  },
  {
   "cell_type": "code",
   "execution_count": 72,
   "metadata": {},
   "outputs": [],
   "source": [
    "cut_NS = conv_NS[np.where(time>crawling_interval[0])[0][0]: np.where(time<crawling_interval[1])[0][-1]]\n",
    "cut_time = time[np.where(time>crawling_interval[0])[0][0]: np.where(time<crawling_interval[1])[0][-1]]\n",
    "fig = burstUtils.plotFreq(smoothed_sfd, color_dict=burst_obj.color_dict, optional_trace=[cut_time[::2000], cut_NS[::2000]],\n",
    "                    template_dict=burst_obj.template_dict, scatter_plot=False,\n",
    "                    outlier_thres=None, ms=4)"
   ]
  },
  {
   "cell_type": "code",
   "execution_count": 71,
   "metadata": {},
   "outputs": [
    {
     "name": "stdout",
     "output_type": "stream",
     "text": [
      "(9, 2499) (2499,)\n"
     ]
    }
   ],
   "source": [
    "\n",
    "burst_space = NLDUtils.generateOutputSpace(smoothed_sfd, cut_NS.T,fs)\n",
    "\n",
    "sc = StandardScaler()\n",
    "scaled_burst_space = sc.fit_transform(burst_space)\n",
    "\n",
    "unitary, singular, v = NLDUtils.getPcaBase(scaled_burst_space.T, vect_num=5, plot_vectors=False)\n",
    "\n",
    "proy = np.dot(scaled_burst_space, unitary)"
   ]
  },
  {
   "cell_type": "code",
   "execution_count": 70,
   "metadata": {},
   "outputs": [
    {
     "data": {
      "text/plain": [
       "<matplotlib.colorbar.Colorbar at 0x1ce87989e10>"
      ]
     },
     "execution_count": 70,
     "metadata": {},
     "output_type": "execute_result"
    }
   ],
   "source": [
    "dim_size = 3\n",
    "fig, ax = plt.subplots(dim_size, 1, sharex=True)\n",
    "for i in range(dim_size):\n",
    "    ax[i].plot(proy[:, i])\n",
    "    ax[i].grid()\n",
    "\n",
    "\n",
    "N = 21\n",
    "cmap = plt.get_cmap('jet', N)\n",
    "\n",
    "norm = matplotlib.colors.Normalize(vmin=0, vmax=2)\n",
    "sm = plt.cm.ScalarMappable(cmap=cmap, norm=norm)\n",
    "sm.set_array([])\n",
    "fig = plt.figure()\n",
    "ax = Axes3D(fig)\n",
    "ax.scatter(proy[:, 0], proy[:, 1], proy[:, 2], c=plt.cm.jet(np.linspace(0, 2, proy.shape[0])), label='parametric curve', s=10)\n",
    "\n",
    "plt.colorbar(sm, ticks=np.linspace(0, 2, N),\n",
    "             boundaries=np.arange(-0.05, 2.1, .1))"
   ]
  },
  {
   "cell_type": "code",
   "execution_count": 68,
   "metadata": {},
   "outputs": [
    {
     "data": {
      "text/plain": [
       "<matplotlib.colorbar.Colorbar at 0x1ceed2de630>"
      ]
     },
     "execution_count": 68,
     "metadata": {},
     "output_type": "execute_result"
    }
   ],
   "source": [
    "emb = NLDUtils.getTraceEmbedding(trace=proy[:,0], step=8, emb_size=3)\n",
    "N = 21\n",
    "cmap = plt.get_cmap('jet', N)\n",
    "\n",
    "norm = matplotlib.colors.Normalize(vmin=0, vmax=2)\n",
    "sm = plt.cm.ScalarMappable(cmap=cmap, norm=norm)\n",
    "sm.set_array([])\n",
    "fig = plt.figure()\n",
    "ax = Axes3D(fig)\n",
    "\n",
    "ax.scatter(emb[:,0], emb[:,1], emb[:,2],c=plt.cm.jet(np.linspace(0, 2, emb.shape[0])),s=5)\n",
    "\n",
    "plt.colorbar(sm, ticks=np.linspace(0, 2, N),\n",
    "             boundaries=np.arange(-0.05, 2.1, .1))"
   ]
  },
  {
   "cell_type": "code",
   "execution_count": 66,
   "metadata": {},
   "outputs": [
    {
     "data": {
      "text/plain": [
       "(1734, 3, 9)"
      ]
     },
     "execution_count": 66,
     "metadata": {},
     "output_type": "execute_result"
    }
   ],
   "source": [
    "emb.shape"
   ]
  },
  {
   "cell_type": "code",
   "execution_count": null,
   "metadata": {},
   "outputs": [],
   "source": []
  }
 ],
 "metadata": {
  "kernelspec": {
   "display_name": "Python 3",
   "language": "python",
   "name": "python3"
  },
  "language_info": {
   "codemirror_mode": {
    "name": "ipython",
    "version": 3
   },
   "file_extension": ".py",
   "mimetype": "text/x-python",
   "name": "python",
   "nbconvert_exporter": "python",
   "pygments_lexer": "ipython3",
   "version": "3.6.8"
  }
 },
 "nbformat": 4,
 "nbformat_minor": 4
}
