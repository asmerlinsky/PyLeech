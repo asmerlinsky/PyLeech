{
 "cells": [
  {
   "cell_type": "code",
   "execution_count": 1,
   "metadata": {},
   "outputs": [
    {
     "name": "stdout",
     "output_type": "stream",
     "text": [
      "/home/agustin/Dropbox/Doctorado/NeuroData/PyLeech\n"
     ]
    }
   ],
   "source": [
    "cd .."
   ]
  },
  {
   "cell_type": "code",
   "execution_count": 2,
   "metadata": {},
   "outputs": [
    {
     "name": "stdout",
     "output_type": "stream",
     "text": [
      "/home/agustin/Dropbox/Doctorado/NeuroData\n"
     ]
    }
   ],
   "source": [
    "cd .."
   ]
  },
  {
   "cell_type": "code",
   "execution_count": 3,
   "metadata": {},
   "outputs": [],
   "source": [
    "%matplotlib qt5"
   ]
  },
  {
   "cell_type": "code",
   "execution_count": 4,
   "metadata": {},
   "outputs": [],
   "source": [
    "import os\n",
    "\n",
    "import PyLeech.Utils.NLDUtils as NLD\n",
    "import PyLeech.Utils.AbfExtension as abfe\n",
    "\n",
    "import PyLeech.Utils.CrawlingDatabaseUtils as CDU\n",
    "import PyLeech.Utils.burstStorerLoader as bStorerLoader\n",
    "import PyLeech.Utils.burstUtils as burstUtils\n",
    "import numpy as np\n",
    "import scipy.signal as spsig\n",
    "import matplotlib.pyplot as plt\n",
    "import PyLeech.Utils.filterUtils as filterUtils"
   ]
  },
  {
   "cell_type": "code",
   "execution_count": 5,
   "metadata": {},
   "outputs": [
    {
     "name": "stdout",
     "output_type": "stream",
     "text": [
      "['RegistrosDP_PP\\\\18n05010.pklspikes', 'RegistrosDP_PP\\\\2018_10_11_0002.pklspikes', 'RegistrosDP_PP\\\\2018_12_03_0005.pklspikes', 'RegistrosDP_PP\\\\2018_12_04_0003_0004_0005_0006b.pklspikes', 'RegistrosDP_PP\\\\2018_12_06_0005.pklspikes', 'RegistrosDP_PP\\\\2018_12_13_0015.pklspikes', 'RegistrosDP_PP\\\\NS_DP_PP_0.pklspikes', 'RegistrosDP_PP\\\\NS_T_DP_PP_0_cut.pklspikes', 'RegistrosDP_PP\\\\NS_T_DP_PP_1.pklspikes', 'RegistrosDP_PP\\\\2014_09_25_0008.pklspikes', 'RegistrosDP_PP\\\\2019_01_28_0001.pklspikes', 'RegistrosDP_PP\\\\2018_11_06_0004.pklspikes', 'RegistrosDP_PP\\\\2018_12_03_0000_0001.pklspikes', 'RegistrosDP_PP\\\\14217000.pklspikes', 'RegistrosDP_PP\\\\2017_12_08_0002.pklspikes', 'RegistrosDP_PP\\\\cont10.pklspikes', 'RegistrosDP_PP\\\\2018_12_13_0001.pklspikes', 'RegistrosDP_PP\\\\2019_07_22_0002.pklspikes', 'RegistrosDP_PP\\\\2019_07_22_0009.pklspikes', 'RegistrosDP_PP\\\\2019_07_22_0011.pklspikes', 'RegistrosDP_PP\\\\2019_07_23_0004.pklspikes', 'RegistrosDP_PP\\\\2019_07_23_0008.pklspikes', 'RegistrosDP_PP\\\\2019_07_23_0014.pklspikes', 'RegistrosDP_PP\\\\2019_08_28_0005.pklspikes', 'RegistrosDP_PP\\\\2019_08_30_0003.pklspikes', 'RegistrosDP_PP\\\\2019_08_30_0006.pklspikes']\n"
     ]
    }
   ],
   "source": [
    "cdd = CDU.loadDataDict()\n",
    "print(list(cdd))\n",
    "\n"
   ]
  },
  {
   "cell_type": "code",
   "execution_count": 6,
   "metadata": {},
   "outputs": [],
   "source": [
    "fn = [fn for fn in list(cdd) if '2019_08_30_0003' in fn][0]\n",
    "fn = fn.replace(\"\\\\\", \"/\")\n",
    "# fn = \"19-08-30\\\\2019_08_30_0003.abf\""
   ]
  },
  {
   "cell_type": "code",
   "execution_count": 7,
   "metadata": {},
   "outputs": [],
   "source": [
    "arr_dict, time_vector, fs = abfe.getArraysFromAbfFiles(fn, ['Vm1', \n",
    "#                                                             'IN4',\n",
    "                                                            'IN5',\n",
    "                                                            'IN6',\n",
    "                                                            'IN7'\n",
    "                                                           ])\n",
    "orig_data = np.array([\n",
    "    arr_dict['Vm1'], \n",
    "#     arr_dict['IN4'], \n",
    "    arr_dict['IN5'], \n",
    "    arr_dict['IN6'],\n",
    "    arr_dict['IN7']\n",
    "    ])\n",
    "\n",
    "del arr_dict"
   ]
  },
  {
   "cell_type": "code",
   "execution_count": 8,
   "metadata": {},
   "outputs": [
    {
     "name": "stderr",
     "output_type": "stream",
     "text": [
      "/home/agustin/Dropbox/Doctorado/NeuroData/PyLeech/Utils/filterUtils.py:112: UserWarning: Using same Q_factor for every frequency\n",
      "  warnings.warn(\"Using same Q_factor for every frequency\")\n"
     ]
    }
   ],
   "source": [
    "# i = 1\n",
    "# line_peaks = [  50. ,  150. ,  250. ,  350.2,  450.2,  550.2,  650.2,  750.2,\n",
    "#         850.2,  950.4, 1050.4, 1150.4, 1250.4, 1350.4, 1450.6, 1550.4,\n",
    "#         1650.6, 1750.6,]\n",
    "# #         1850.6, 1950.6, 2050.8, 2150.8, 2250.8, 2350.8, 2450.8, 2551. ,\n",
    "# #         2651. , 2751. , 2851. , 2951. ]\n",
    "\n",
    "# orig_data[i] = filterUtils.runFilter(orig_data[i], line_peaks, fs, .1)\n",
    "# orig_data[i] = filterUtils.runButterFilter(orig_data[i], 1500, sampling_rate=fs)\n",
    "# orig_data[i] = filterUtils.runButterFilter(orig_data[i], 5, sampling_rate=fs, butt_order=4, btype='high')\n"
   ]
  },
  {
   "cell_type": "code",
   "execution_count": 9,
   "metadata": {},
   "outputs": [],
   "source": [
    "binning_dt = .1\n",
    "spike_kernel_sigma = 2\n",
    "orig_data = orig_data[:,:int(.9 *orig_data.shape[1])]\n",
    "data = np.copy(orig_data)\n",
    "data[0] -= np.mean(data[0])\n",
    "data[0][(data[0]<-15) | (data[0]>15)] = 0\n",
    "\n",
    "NS_kernel = burstUtils.generateGaussianKernel(sigma=spike_kernel_sigma, time_range=20, dt_step=1 / fs)\n",
    "bl_kernel = burstUtils.generateGaussianKernel(sigma=45, time_range=10*60, dt_step=1 / fs)\n",
    "\n",
    "bl = spsig.fftconvolve(data[0], bl_kernel, mode='same')\n",
    "\n",
    "data[0] -= bl \n",
    "data[0] = spsig.fftconvolve(data[0], NS_kernel, mode='same')\n",
    "# fig, ax = plt.subplots()\n",
    "\n",
    "# ax.plot(orig_data[0]-orig_data[0].mean())\n",
    "# ax.plot(data[0])"
   ]
  },
  {
   "cell_type": "code",
   "execution_count": 10,
   "metadata": {},
   "outputs": [
    {
     "data": {
      "text/plain": [
       "(5, 10867)"
      ]
     },
     "execution_count": 10,
     "metadata": {},
     "output_type": "execute_result"
    }
   ],
   "source": [
    "data[:,::int(binning_dt*fs)].shape"
   ]
  },
  {
   "cell_type": "code",
   "execution_count": 11,
   "metadata": {},
   "outputs": [],
   "source": [
    "for i in range(1, data.shape[0]):\n",
    "#     data[i, data[i]<0] = 0\n",
    "    data[i, :] = np.abs(data[i, :])\n",
    "    data[i] = spsig.fftconvolve(data[i], NS_kernel, mode='same')\n",
    "\n"
   ]
  },
  {
   "cell_type": "code",
   "execution_count": 12,
   "metadata": {},
   "outputs": [
    {
     "data": {
      "text/plain": [
       "'2019_08_30_0003'"
      ]
     },
     "execution_count": 12,
     "metadata": {},
     "output_type": "execute_result"
    }
   ],
   "source": [
    "os.path.basename(os.path.splitext(fn)[0])"
   ]
  },
  {
   "cell_type": "code",
   "execution_count": 13,
   "metadata": {},
   "outputs": [
    {
     "data": {
      "text/plain": [
       "Text(0.5, 0.98, '2019_08_30_0003')"
      ]
     },
     "execution_count": 13,
     "metadata": {},
     "output_type": "execute_result"
    }
   ],
   "source": [
    "fig, ax = plt.subplots(data.shape[0], 1, sharex=True)\n",
    "for i in range(data.shape[0]):\n",
    "    if i==0:\n",
    "#     if False:\n",
    "#         ax[i].plot(np.linspace(0, 1, orig_data[i].shape[0]), orig_data[i]-orig_data[i].mean(), color='k')\n",
    "        ax[i].plot(time_vector[:orig_data[i].shape[0]], orig_data[i]-orig_data[i].mean(), color='k')\n",
    "#         ax[i].plot(np.linspace(0,1, data[i,::int(binning_dt * fs)].shape[0]), \n",
    "#                           data[i,::int(binning_dt * fs)], color='k'\n",
    "#                   )\n",
    "    else:\n",
    "    \n",
    "        ax[i].plot(time_vector[:orig_data[i].shape[0]], (orig_data[i]-orig_data[i].mean())/np.max(orig_data[i]), color='k')\n",
    "#         ax[i].plot(np.linspace(0,1, data[i,::int(binning_dt * fs)].shape[0]), \n",
    "#                                data[i,::int(binning_dt * fs)]/np.max(np.abs(data[i])), color='k'\n",
    "#                   )\n",
    "    ax[i].grid(linestyle='dotted')\n",
    "fig.subplots_adjust(wspace=0, hspace=0)\n",
    "fig.suptitle(os.path.basename(os.path.splitext(fn)[0]))"
   ]
  },
  {
   "cell_type": "code",
   "execution_count": 14,
   "metadata": {},
   "outputs": [],
   "source": [
    "# fig.savefig('envelope_figs/' + os.path.basename(os.path.splitext(fn)[0])+'.png', transparent=True, dpi=600)\n",
    "fig.savefig('noenv_' + os.path.basename(os.path.splitext(fn)[0])+'.png', transparent=True, dpi=600)"
   ]
  },
  {
   "cell_type": "code",
   "execution_count": 15,
   "metadata": {},
   "outputs": [],
   "source": [
    "lm = ax[0].get_xlim()\n"
   ]
  },
  {
   "cell_type": "code",
   "execution_count": 16,
   "metadata": {},
   "outputs": [
    {
     "data": {
      "text/plain": [
       "Text(0.5, 0.98, '2019_08_30_0003')"
      ]
     },
     "execution_count": 16,
     "metadata": {},
     "output_type": "execute_result"
    }
   ],
   "source": [
    "\n",
    "fig, ax = plt.subplots(data.shape[0], 1, sharex=True)\n",
    "for i in range(data.shape[0]):\n",
    "    if i==0:\n",
    "#     if False:\n",
    "                ax[i].plot(np.linspace(0,1, data[i,::int(binning_dt * fs)].shape[0]), \n",
    "                          data[i,::int(binning_dt * fs)], color='k'\n",
    "                  )\n",
    "    else:\n",
    "        ax[i].plot(np.linspace(0,1, data[i,::int(binning_dt * fs)].shape[0]), \n",
    "                               data[i,::int(binning_dt * fs)]/np.max(np.abs(data[i])), color='k')\n",
    "    ax[i].grid(linestyle='dotted')\n",
    "    ax[i].set_xlim(lm)\n",
    "fig.subplots_adjust(wspace=0, hspace=0)\n",
    "fig.suptitle(os.path.basename(os.path.splitext(fn)[0]))"
   ]
  },
  {
   "cell_type": "code",
   "execution_count": 19,
   "metadata": {},
   "outputs": [
    {
     "data": {
      "text/plain": [
       "array([  0,  10,  20,  30,  40,  50,  60,  70,  80,  90, 100])"
      ]
     },
     "execution_count": 19,
     "metadata": {},
     "output_type": "execute_result"
    }
   ],
   "source": [
    "np.linspace(0, 100, 11, dtype=int)"
   ]
  },
  {
   "cell_type": "code",
   "execution_count": 17,
   "metadata": {},
   "outputs": [],
   "source": [
    "fig.savefig('envelope_figs/' + os.path.basename(os.path.splitext(fn)[0])+'_envonly.png', transparent=True, dpi=600)"
   ]
  },
  {
   "cell_type": "code",
   "execution_count": 30,
   "metadata": {},
   "outputs": [],
   "source": [
    "from mpl_toolkits.mplot3d import Axes3D\n"
   ]
  },
  {
   "cell_type": "code",
   "execution_count": 32,
   "metadata": {},
   "outputs": [],
   "source": [
    "intervals = np.linspace(0, data[0,::int(binning_dt * fs)].shape[0], 14, dtype=int)\n",
    "\n",
    "k = 0\n",
    "m = 2\n",
    "j = 1\n",
    "for i in range(intervals.shape[0]-1):\n",
    "    fig = plt.figure()\n",
    "    ax = Axes3D(fig)\n",
    "    corr = correlation(data[k,::int(binning_dt * fs)][intervals[i]:intervals[i+1]], data[m,::int(binning_dt * fs)][intervals[i]:intervals[i+1]])\n",
    "    ax.plot(data[k,::int(binning_dt * fs)][intervals[i]:intervals[i+1]], data[m,::int(binning_dt * fs)][intervals[i]:intervals[i+1]], data[j,::int(binning_dt * fs)][intervals[i]:intervals[i+1]])\n",
    "    fig.suptitle(str(corr))\n",
    "    ax.set_xlabel('X')\n",
    "    ax.set_ylabel('Y')\n",
    "    ax.set_zlabel('Z')"
   ]
  },
  {
   "cell_type": "code",
   "execution_count": 26,
   "metadata": {},
   "outputs": [
    {
     "data": {
      "text/plain": [
       "(12003, 5)"
      ]
     },
     "execution_count": 26,
     "metadata": {},
     "output_type": "execute_result"
    }
   ],
   "source": [
    "# emb = data[[True, True, False, False, True],:].T\n",
    "emb = data.T\n",
    "emb[::int(binning_dt * fs)].shape"
   ]
  },
  {
   "cell_type": "code",
   "execution_count": 18,
   "metadata": {},
   "outputs": [
    {
     "data": {
      "text/plain": [
       "(<Figure size 640x480 with 1 Axes>,\n",
       " <mpl_toolkits.mplot3d.axes3d.Axes3D at 0x17380a2e278>)"
      ]
     },
     "execution_count": 18,
     "metadata": {},
     "output_type": "execute_result"
    }
   ],
   "source": [
    "NLD.plot3Dline(emb[::int(binning_dt * fs)][2000: 8000])"
   ]
  },
  {
   "cell_type": "code",
   "execution_count": 27,
   "metadata": {},
   "outputs": [],
   "source": [
    "emb = emb[::int(binning_dt * fs)][2000: 8000]\n",
    "\n",
    "from sklearn.preprocessing import StandardScaler\n",
    "sc = StandardScaler()\n",
    "fit_emb = sc.fit_transform(emb)"
   ]
  },
  {
   "cell_type": "code",
   "execution_count": 30,
   "metadata": {},
   "outputs": [],
   "source": [
    "\n",
    "fig, ax = plt.subplots(fit_emb.shape[1])\n",
    "for row in range(fit_emb.shape[1]):\n",
    "    ax[row].plot(fit_emb[:,row])"
   ]
  },
  {
   "cell_type": "code",
   "execution_count": 28,
   "metadata": {},
   "outputs": [],
   "source": [
    "from itertools import combinations\n",
    "\n",
    "\n",
    "for i, j in combinations([0, 1, 2, 3], 2):\n",
    "    fig, ax = plt.subplots()\n",
    "\n",
    "    heatmap, xedges, yedges = np.histogram2d(fit_emb[:,i], fit_emb[:,j], bins=50)\n",
    "    extent = [xedges[0], xedges[-1], yedges[0], yedges[-1]]\n",
    "\n",
    "    plt.clf()\n",
    "    plt.imshow(heatmap.T, extent=extent, origin='lower')\n",
    "    plt.colorbar()\n",
    "    plt.show()\n",
    "    plt.title(str(i) + \"-\" + str(j))\n",
    "\n",
    "    fig, ax = plt.subplots()\n",
    "    ax.plot(fit_emb[:,i], fit_emb[:,j])\n",
    "    fig.suptitle(str(i) + \"-\" + str(j))"
   ]
  },
  {
   "cell_type": "code",
   "execution_count": 31,
   "metadata": {},
   "outputs": [],
   "source": [
    "fig, ax = plt.subplots(fit_emb.shape[1], sharex=True)\n",
    "for row in range(fit_emb.shape[1]):\n",
    "    ax[row].plot(fit_emb[:,row])"
   ]
  },
  {
   "cell_type": "code",
   "execution_count": 13,
   "metadata": {},
   "outputs": [
    {
     "data": {
      "text/plain": [
       "19"
      ]
     },
     "execution_count": 13,
     "metadata": {},
     "output_type": "execute_result"
    }
   ],
   "source": [
    "import gc\n",
    "gc.collect()"
   ]
  },
  {
   "cell_type": "code",
   "execution_count": null,
   "metadata": {},
   "outputs": [],
   "source": []
  }
 ],
 "metadata": {
  "kernelspec": {
   "display_name": "Python 3",
   "language": "python",
   "name": "python3"
  },
  "language_info": {
   "codemirror_mode": {
    "name": "ipython",
    "version": 3
   },
   "file_extension": ".py",
   "mimetype": "text/x-python",
   "name": "python",
   "nbconvert_exporter": "python",
   "pygments_lexer": "ipython3",
   "version": "3.6.8"
  }
 },
 "nbformat": 4,
 "nbformat_minor": 4
}
