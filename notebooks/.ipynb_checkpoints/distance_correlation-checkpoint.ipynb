{
 "cells": [
  {
   "cell_type": "code",
   "execution_count": 2,
   "metadata": {},
   "outputs": [
    {
     "name": "stdout",
     "output_type": "stream",
     "text": [
      "/home/agustin/Dropbox/Doctorado/NeuroData/PyLeech\n"
     ]
    }
   ],
   "source": [
    "cd .."
   ]
  },
  {
   "cell_type": "code",
   "execution_count": 3,
   "metadata": {},
   "outputs": [
    {
     "name": "stdout",
     "output_type": "stream",
     "text": [
      "/home/agustin/Dropbox/Doctorado/NeuroData\n"
     ]
    }
   ],
   "source": [
    "cd .."
   ]
  },
  {
   "cell_type": "code",
   "execution_count": 4,
   "metadata": {},
   "outputs": [],
   "source": [
    "%matplotlib qt5"
   ]
  },
  {
   "cell_type": "code",
   "execution_count": 5,
   "metadata": {},
   "outputs": [
    {
     "name": "stdout",
     "output_type": "stream",
     "text": [
      "['RegistrosDP_PP\\\\18n05010.pklspikes', 'RegistrosDP_PP\\\\2018_10_11_0002.pklspikes', 'RegistrosDP_PP\\\\2018_12_03_0005.pklspikes', 'RegistrosDP_PP\\\\2018_12_04_0003_0004_0005_0006b.pklspikes', 'RegistrosDP_PP\\\\2018_12_06_0005.pklspikes', 'RegistrosDP_PP\\\\2018_12_13_0015.pklspikes', 'RegistrosDP_PP\\\\NS_DP_PP_0.pklspikes', 'RegistrosDP_PP\\\\NS_T_DP_PP_0_cut.pklspikes', 'RegistrosDP_PP\\\\NS_T_DP_PP_1.pklspikes', 'RegistrosDP_PP\\\\2014_09_25_0008.pklspikes', 'RegistrosDP_PP\\\\2019_01_28_0001.pklspikes', 'RegistrosDP_PP\\\\2018_11_06_0004.pklspikes', 'RegistrosDP_PP\\\\2018_12_03_0000_0001.pklspikes', 'RegistrosDP_PP\\\\14217000.pklspikes', 'RegistrosDP_PP\\\\2017_12_08_0002.pklspikes', 'RegistrosDP_PP\\\\cont10.pklspikes', 'RegistrosDP_PP\\\\2018_12_13_0001.pklspikes', 'RegistrosDP_PP\\\\2019_07_22_0002.pklspikes', 'RegistrosDP_PP\\\\2019_07_22_0009.pklspikes', 'RegistrosDP_PP\\\\2019_07_22_0011.pklspikes', 'RegistrosDP_PP\\\\2019_07_23_0004.pklspikes', 'RegistrosDP_PP\\\\2019_07_23_0008.pklspikes', 'RegistrosDP_PP\\\\2019_07_23_0014.pklspikes', 'RegistrosDP_PP\\\\2019_08_28_0005.pklspikes', 'RegistrosDP_PP\\\\2019_08_30_0003.pklspikes', 'RegistrosDP_PP\\\\2019_08_30_0006.pklspikes']\n"
     ]
    }
   ],
   "source": [
    "import os\n",
    "\n",
    "import PyLeech.Utils.NLDUtils as NLD\n",
    "import PyLeech.Utils.AbfExtension as abfe\n",
    "\n",
    "import PyLeech.Utils.CrawlingDatabaseUtils as CDU\n",
    "import PyLeech.Utils.burstStorerLoader as bStorerLoader\n",
    "import PyLeech.Utils.burstUtils as burstUtils\n",
    "import numpy as np\n",
    "import scipy.signal as spsig\n",
    "import matplotlib.pyplot as plt\n",
    "import PyLeech.Utils.filterUtils as filterUtils\n",
    "import PyLeech.Utils.correlationUtils as corrUtils\n",
    "import gc \n",
    "from itertools import combinations\n",
    "\n",
    "cdd = CDU.loadDataDict()\n",
    "print(list(cdd))"
   ]
  },
  {
   "cell_type": "code",
   "execution_count": 7,
   "metadata": {},
   "outputs": [
    {
     "name": "stdout",
     "output_type": "stream",
     "text": [
      "{'Vm1': 'NS', 'Vm2': '-', 'IN4': 'DP', 'IN5': 'PP or AA', 'IN6': 'PP or AA', 'IN7': 'MA'}\n",
      "{'Vm1': 'NS', 'IN4': 'DP', 'IN5': 'PP or AA', 'IN6': 'PP or AA', 'IN7': 'MA'}\n"
     ]
    }
   ],
   "source": [
    "fn = [fn for fn in list(cdd) if '2019_08_30_0006' in fn][0]\n",
    "print(cdd[fn]['channels'])\n",
    "ch_dict = {ch: info for ch, info in cdd[fn]['channels'].items() if len(info)>=2}\n",
    "print(ch_dict)"
   ]
  },
  {
   "cell_type": "code",
   "execution_count": 10,
   "metadata": {},
   "outputs": [],
   "source": [
    "fn = fn.replace(\"\\\\\", '/')\n",
    "\n",
    "arr_dict, time_vector, fs = abfe.getArraysFromAbfFiles(fn, list(ch_dict))\n",
    "time_step = .1\n",
    "corr_step = int(10/time_step)\n",
    "for key in arr_dict.keys():\n",
    "    arr_dict[key] = corrUtils.processContinuousSignal(arr_dict[key], dt_step=1/fs, kernel_sigma=.5)\n",
    "    arr_dict[key] = arr_dict[key][int(.1*arr_dict[key].shape[0]):int(.9*arr_dict[key].shape[0])]\n",
    "    arr_dict[key] = arr_dict[key][::int(time_step * fs)]\n",
    "\n",
    "time_vector = np.arange(0, arr_dict[key].shape[0]*time_step, time_step)"
   ]
  },
  {
   "cell_type": "code",
   "execution_count": 53,
   "metadata": {},
   "outputs": [
    {
     "data": {
      "text/plain": [
       "2527"
      ]
     },
     "execution_count": 53,
     "metadata": {},
     "output_type": "execute_result"
    }
   ],
   "source": [
    "# try:\n",
    "#     for a in ax:\n",
    "#         a.cla()\n",
    "# except:\n",
    "#     ax.cla()\n",
    "# fig.clf()\n",
    "# del fig, ax\n",
    "# gc.collect()"
   ]
  },
  {
   "cell_type": "code",
   "execution_count": 71,
   "metadata": {},
   "outputs": [],
   "source": [
    "centers = np.arange(0, NS.shape[0], corr_step, dtype=int) + int(corr_step/2)\n",
    "\n",
    "for k, j in combinations(range(arr_dict.keys(), 2):\n",
    "    dcorr_list = []\n",
    "    for i in np.arange(0, NS.shape[0], corr_step, dtype=int):\n",
    "        dcorr_list.append(corrUtils.getDistanceCorrelation(arr_dict[k][i:i+corr_step], elems[j][i:i+corr_step]))\n",
    "    fig, ax = plt.subplots(3, 1, sharex=True)\n",
    "    ax[0].plot(time_vector, arr_dict   [k])\n",
    "    ax[1].plot(time_vector, arr_dict[j])\n",
    "    ax[2].scatter(time_vector[centers[:-1]], dcorr_list[:-1])\n",
    "    fig.suptitle(ch_dict[k] + '-' + ch_dict[j] + ' correlation')\n"
   ]
  },
  {
   "cell_type": "code",
   "execution_count": 59,
   "metadata": {},
   "outputs": [
    {
     "data": {
      "text/plain": [
       "<matplotlib.collections.PathCollection at 0x7efb905814a8>"
      ]
     },
     "execution_count": 59,
     "metadata": {},
     "output_type": "execute_result"
    }
   ],
   "source": [
    "# fig, ax = plt.subplots(3, 1, sharex=True)\n",
    "# ax[0].plot(time_vector, NS)\n",
    "# ax[1].plot(time_vector, n0)\n",
    "# ax[2].scatter(time_vector[centers[:-1]], dcorr_list[:-1])"
   ]
  },
  {
   "cell_type": "code",
   "execution_count": null,
   "metadata": {},
   "outputs": [],
   "source": []
  }
 ],
 "metadata": {
  "kernelspec": {
   "display_name": "Python 3",
   "language": "python",
   "name": "python3"
  },
  "language_info": {
   "codemirror_mode": {
    "name": "ipython",
    "version": 3
   },
   "file_extension": ".py",
   "mimetype": "text/x-python",
   "name": "python",
   "nbconvert_exporter": "python",
   "pygments_lexer": "ipython3",
   "version": "3.6.8"
  }
 },
 "nbformat": 4,
 "nbformat_minor": 4
}
