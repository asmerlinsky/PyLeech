{
 "cells": [
  {
   "cell_type": "code",
   "execution_count": 1,
   "metadata": {},
   "outputs": [
    {
     "name": "stdout",
     "output_type": "stream",
     "text": [
      "C:\\Users\\agus\\Dropbox\\Doctorado\\NeuroData\\PyLeech\n"
     ]
    }
   ],
   "source": [
    "cd .."
   ]
  },
  {
   "cell_type": "code",
   "execution_count": 2,
   "metadata": {},
   "outputs": [
    {
     "name": "stdout",
     "output_type": "stream",
     "text": [
      "C:\\Users\\agus\\Dropbox\\Doctorado\\NeuroData\n"
     ]
    }
   ],
   "source": [
    "cd .."
   ]
  },
  {
   "cell_type": "code",
   "execution_count": 3,
   "metadata": {},
   "outputs": [],
   "source": [
    "import PyLeech.Utils.CrawlingDatabaseUtils as CDU\n",
    "import numpy as np\n",
    "import matplotlib.pyplot as plt\n",
    "import PyLeech.Utils.NLDUtils as NLD\n",
    "import scipy.signal as spsig\n",
    "import os.path\n",
    "import winsound\n",
    "from mpl_toolkits.mplot3d import Axes3D\n",
    "import PyLeech.Utils.AbfExtension as abfe\n",
    "import time\n",
    "import gc\n",
    "start = time.time()"
   ]
  },
  {
   "cell_type": "code",
   "execution_count": 4,
   "metadata": {},
   "outputs": [],
   "source": [
    "%matplotlib qt5"
   ]
  },
  {
   "cell_type": "code",
   "execution_count": 5,
   "metadata": {},
   "outputs": [
    {
     "name": "stdout",
     "output_type": "stream",
     "text": [
      "['RegistrosDP_PP\\\\18n05010.pklspikes', 'RegistrosDP_PP\\\\2018_10_11_0002.pklspikes', 'RegistrosDP_PP\\\\2018_12_03_0005.pklspikes', 'RegistrosDP_PP\\\\2018_12_04_0003_0004_0005_0006b.pklspikes', 'RegistrosDP_PP\\\\2018_12_06_0005.pklspikes', 'RegistrosDP_PP\\\\2018_12_13_0015.pklspikes', 'RegistrosDP_PP\\\\NS_DP_PP_0.pklspikes', 'RegistrosDP_PP\\\\NS_T_DP_PP_0_cut.pklspikes', 'RegistrosDP_PP\\\\NS_T_DP_PP_1.pklspikes', 'RegistrosDP_PP\\\\2014_09_25_0008.pklspikes', 'RegistrosDP_PP\\\\2019_01_28_0001.pklspikes', 'RegistrosDP_PP\\\\2018_11_06_0004.pklspikes', 'RegistrosDP_PP\\\\2018_12_03_0000_0001.pklspikes', 'RegistrosDP_PP\\\\14217000.pklspikes', 'RegistrosDP_PP\\\\2017_12_08_0002.pklspikes', 'RegistrosDP_PP\\\\cont10.pklspikes', 'RegistrosDP_PP\\\\2018_12_13_0001.pklspikes', 'RegistrosDP_PP\\\\2019_07_22_0002.pklspikes', 'RegistrosDP_PP\\\\2019_07_22_0009.pklspikes', 'RegistrosDP_PP\\\\2019_07_22_0011.pklspikes', 'RegistrosDP_PP\\\\2019_07_23_0004.pklspikes', 'RegistrosDP_PP\\\\2019_07_23_0008.pklspikes', 'RegistrosDP_PP\\\\2019_07_23_0014.pklspikes', 'RegistrosDP_PP\\\\2019_08_28_0005.pklspikes', 'RegistrosDP_PP\\\\2019_08_30_0003.pklspikes', 'RegistrosDP_PP\\\\2019_08_30_0006.pklspikes']\n"
     ]
    }
   ],
   "source": [
    "cdd = CDU.loadDataDict()\n",
    "file_list = list(cdd)\n",
    "print(file_list)"
   ]
  },
  {
   "cell_type": "code",
   "execution_count": 6,
   "metadata": {},
   "outputs": [
    {
     "name": "stdout",
     "output_type": "stream",
     "text": [
      "['RegistrosDP_PP\\\\2018_12_03_0005.pklspikes', 'RegistrosDP_PP\\\\2019_07_22_0002.pklspikes', 'RegistrosDP_PP\\\\2019_07_22_0009.pklspikes', 'RegistrosDP_PP\\\\2019_07_22_0011.pklspikes', 'RegistrosDP_PP\\\\2019_07_23_0008.pklspikes', 'RegistrosDP_PP\\\\2019_08_30_0003.pklspikes', 'RegistrosDP_PP\\\\2019_08_30_0006.pklspikes']\n"
     ]
    }
   ],
   "source": [
    "cdd = CDU.loadDataDict()\n",
    "file_list = list(cdd)\n",
    "binning_dt = .1\n",
    "spike_kernel_sigma = 3\n",
    "\n",
    "trace_list = []\n",
    "emb_list = []\n",
    "ran_files = []\n",
    "run_dict = {}\n",
    "file_sel = [\n",
    "    '2019_07_22_0009', \n",
    "    '2019_07_22_0002',\n",
    "    '2019_07_22_0011',\n",
    "    '2019_08_30_0003',\n",
    "    '2019_08_30_0006',\n",
    "    '2018_12_03_0005',\n",
    "    '2019_07_23_0008'\n",
    "]\n",
    "sublist = [fn for fn in file_list if any([fs in fn for fs in file_sel])]\n",
    "print(sublist)\n",
    "cycle_dict = {}"
   ]
  },
  {
   "cell_type": "code",
   "execution_count": 35,
   "metadata": {},
   "outputs": [],
   "source": [
    "every_single_cycle = []\n",
    "cycle_map = []\n",
    "i = 0\n",
    "for fn in sublist:\n",
    "    ns_channel = [key for key, items in cdd[fn]['channels'].items() if 'NS' == items][0]\n",
    "    fn = abfe.getAbFileListFromBasename(fn)[0]\n",
    "    arr_dict, time_vector , fs = abfe.getArraysFromAbfFiles(fn, [ns_channel])\n",
    "    NS_kernel = NLD.generateGaussianKernel(sigma=spike_kernel_sigma, time_range=20, dt_step=1 / fs)\n",
    "    bl_kernel = NLD.generateGaussianKernel(sigma=45, time_range=10*60, dt_step=1 / fs)\n",
    "    data = arr_dict[ns_channel] - np.mean(arr_dict[ns_channel])\n",
    "    data[(data<-20) | (data>20)] = 0\n",
    "    \n",
    "    bl = spsig.fftconvolve(data, bl_kernel, mode='same')[::int(binning_dt * fs)]\n",
    "\n",
    "    trace = spsig.fftconvolve(data, NS_kernel, mode='same')[::int(binning_dt * fs)]\n",
    "    \n",
    "#     fig, ax = plt.subplots()\n",
    "#     ax.plot(trace)\n",
    "#     ax.plot(bl)\n",
    "#     fig.suptitle(fn)\n",
    "    \n",
    "    if '2019_07_22_0009' in fn:\n",
    "        trace = (trace-bl)[1600:9200]### solo porque estoy correndo el 2019 07 22 0009\n",
    "        peak_height = 2.4\n",
    "    elif '2019_07_22_0002' in fn:\n",
    "        trace = (trace-bl)[900:8800]### solo porque estoy correndo el 2019 07 22 0002\n",
    "        peak_height = 2.4\n",
    "    elif '2019_07_22_0011' in fn:\n",
    "        trace = (trace-bl)[4800:11000]### solo porque estoy correndo el 2019 07 22 0011\n",
    "        peak_height = 1\n",
    "    elif '2019_08_30_0003' in fn:\n",
    "        trace = (trace-bl)[2500:9600]### solo porque estoy correndo el 2019 07 22 0011\n",
    "        peak_height = 1\n",
    "    elif '2019_08_30_0006' in fn:\n",
    "        trace = (trace-bl)[1800:6800]\n",
    "        peak_height = 3.3\n",
    "    elif '2019_07_23_0008' in fn:\n",
    "        trace = (trace-bl)[3700:8400]\n",
    "        peak_height = 1.5\n",
    "    elif '2018_12_03_0005' in fn:\n",
    "        trace = (trace-bl)[2200:7800]\n",
    "        peak_height = 1\n",
    "    else:\n",
    "        trace = (trace-bl)\n",
    "        peak_height = 1\n",
    "            \n",
    "    resampled_trace = NLD.resampleByCycles(trace, fs=binning_dt, peak_height=peak_height)\n",
    "    kernel = NLD.generateGaussianKernel(sigma=1.5, time_range=2, dt_step=binning_dt)\n",
    "    smoothed_resampled_trace = spsig.fftconvolve(resampled_trace, kernel, mode='same')\n",
    "    \n",
    "    every_single_cycle.append(smoothed_resampled_trace)\n",
    "\n",
    "    \n",
    "every_single_cycle = np.hstack(every_single_cycle).astype(np.float32)"
   ]
  },
  {
   "cell_type": "code",
   "execution_count": 24,
   "metadata": {},
   "outputs": [
    {
     "data": {
      "text/plain": [
       "[<matplotlib.lines.Line2D at 0x235569820b8>]"
      ]
     },
     "execution_count": 24,
     "metadata": {},
     "output_type": "execute_result"
    }
   ],
   "source": [
    "fig, ax = plt.subplots()\n",
    "ax.plot(trace)"
   ]
  },
  {
   "cell_type": "code",
   "execution_count": 8,
   "metadata": {},
   "outputs": [],
   "source": [
    "gc.collect()\n",
    "every_single_cycle = NLD.resampleByCycles(every_single_cycle, fs=binning_dt, peak_height=1.5)\n",
    "kernel = NLD.generateGaussianKernel(sigma=1.5, time_range=2, dt_step=binning_dt)\n",
    "every_single_cycle = spsig.fftconvolve(every_single_cycle, kernel, mode='same')"
   ]
  },
  {
   "cell_type": "code",
   "execution_count": 29,
   "metadata": {},
   "outputs": [
    {
     "data": {
      "text/plain": [
       "[<matplotlib.lines.Line2D at 0x234ce703048>]"
      ]
     },
     "execution_count": 29,
     "metadata": {},
     "output_type": "execute_result"
    }
   ],
   "source": [
    "step = 10\n",
    "fig, ax = plt.subplots()\n",
    "ax.plot(every_single_cycle[::step])\n",
    "# every_single_cycle.shape"
   ]
  },
  {
   "cell_type": "code",
   "execution_count": 39,
   "metadata": {},
   "outputs": [],
   "source": [
    "thr = .05\n",
    "gc.collect()\n",
    "cr_mat = NLD.getCloseReturns(every_single_cycle[::step][:, np.newaxis], threshold=thr, low_memory=True, get_mask=False)\n"
   ]
  },
  {
   "cell_type": "code",
   "execution_count": 40,
   "metadata": {},
   "outputs": [
    {
     "data": {
      "text/plain": [
       "(<Figure size 640x480 with 2 Axes>,\n",
       " <matplotlib.axes._subplots.AxesSubplot at 0x234d1d6df60>)"
      ]
     },
     "execution_count": 40,
     "metadata": {},
     "output_type": "execute_result"
    }
   ],
   "source": [
    "NLD.plotCloseReturns(cr_mat, masked=True, reorder=False, get_counts=False, thr=thr)"
   ]
  },
  {
   "cell_type": "code",
   "execution_count": 12,
   "metadata": {},
   "outputs": [
    {
     "data": {
      "text/plain": [
       "<matplotlib.image.AxesImage at 0x234895897b8>"
      ]
     },
     "execution_count": 12,
     "metadata": {},
     "output_type": "execute_result"
    }
   ],
   "source": [
    "gc.collect()\n",
    "plt.matshow(cr_mat<(cr_mat.max()*.05))"
   ]
  },
  {
   "cell_type": "code",
   "execution_count": 41,
   "metadata": {},
   "outputs": [],
   "source": [
    "gc.collect()\n",
    "sg_dict = NLD.getCloseReturnsSegmentsFromUnorderedMatrix(cr_mat<(cr_mat.max()*.05), rt_len=100,single_file=True, min_dist=100)\n"
   ]
  },
  {
   "cell_type": "code",
   "execution_count": 42,
   "metadata": {},
   "outputs": [
    {
     "name": "stdout",
     "output_type": "stream",
     "text": [
      "33\n"
     ]
    }
   ],
   "source": [
    "time_delta = 100\n",
    "length = 100\n",
    "count = 0\n",
    "\n",
    "for diagonal in list(sg_dict):\n",
    "    for tup0, tup1 in sg_dict[diagonal]:\n",
    "        if tup1 - tup0  > length and np.abs(diagonal) > time_delta:\n",
    "            count += 1\n",
    "print(count)"
   ]
  },
  {
   "cell_type": "code",
   "execution_count": 15,
   "metadata": {},
   "outputs": [
    {
     "data": {
      "text/plain": [
       "0"
      ]
     },
     "execution_count": 15,
     "metadata": {},
     "output_type": "execute_result"
    }
   ],
   "source": [
    "gc.collect()"
   ]
  },
  {
   "cell_type": "code",
   "execution_count": 16,
   "metadata": {},
   "outputs": [],
   "source": [
    "# tup0, tup1 = 6575, 6775\n",
    "# diag = 120\n",
    "# fig1, ax1 = plt.subplots()\n",
    "# t0 = every_single_cycle[::step][tup0:tup1]\n",
    "# t1 = every_single_cycle[::step][tup0 + diagonal:tup1 + diagonal]\n",
    "# r0 = np.arange(t0.shape[0])\n",
    "# r1 = np.arange(t1.shape[0])\n",
    "# ax1.plot(r0, t0, linewidth=1, color='k')\n",
    "# ax1.plot(r1, t1, linewidth=1, color='r')\n",
    "\n",
    "# fig1.suptitle(\" shift: \" + str(diagonal) + \" \" + str(tup0) + \"-\" + str(tup1) +\n",
    "#              \"\\n\" + str(tup0 + diagonal) + \"-\" + str(tup1 + diagonal))"
   ]
  },
  {
   "cell_type": "code",
   "execution_count": 43,
   "metadata": {},
   "outputs": [
    {
     "name": "stderr",
     "output_type": "stream",
     "text": [
      "c:\\users\\agus\\appdata\\local\\programs\\python\\python36\\lib\\site-packages\\matplotlib\\pyplot.py:513: RuntimeWarning: More than 20 figures have been opened. Figures created through the pyplot interface (`matplotlib.pyplot.figure`) are retained until explicitly closed and may consume too much memory. (To control this warning, see the rcParam `figure.max_open_warning`).\n",
      "  max_open_warning, RuntimeWarning)\n"
     ]
    }
   ],
   "source": [
    "for diagonal in list(sg_dict):\n",
    "    for tup0, tup1 in sg_dict[diagonal]:\n",
    "        if tup1-tup0 > length and np.abs(diagonal)>time_delta:\n",
    "            fig1, ax1 = plt.subplots()\n",
    "            t0 = every_single_cycle[::step][tup0:tup1]\n",
    "            t1 = every_single_cycle[::step][tup0 + diagonal:tup1 + diagonal]\n",
    "            r0 = np.arange(t0.shape[0])\n",
    "            r1 = np.arange(t1.shape[0])\n",
    "            ax1.plot(r0, t0, linewidth=1, color='k')\n",
    "            ax1.plot(r1, t1, linewidth=1, color='r')\n",
    "\n",
    "            fig1.suptitle(\" shift: \" + str(diagonal) + \" \" + str(tup0) + \"-\" + str(tup1) +\n",
    "                         \"\\n\" + str(tup0 + diagonal) + \"-\" + str(tup1 + diagonal))\n",
    "            \n",
    "            "
   ]
  },
  {
   "cell_type": "code",
   "execution_count": 38,
   "metadata": {},
   "outputs": [
    {
     "data": {
      "text/plain": [
       "<matplotlib.legend.Legend at 0x2357857f898>"
      ]
     },
     "execution_count": 38,
     "metadata": {},
     "output_type": "execute_result"
    }
   ],
   "source": [
    "import matplotlib as mpl\n",
    "select = { 120: (642, 826),\n",
    "          120: (1248, 1545),\n",
    "           237: (748, 980),\n",
    "          829: (1057, 1209),\n",
    "          596: (3780, 3914),\n",
    "          8912: (3439, 3572),\n",
    "          594: (1299, 1450),\n",
    "          117: (8138, 8270),\n",
    "          3089: (7910, 8054),\n",
    "          3328: (3639, 3784),\n",
    "}\n",
    "\n",
    "# for diagonal in list(select):\n",
    "#     tup0, tup1 = select[diagonal]\n",
    "#     fig1, ax1 = plt.subplots()\n",
    "#     t0 = every_single_cycle[::step][tup0:tup1]\n",
    "#     t1 = every_single_cycle[::step][tup0 + diagonal:tup1 + diagonal]\n",
    "#     r0 = np.arange(t0.shape[0])\n",
    "#     r1 = np.arange(t1.shape[0])\n",
    "#     ax1.plot(r0, t0, linewidth=1, color='k')\n",
    "#     ax1.plot(r1, t1, linewidth=1, color='r')\n",
    "\n",
    "#     fig1.suptitle(\" shift: \" + str(diagonal) + \" \" + str(tup0) + \"-\" + str(tup1) +\n",
    "#                  \"\\n\" + str(tup0 + diagonal) + \"-\" + str(tup1 + diagonal))\n",
    "\n",
    "fig = plt.figure()\n",
    "ax = Axes3D(fig)\n",
    "cmap = plt.get_cmap('jet')\n",
    "cNorm = mpl.colors.Normalize(vmin=0, vmax=len(select)- 1)\n",
    "scalarMap = mpl.cm.ScalarMappable(norm=cNorm, cmap=cmap)\n",
    "ls = np.linspace(0, 1, len(select))\n",
    "i = 0\n",
    "for diag, items in select.items():\n",
    "    f1, a1 = plt.subplots()\n",
    "    mean = np.mean(np.array((every_single_cycle[::10][items[0]:items[1]], every_single_cycle[::10][items[0]+diag:items[1]+diag])), axis=0)\n",
    "    a1.plot(mean)\n",
    "    emb = NLD.getTraceEmbedding(mean, 10, 3)\n",
    "    NLD.plot3Dline(emb, fig_ax_pair=[fig, ax], label=str(diag), color=cmap(ls[i]))\n",
    "    i += 1\n",
    "fig.legend()"
   ]
  },
  {
   "cell_type": "code",
   "execution_count": null,
   "metadata": {},
   "outputs": [],
   "source": []
  }
 ],
 "metadata": {
  "kernelspec": {
   "display_name": "Python 3",
   "language": "python",
   "name": "python3"
  },
  "language_info": {
   "codemirror_mode": {
    "name": "ipython",
    "version": 3
   },
   "file_extension": ".py",
   "mimetype": "text/x-python",
   "name": "python",
   "nbconvert_exporter": "python",
   "pygments_lexer": "ipython3",
   "version": "3.6.5"
  }
 },
 "nbformat": 4,
 "nbformat_minor": 4
}
