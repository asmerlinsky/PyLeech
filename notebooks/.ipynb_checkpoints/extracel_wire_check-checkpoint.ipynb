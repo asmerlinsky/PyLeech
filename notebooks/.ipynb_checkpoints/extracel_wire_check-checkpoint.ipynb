{
 "cells": [
  {
   "cell_type": "code",
   "execution_count": 1,
   "metadata": {},
   "outputs": [
    {
     "name": "stdout",
     "output_type": "stream",
     "text": [
      "C:\\Users\\Agustin\\Dropbox\\Doctorado\\NeuroData\\PyLeech\n"
     ]
    }
   ],
   "source": [
    "cd .."
   ]
  },
  {
   "cell_type": "code",
   "execution_count": 2,
   "metadata": {},
   "outputs": [
    {
     "name": "stdout",
     "output_type": "stream",
     "text": [
      "C:\\Users\\Agustin\\Dropbox\\Doctorado\\NeuroData\n"
     ]
    }
   ],
   "source": [
    "cd .."
   ]
  },
  {
   "cell_type": "code",
   "execution_count": 3,
   "metadata": {},
   "outputs": [],
   "source": [
    "import numpy as np\n",
    "import PyLeech.Utils.SpSorter as SpSorter\n",
    "import matplotlib.pyplot as plt\n",
    "import PyLeech.Utils.AbfExtension as abfe\n",
    "import PyLeech.Utils.filterUtils as filterUtils\n"
   ]
  },
  {
   "cell_type": "code",
   "execution_count": 4,
   "metadata": {},
   "outputs": [],
   "source": [
    "%matplotlib qt5"
   ]
  },
  {
   "cell_type": "code",
   "execution_count": 12,
   "metadata": {},
   "outputs": [
    {
     "name": "stdout",
     "output_type": "stream",
     "text": [
      "2\n",
      "2\n",
      "2\n"
     ]
    }
   ],
   "source": [
    "from importlib import reload \n",
    "reload(filterUtils)\n",
    "np.set_printoptions(precision=3)\n",
    "plt.ion()\n",
    "\n",
    "filenames = ['19-08-27/2019_08_27_0000.abf',\n",
    "             ]\n",
    "\n",
    "arr_dict, time , fs= abfe.getArraysFromAbfFiles(filenames, ['IN4', 'IN5', 'Vm1'])\n",
    "\n",
    "n1 = arr_dict['IN4']\n",
    "n2 = arr_dict['IN5']\n",
    "n3 = arr_dict['Vm1']\n",
    "\n",
    "noise_freqs = filterUtils.getNoiseFreqsFromEveryChannel(np.array([n1, n2, n3]).T, sample_freq=fs, peak_dist=70, max_freq=500)"
   ]
  },
  {
   "cell_type": "code",
   "execution_count": 13,
   "metadata": {},
   "outputs": [
    {
     "data": {
      "text/plain": [
       "[60.0, 160.0, 240.0, 260.0, 340.0, 360.0, 460.0]"
      ]
     },
     "execution_count": 13,
     "metadata": {},
     "output_type": "execute_result"
    }
   ],
   "source": [
    "fig, ax = plt.subplots(3,1, sharex=True)\n",
    "fig1, ax1 = plt.subplots(3,1, sharex=True)\n",
    "\n",
    "n1_filt = filterUtils.runButterFilter(n1, 3000, sampling_rate=fs)\n",
    "n1_filt = filterUtils.runButterFilter(n_filt, 5, sampling_rate=fs, butt_order=4, btype='high')\n",
    "n1_filt = filterUtils.runFilter(n_filt, np.arange(50, 1500, 100), fs, .1)\n",
    "n1_filt = filterUtils.runFilter(n_filt, [75, 100], fs, .1)\n",
    "filterUtils.plotSpectrums(n_filt, line_filt, pltobj=ax1[0], sampling_rate=fs, nperseg=10000)\n",
    "ax[0].plot(n1_filt)\n",
    "ax[0].plot(n1_filt)"
   ]
  },
  {
   "cell_type": "code",
   "execution_count": 20,
   "metadata": {},
   "outputs": [],
   "source": [
    "fig, ax = plt.subplots(3,1, sharex=True)\n",
    "fig1, ax1 = plt.subplots(3,1, sharex=True)\n",
    "i = 0\n",
    "\n",
    "for tr in [n1, n2, n3]:\n",
    "    n_filt = filterUtils.runButterFilter(tr, 3000, sampling_rate=fs)\n",
    "    n_filt = filterUtils.runButterFilter(n_filt, 5, sampling_rate=fs, butt_order=4, btype='high')\n",
    "    line_filt = filterUtils.runFilter(n_filt, [50, 350, 500], fs, .1)\n",
    "    ax[i].plot(n_filt)\n",
    "    ax[i].plot(line_filt)\n",
    "    filterUtils.plotSpectrums(n_filt, line_filt, pltobj=ax1[i], sampling_rate=fs, nperseg=10000)\n",
    "    i += 1"
   ]
  },
  {
   "cell_type": "code",
   "execution_count": null,
   "metadata": {},
   "outputs": [],
   "source": []
  }
 ],
 "metadata": {
  "kernelspec": {
   "display_name": "Python 3",
   "language": "python",
   "name": "python3"
  },
  "language_info": {
   "codemirror_mode": {
    "name": "ipython",
    "version": 3
   },
   "file_extension": ".py",
   "mimetype": "text/x-python",
   "name": "python",
   "nbconvert_exporter": "python",
   "pygments_lexer": "ipython3",
   "version": "3.6.5"
  }
 },
 "nbformat": 4,
 "nbformat_minor": 4
}
