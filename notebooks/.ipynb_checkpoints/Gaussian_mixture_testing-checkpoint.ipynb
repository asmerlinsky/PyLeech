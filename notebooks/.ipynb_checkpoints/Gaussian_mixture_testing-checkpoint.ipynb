{
 "cells": [
  {
   "cell_type": "code",
   "execution_count": 1,
   "metadata": {},
   "outputs": [
    {
     "name": "stdout",
     "output_type": "stream",
     "text": [
      "C:\\Users\\agus\\Dropbox\\Doctorado\\NeuroData\n"
     ]
    }
   ],
   "source": [
    "cd .."
   ]
  },
  {
   "cell_type": "code",
   "execution_count": 2,
   "metadata": {},
   "outputs": [
    {
     "name": "stdout",
     "output_type": "stream",
     "text": [
      "Vm1 {'id': 0, 'sampling_rate': 20000.0, 'dtype': 'int16', 'units': 'mV', 'gain': 0.03051757880712104, 'offset': 0.0, 'group_id': 0, 'index': 0}\n",
      "Im1 {'id': 1, 'sampling_rate': 20000.0, 'dtype': 'int16', 'units': 'nA', 'gain': 0.03051757880712104, 'offset': 0.0, 'group_id': 0, 'index': 1}\n",
      "IN5 {'id': 5, 'sampling_rate': 20000.0, 'dtype': 'int16', 'units': 'V', 'gain': 0.00030517578125, 'offset': 0.0, 'group_id': 0, 'index': 2}\n",
      "IN6 {'id': 6, 'sampling_rate': 20000.0, 'dtype': 'int16', 'units': 'V', 'gain': 0.00030517578125, 'offset': 0.0, 'group_id': 0, 'index': 3}\n"
     ]
    },
    {
     "name": "stderr",
     "output_type": "stream",
     "text": [
      "c:\\users\\agus\\appdata\\local\\programs\\python\\python36\\lib\\site-packages\\scipy\\signal\\_arraytools.py:45: FutureWarning: Using a non-tuple sequence for multidimensional indexing is deprecated; use `arr[tuple(seq)]` instead of `arr[seq]`. In the future this will be interpreted as an array index, `arr[np.array(seq)]`, which will result either in an error or a different result.\n",
      "  b = a[a_slice]\n"
     ]
    },
    {
     "name": "stdout",
     "output_type": "stream",
     "text": [
      "Found 2625 out of 2733 events\n",
      "0 -10753.29779456732\n",
      "1 -3032.450422127018\n",
      "2 -1886.9518229971036\n",
      "3 -1377.5223869266483\n",
      "4 -1138.5447022265598\n",
      "5 -991.7210816771149\n",
      "6 -867.9427395985549\n",
      "7 -767.5874380236783\n",
      "8 -676.5925632570797\n",
      "9 -589.6949648441987\n",
      "10 -505.66796508309017\n",
      "11 -432.40803071106893\n",
      "12 -362.31636694343615\n",
      "13 -300.84603587409583\n",
      "14 -246.31569425430644\n",
      "15 -193.92376595190035\n",
      "16 -142.03307642947402\n",
      "17 -93.82495759414269\n",
      "18 -51.53653847282294\n",
      "19 -14.60642033523618\n",
      "20 21.769258908214397\n",
      "21 55.45830324599228\n",
      "22 86.61416088205806\n",
      "23 115.00383345700902\n",
      "24 141.40471034536677\n",
      "25 164.9370536566239\n",
      "26 186.7647912885368\n",
      "27 207.2216083446383\n",
      "28 226.6453240700448\n",
      "29 244.91976849148705\n",
      "30 261.83029855235145\n",
      "31 277.82422950820364\n",
      "32 292.19449069458824\n",
      "33 305.5811400933417\n",
      "34 317.852095363236\n",
      "35 329.1968597495161\n",
      "36 339.9723742971346\n",
      "37 349.7683935411096\n",
      "38 359.16518686416384\n",
      "39 367.62131631786906\n",
      "Running\n",
      "41.792710304260254\n"
     ]
    }
   ],
   "source": [
    "%matplotlib qt5\n",
    "from copy import deepcopy\n",
    "from importlib import reload\n",
    "import time\n",
    "import PyLeech.AbfExtension as abfe\n",
    "import numpy as np\n",
    "import matplotlib.pylab as plt\n",
    "import PyLeech.sorting_with_python as swp\n",
    "import PyLeech.spsortUtils\n",
    "from sklearn.cluster import KMeans\n",
    "import multiprocessing\n",
    "import PyLeech.constants as constants\n",
    "import PyLeech.filterUtils\n",
    "import PyLeech.BurstUtils as BurstUtils\n",
    "\n",
    "nan = constants.nan\n",
    "opp0 = constants.opp0\n",
    "\n",
    "\n",
    "\n",
    "\n",
    "\n",
    "np.set_printoptions(precision=3)\n",
    "plt.ion()\n",
    "\n",
    "filename = \"RegistrosDP_PP/2018_11_06_0004.abf\"\n",
    "block = abfe.ExtendedAxonRawIo(\"RegistrosDP_PP/2018_11_06_0004.abf\")\n",
    "ch_info = block.ch_info\n",
    "\n",
    "[print(ch, item) for ch, item in ch_info.items()]\n",
    "\n",
    "n1 = np.array(block.getSignal_single_segment('IN5'))\n",
    "n2 = np.array(block.getSignal_single_segment('IN6'))\n",
    "fs = block.get_signal_sampling_rate()\n",
    "data_len = int(len(n1)/2)\n",
    "train_time = abfe.generateTimeVector(data_len, fs)\n",
    "\n",
    "\n",
    "del block\n",
    "\n",
    "# plt.figure()\n",
    "# PyLeech.filterUtils.plotSpectrums(n1, n2, sampling_rate=fs, nperseg=10000)\n",
    "\n",
    "n1_filt = PyLeech.filterUtils.runButterFilter(n1, 3000, sampling_rate=fs)\n",
    "n2_filt = PyLeech.filterUtils.runButterFilter(n2, 3000, sampling_rate=fs)\n",
    "\n",
    "n1_filt = PyLeech.filterUtils.runButterFilter(n1_filt, 20, sampling_rate=fs, butt_order=4, btype='high')\n",
    "n2_filt = PyLeech.filterUtils.runButterFilter(n2_filt, 20, sampling_rate=fs, butt_order=4, btype='high')\n",
    "\n",
    "# PyLeech.filterUtils.plotSpectrums(n2, n2_filt, sampling_rate=fs, nperseg=10000)\n",
    "\n",
    "train_data = np.array(\n",
    "    [n1_filt[:data_len],\n",
    "     n2_filt[:data_len],\n",
    "    ]\n",
    ")\n",
    "del n1, n2, n1_filt, n2_filt\n",
    "train_time\n",
    "\n",
    "\n",
    "sorter = PyLeech.spsortUtils.SpSorter(filename, train_data, train_time, fs)\n",
    "del train_data, train_time\n",
    "\n",
    "sorter.normTraces()\n",
    "sorter.smoothAndFindPeaks(vect_len=7, threshold=6, min_dist=100)\n",
    "sorter.makeEvents(149, 150)\n",
    "sorter.makeNoiseEvents(size=4000)\n",
    "sorter.getGoodEvents(threshold=25)\n",
    "\n",
    "sorter.getPcaBase(plot_vectors=False)\n",
    "\n",
    "sorter.getVectorWeights(40)\n",
    "start = time.time()\n",
    "sorter.KMeansClusterEvents(25, use_pca=True, dim_size=25, save=False)\n",
    "end = time.time()\n",
    "print(end-start)"
   ]
  },
  {
   "cell_type": "code",
   "execution_count": 3,
   "metadata": {},
   "outputs": [],
   "source": [
    "from sklearn import mixture"
   ]
  },
  {
   "cell_type": "code",
   "execution_count": 4,
   "metadata": {},
   "outputs": [
    {
     "name": "stdout",
     "output_type": "stream",
     "text": [
      "elapsed time: 0\n"
     ]
    }
   ],
   "source": [
    "start = time.time()\n",
    "evt_proy = np.dot(sorter.evts[sorter.good_evts], sorter.unitary[:,0:25])\n",
    "gmm = mixture.GaussianMixture(n_components=20, covariance_type='full').fit(evt_proy)\n",
    "end = time.time()\n",
    "print('elapsed time: %i' % int(end - start))"
   ]
  },
  {
   "cell_type": "code",
   "execution_count": 6,
   "metadata": {},
   "outputs": [],
   "source": [
    "sorter.viewPcaClusters(go_pandas=True, clust_dim=10)"
   ]
  },
  {
   "cell_type": "code",
   "execution_count": 8,
   "metadata": {},
   "outputs": [
    {
     "name": "stdout",
     "output_type": "stream",
     "text": [
      "Running\n",
      "KMeans took 22\n"
     ]
    },
    {
     "name": "stderr",
     "output_type": "stream",
     "text": [
      "c:\\users\\agus\\appdata\\local\\programs\\python\\python36\\lib\\site-packages\\matplotlib\\pyplot.py:513: RuntimeWarning: More than 20 figures have been opened. Figures created through the pyplot interface (`matplotlib.pyplot.figure`) are retained until explicitly closed and may consume too much memory. (To control this warning, see the rcParam `figure.max_open_warning`).\n",
      "  max_open_warning, RuntimeWarning)\n"
     ]
    },
    {
     "name": "stdout",
     "output_type": "stream",
     "text": [
      "GMM took 281\n"
     ]
    },
    {
     "name": "stderr",
     "output_type": "stream",
     "text": [
      "c:\\users\\agus\\appdata\\local\\programs\\python\\python36\\lib\\site-packages\\matplotlib\\pyplot.py:513: RuntimeWarning: More than 20 figures have been opened. Figures created through the pyplot interface (`matplotlib.pyplot.figure`) are retained until explicitly closed and may consume too much memory. (To control this warning, see the rcParam `figure.max_open_warning`).\n",
      "  max_open_warning, RuntimeWarning)\n"
     ]
    }
   ],
   "source": [
    "start = time.time()\n",
    "sorter.KMeansClusterEvents(15, use_pca=True, dim_size=25, save=False)\n",
    "end = time.time()\n",
    "print('KMeans took %i' % int(end-start))\n",
    "\n",
    "      \n",
    "\n",
    "orig_clusters = deepcopy(sorter.clusters)\n",
    "sorter.plotClusters()\n",
    "      \n",
    "      \n",
    "start = time.time()\n",
    "evt_proy = np.dot(sorter.evts[sorter.good_evts], sorter.unitary[:,0:25])\n",
    "gmm = mixture.GaussianMixture(n_components=15, covariance_type='full', n_init=300, max_iter=200).fit(evt_proy)\n",
    "\n",
    "\n",
    "sorter.clusters = gmm.predict(evt_proy)\n",
    "end = time.time()\n",
    "print('GMM took %i' % int(end - start))\n",
    "sorter.plotClusters()"
   ]
  },
  {
   "cell_type": "code",
   "execution_count": null,
   "metadata": {},
   "outputs": [],
   "source": []
  }
 ],
 "metadata": {
  "kernelspec": {
   "display_name": "Python 3",
   "language": "python",
   "name": "python3"
  },
  "language_info": {
   "codemirror_mode": {
    "name": "ipython",
    "version": 3
   },
   "file_extension": ".py",
   "mimetype": "text/x-python",
   "name": "python",
   "nbconvert_exporter": "python",
   "pygments_lexer": "ipython3",
   "version": "3.6.5"
  }
 },
 "nbformat": 4,
 "nbformat_minor": 2
}
