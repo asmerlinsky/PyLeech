{
 "cells": [
  {
   "cell_type": "code",
   "execution_count": 1,
   "metadata": {},
   "outputs": [
    {
     "name": "stdout",
     "output_type": "stream",
     "text": [
      "C:\\Users\\agus\\Dropbox\\Doctorado\\NeuroData\\PyLeech\n"
     ]
    }
   ],
   "source": [
    "cd .."
   ]
  },
  {
   "cell_type": "code",
   "execution_count": 2,
   "metadata": {},
   "outputs": [
    {
     "name": "stdout",
     "output_type": "stream",
     "text": [
      "C:\\Users\\agus\\Dropbox\\Doctorado\\NeuroData\n"
     ]
    }
   ],
   "source": [
    "cd .."
   ]
  },
  {
   "cell_type": "code",
   "execution_count": 3,
   "metadata": {},
   "outputs": [],
   "source": [
    "%matplotlib qt5"
   ]
  },
  {
   "cell_type": "code",
   "execution_count": 4,
   "metadata": {},
   "outputs": [],
   "source": [
    "import os\n",
    "\n",
    "import PyLeech.Utils.CrawlingDatabaseUtils as CDU\n",
    "import PyLeech.Utils.burstStorerLoader as burstStorerLoader\n",
    "import PyLeech.Utils.burstUtils as burstUtils\n",
    "import numpy as np\n",
    "import multiprocessing as mp\n",
    "import PyLeech.Utils.NLDUtils as NLDUtils\n",
    "import PyLeech.Utils.AbfExtension as abfe\n",
    "import PyLeech.Utils.correlationUtils as corrUtils\n",
    "from sklearn.manifold import Isomap\n",
    "from sklearn.decomposition import PCA\n",
    "\n",
    "import matplotlib.pyplot as plt"
   ]
  },
  {
   "cell_type": "code",
   "execution_count": 7,
   "metadata": {},
   "outputs": [],
   "source": [
    "plot_list = \"2018_12_13_0001\", \"2019_08_28_0005\", \"2019_08_26_0002\", \"2019_08_30_0003\", \"2018_12_13_0015\""
   ]
  },
  {
   "cell_type": "code",
   "execution_count": 8,
   "metadata": {},
   "outputs": [],
   "source": [
    "cdd = CDU.loadDataDict()\n",
    "\n",
    "kernel_sigma = 2\n",
    "time_range = 20\n",
    "time_step = .1\n",
    "n_neighbors  = 5\n",
    "bin_step = .5"
   ]
  },
  {
   "cell_type": "code",
   "execution_count": 19,
   "metadata": {},
   "outputs": [],
   "source": [
    "j = 3"
   ]
  },
  {
   "cell_type": "code",
   "execution_count": 20,
   "metadata": {},
   "outputs": [],
   "source": [
    "for fn in list(cdd):\n",
    "#     if any([select in fn for select in plot_list]):\n",
    "    if plot_list[j] in fn:\n",
    "        ch_dict = {ch: info for ch, info in cdd[fn]['channels'].items() if len(info) >= 2}\n",
    "        cdd_de3 = cdd[fn]['DE3']\n",
    "        selected_neurons = [neuron for neuron, neuron_dict in cdd[fn]['neurons'].items() if\n",
    "                            neuron_dict[\"neuron_is_good\"]]\n",
    "        fn = fn.replace(\"\\\\\", '/')\n",
    "\n",
    "        basename = os.path.splitext(os.path.basename(fn))[0]\n",
    "\n",
    "        burst_object = burstStorerLoader.UnitInfo(fn, mode='load')\n",
    "        array_dict, time_vector, fs = abfe.getArraysFromAbfFiles(fn, channels=ch_dict)\n",
    "        \n",
    "        time_vector = time_vector[::int(fs * bin_step)]\n",
    "        \n",
    "        spike_count_dict = burstUtils.processSpikeFreqDict(burst_object.spike_freq_dict, step=bin_step,\n",
    "                                        selected_neurons=selected_neurons,\n",
    "                                        time_length=burst_object.time[-1], counting=True)\n",
    "        \n",
    "        temp_dict = {}\n",
    "        for key, items in spike_count_dict.items():\n",
    "            temp_dict[key] = np.array([items[0], np.sqrt(items[1])])\n",
    "        spike_count_dict = temp_dict\n",
    "        \n",
    "        smoothed_scd = burstUtils.smoothBinnedSpikeFreqDict(spike_count_dict, 3*bin_step, time_range=30, dt_step=bin_step)\n",
    "        \n",
    "        fig, ax_list = burstUtils.plotFreq(smoothed_scd, color_dict=burst_object.color_dict, template_dict=burst_object.template_dict)\n",
    "        fig.suptitle(\"%s, De3 is %i\" % (basename, burst_object.isDe3))\n",
    "        \n",
    "        \n",
    "#         fig, ax = corrUtils.plotCorrelation(basename, burst_object.isDe3, spike_count_dict, burst_object.color_dict, time_vector)\n",
    "#         ax.get_shared_x_axes().join(ax, ax_list[0])\n",
    "        \n",
    "#         data_array = burstUtils.sfdToArray(smoothed_scd)\n",
    "        \n",
    "#         corrUtils.plotPCA(basename, data_array, bin_step,time_vector, joined_ax=ax)\n",
    "        \n",
    "        \n",
    "#         embedding = Isomap(n_neighbors=n_neighbors, n_components=3, n_jobs=mp.cpu_count()-2, )\n",
    "        \n",
    "#         transformed_count = embedding.fit_transform(data_array) \n",
    "        \n",
    "#         fig, ax = NLDUtils.plot3Dscatter(transformed_count)\n",
    "#         fig.suptitle(basename + \"\\n%i neigbours Isomap\" % n_neighbors)#, c='white')\n",
    "#         ax.set_facecolor('k')\n",
    "\n",
    "        \n",
    "        \n",
    "#         break"
   ]
  },
  {
   "cell_type": "code",
   "execution_count": 16,
   "metadata": {},
   "outputs": [
    {
     "data": {
      "text/plain": [
       "Text(0.5, 0.98, '2018_12_13_0015\\n5 neigbours Isomap')"
      ]
     },
     "execution_count": 16,
     "metadata": {},
     "output_type": "execute_result"
    }
   ],
   "source": [
    "fig, ax = NLDUtils.plot3Dscatter(transformed_count)\n",
    "fig.suptitle(basename + \"\\n%i neigbours Isomap\" % n_neighbors)#, c='white')"
   ]
  },
  {
   "cell_type": "code",
   "execution_count": 10,
   "metadata": {},
   "outputs": [
    {
     "data": {
      "text/plain": [
       "['RegistrosDP_PP\\\\18n05010.pklspikes',\n",
       " 'RegistrosDP_PP\\\\2018_10_11_0002.pklspikes',\n",
       " 'RegistrosDP_PP\\\\2018_12_03_0005.pklspikes',\n",
       " 'RegistrosDP_PP\\\\2018_12_04_0003_0004_0005_0006b.pklspikes',\n",
       " 'RegistrosDP_PP\\\\2018_12_06_0005.pklspikes',\n",
       " 'RegistrosDP_PP\\\\2018_12_13_0015.pklspikes',\n",
       " 'RegistrosDP_PP\\\\NS_DP_PP_0.pklspikes',\n",
       " 'RegistrosDP_PP\\\\NS_T_DP_PP_0_cut.pklspikes',\n",
       " 'RegistrosDP_PP\\\\NS_T_DP_PP_1.pklspikes',\n",
       " 'RegistrosDP_PP\\\\2014_09_25_0008.pklspikes',\n",
       " 'RegistrosDP_PP\\\\2019_01_28_0001.pklspikes',\n",
       " 'RegistrosDP_PP\\\\2018_11_06_0004.pklspikes',\n",
       " 'RegistrosDP_PP\\\\2018_12_03_0000_0001.pklspikes',\n",
       " 'RegistrosDP_PP\\\\14217000.pklspikes',\n",
       " 'RegistrosDP_PP\\\\2017_12_08_0002.pklspikes',\n",
       " 'RegistrosDP_PP\\\\cont10.pklspikes',\n",
       " 'RegistrosDP_PP\\\\2018_12_13_0001.pklspikes',\n",
       " 'RegistrosDP_PP\\\\2019_07_22_0002.pklspikes',\n",
       " 'RegistrosDP_PP\\\\2019_07_22_0009.pklspikes',\n",
       " 'RegistrosDP_PP\\\\2019_07_22_0011.pklspikes',\n",
       " 'RegistrosDP_PP\\\\2019_07_23_0004.pklspikes',\n",
       " 'RegistrosDP_PP\\\\2019_07_23_0008.pklspikes',\n",
       " 'RegistrosDP_PP\\\\2019_07_23_0014.pklspikes',\n",
       " 'RegistrosDP_PP\\\\2019_08_28_0005.pklspikes',\n",
       " 'RegistrosDP_PP\\\\2019_08_30_0003.pklspikes',\n",
       " 'RegistrosDP_PP\\\\2019_08_30_0006.pklspikes',\n",
       " 'RegistrosDP_PP\\\\2019_08_26_0002.pklspikes']"
      ]
     },
     "execution_count": 10,
     "metadata": {},
     "output_type": "execute_result"
    }
   ],
   "source": [
    "list(cdd)"
   ]
  },
  {
   "cell_type": "code",
   "execution_count": null,
   "metadata": {},
   "outputs": [],
   "source": []
  }
 ],
 "metadata": {
  "kernelspec": {
   "display_name": "Python 3",
   "language": "python",
   "name": "python3"
  },
  "language_info": {
   "codemirror_mode": {
    "name": "ipython",
    "version": 3
   },
   "file_extension": ".py",
   "mimetype": "text/x-python",
   "name": "python",
   "nbconvert_exporter": "python",
   "pygments_lexer": "ipython3",
   "version": "3.6.5"
  }
 },
 "nbformat": 4,
 "nbformat_minor": 2
}
