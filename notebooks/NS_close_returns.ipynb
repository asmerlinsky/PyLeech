{
 "cells": [
  {
   "cell_type": "code",
   "execution_count": 1,
   "metadata": {},
   "outputs": [
    {
     "name": "stdout",
     "output_type": "stream",
     "text": [
      "C:\\Users\\Agustin\\Dropbox\\Doctorado\\NeuroData\\PyLeech\n"
     ]
    }
   ],
   "source": [
    "cd .."
   ]
  },
  {
   "cell_type": "code",
   "execution_count": 2,
   "metadata": {},
   "outputs": [
    {
     "name": "stdout",
     "output_type": "stream",
     "text": [
      "C:\\Users\\Agustin\\Dropbox\\Doctorado\\NeuroData\n"
     ]
    }
   ],
   "source": [
    "cd .."
   ]
  },
  {
   "cell_type": "code",
   "execution_count": 3,
   "metadata": {},
   "outputs": [],
   "source": [
    "import PyLeech.Utils.CrawlingDatabaseUtils as CDU\n",
    "import numpy as np\n",
    "import matplotlib.pyplot as plt\n",
    "import PyLeech.Utils.NLDUtils as NLD\n",
    "import scipy.signal as spsig\n",
    "import os.path\n",
    "import winsound\n",
    "from mpl_toolkits.mplot3d import Axes3D\n",
    "import PyLeech.Utils.AbfExtension as abfe\n",
    "import time\n",
    "import gc\n",
    "start = time.time()"
   ]
  },
  {
   "cell_type": "code",
   "execution_count": 4,
   "metadata": {},
   "outputs": [],
   "source": [
    "%matplotlib qt5"
   ]
  },
  {
   "cell_type": "code",
   "execution_count": 5,
   "metadata": {},
   "outputs": [
    {
     "name": "stdout",
     "output_type": "stream",
     "text": [
      "['RegistrosDP_PP\\\\18n05010.pklspikes', 'RegistrosDP_PP\\\\2018_10_11_0002.pklspikes', 'RegistrosDP_PP\\\\2018_12_03_0005.pklspikes', 'RegistrosDP_PP\\\\2018_12_04_0003_0004_0005_0006b.pklspikes', 'RegistrosDP_PP\\\\2018_12_06_0005.pklspikes', 'RegistrosDP_PP\\\\2018_12_13_0015.pklspikes', 'RegistrosDP_PP\\\\NS_DP_PP_0.pklspikes', 'RegistrosDP_PP\\\\NS_T_DP_PP_0_cut.pklspikes', 'RegistrosDP_PP\\\\NS_T_DP_PP_1.pklspikes', 'RegistrosDP_PP\\\\2014_09_25_0008.pklspikes', 'RegistrosDP_PP\\\\2019_01_28_0001.pklspikes', 'RegistrosDP_PP\\\\2018_11_06_0004.pklspikes', 'RegistrosDP_PP\\\\2018_12_03_0000_0001.pklspikes', 'RegistrosDP_PP\\\\14217000.pklspikes', 'RegistrosDP_PP\\\\2017_12_08_0002.pklspikes', 'RegistrosDP_PP\\\\cont10.pklspikes', 'RegistrosDP_PP\\\\2018_12_13_0001.pklspikes', 'RegistrosDP_PP\\\\2019_07_22_0002.pklspikes', 'RegistrosDP_PP\\\\2019_07_22_0009.pklspikes', 'RegistrosDP_PP\\\\2019_07_22_0011.pklspikes', 'RegistrosDP_PP\\\\2019_07_23_0004.pklspikes', 'RegistrosDP_PP\\\\2019_07_23_0008.pklspikes', 'RegistrosDP_PP\\\\2019_07_23_0014.pklspikes', 'RegistrosDP_PP\\\\2019_08_28_0005.pklspikes', 'RegistrosDP_PP\\\\2019_08_30_0003.pklspikes', 'RegistrosDP_PP\\\\2019_08_30_0006.pklspikes']\n"
     ]
    }
   ],
   "source": [
    "cdd = CDU.loadDataDict()\n",
    "file_list = list(cdd)\n",
    "print(file_list)"
   ]
  },
  {
   "cell_type": "code",
   "execution_count": 6,
   "metadata": {},
   "outputs": [
    {
     "name": "stdout",
     "output_type": "stream",
     "text": [
      "['RegistrosDP_PP\\\\2018_12_03_0005.pklspikes', 'RegistrosDP_PP\\\\2019_07_22_0002.pklspikes', 'RegistrosDP_PP\\\\2019_07_22_0009.pklspikes', 'RegistrosDP_PP\\\\2019_07_22_0011.pklspikes', 'RegistrosDP_PP\\\\2019_07_23_0008.pklspikes', 'RegistrosDP_PP\\\\2019_08_30_0003.pklspikes', 'RegistrosDP_PP\\\\2019_08_30_0006.pklspikes']\n"
     ]
    }
   ],
   "source": [
    "cdd = CDU.loadDataDict()\n",
    "file_list = list(cdd)\n",
    "binning_dt = .1\n",
    "spike_kernel_sigma = 3\n",
    "\n",
    "trace_list = []\n",
    "emb_list = []\n",
    "ran_files = []\n",
    "run_dict = {}\n",
    "file_sel = [\n",
    "    '2019_07_22_0009', \n",
    "    '2019_07_22_0002',\n",
    "    '2019_07_22_0011',\n",
    "    '2019_08_30_0003',\n",
    "    '2019_08_30_0006',\n",
    "    '2018_12_03_0005',\n",
    "    '2019_07_23_0008'\n",
    "]\n",
    "sublist = [fn for fn in file_list if any([fs in fn for fs in file_sel])]\n",
    "print(sublist)\n",
    "cycle_dict = {}"
   ]
  },
  {
   "cell_type": "code",
   "execution_count": 7,
   "metadata": {},
   "outputs": [],
   "source": [
    "full_data = []\n",
    "i = 0\n",
    "for fn in sublist:\n",
    "    ns_channel = [key for key, items in cdd[fn]['channels'].items() if 'NS' == items][0]\n",
    "    fn = abfe.getAbFileListFromBasename(fn)[0]\n",
    "    arr_dict, time_vector , fs = abfe.getArraysFromAbfFiles(fn, [ns_channel])\n",
    "    NS_kernel = NLD.generateGaussianKernel(sigma=spike_kernel_sigma, time_range=20, dt_step=1 / fs)\n",
    "    bl_kernel = NLD.generateGaussianKernel(sigma=45, time_range=10*60, dt_step=1 / fs)\n",
    "    data = arr_dict[ns_channel] - np.mean(arr_dict[ns_channel])\n",
    "    data[(data<-20) | (data>20)] = 0\n",
    "    \n",
    "    bl = spsig.fftconvolve(data, bl_kernel, mode='same')[::int(binning_dt * fs)]\n",
    "\n",
    "    trace = spsig.fftconvolve(data, NS_kernel, mode='same')[::int(binning_dt * fs)]\n",
    "    \n",
    "#     fig, ax = plt.subplots()\n",
    "#     ax.plot(trace)\n",
    "#     ax.plot(trace-bl)\n",
    "#     fig.suptitle(fn)\n",
    "    \n",
    "    if '2019_07_22_0009' in fn:\n",
    "        trace = (trace-bl)[1600:9200]### solo porque estoy correndo el 2019 07 22 0009\n",
    "#         peak_height = 2.4\n",
    "    elif '2019_07_22_0002' in fn:\n",
    "        trace = (trace-bl)[900:8800]### solo porque estoy correndo el 2019 07 22 0002\n",
    "#         peak_height = 2.4\n",
    "    elif '2019_07_22_0011' in fn:\n",
    "        trace = (trace-bl)[4800:11000]### solo porque estoy correndo el 2019 07 22 0011\n",
    "#         peak_height = 1\n",
    "    elif '2019_08_30_0003' in fn:\n",
    "        trace = (trace-bl)[2500:9600]### solo porque estoy correndo el 2019 07 22 0011\n",
    "#         peak_height = 1\n",
    "    elif '2019_08_30_0006' in fn:\n",
    "        trace = (trace-bl)[1800:6800]\n",
    "#         peak_height = 3.3\n",
    "    elif '2019_07_23_0008' in fn:\n",
    "            trace = (trace-bl)[3700:8400]\n",
    "    elif '2018_12_03_0005' in fn:\n",
    "            trace = (trace-bl)[2200:7800]\n",
    "    else:\n",
    "        trace = (trace-bl)\n",
    "        peak_height = 1.5\n",
    "            \n",
    "    full_data.append(trace)\n",
    "\n",
    "full_data = np.hstack(full_data).astype(np.float32)"
   ]
  },
  {
   "cell_type": "code",
   "execution_count": 8,
   "metadata": {},
   "outputs": [
    {
     "data": {
      "text/plain": [
       "[<matplotlib.lines.Line2D at 0x1a21a9109e8>]"
      ]
     },
     "execution_count": 8,
     "metadata": {},
     "output_type": "execute_result"
    }
   ],
   "source": [
    "fig, ax = plt.subplots()\n",
    "ax.plot(full_data)\n",
    "# every_single_cycle.shape"
   ]
  },
  {
   "cell_type": "code",
   "execution_count": 9,
   "metadata": {},
   "outputs": [
    {
     "data": {
      "text/plain": [
       "(44100,)"
      ]
     },
     "execution_count": 9,
     "metadata": {},
     "output_type": "execute_result"
    }
   ],
   "source": [
    "full_data.shape"
   ]
  },
  {
   "cell_type": "code",
   "execution_count": 10,
   "metadata": {},
   "outputs": [
    {
     "data": {
      "text/plain": [
       "(22050, 22050)"
      ]
     },
     "execution_count": 10,
     "metadata": {},
     "output_type": "execute_result"
    }
   ],
   "source": [
    "step = 2\n",
    "thr = .05\n",
    "gc.collect()\n",
    "cr_mat = NLD.getCloseReturns(full_data[::step, np.newaxis], threshold=thr, low_memory=True, get_mask=False)\n",
    "cr_mat.shape"
   ]
  },
  {
   "cell_type": "code",
   "execution_count": null,
   "metadata": {},
   "outputs": [],
   "source": []
  },
  {
   "cell_type": "code",
   "execution_count": 11,
   "metadata": {},
   "outputs": [
    {
     "data": {
      "text/plain": [
       "1.8112454563379288"
      ]
     },
     "execution_count": 11,
     "metadata": {},
     "output_type": "execute_result"
    }
   ],
   "source": [
    "cr_mat.shape[0] * cr_mat.shape[1] * int(str(cr_mat.dtype)[-2:]) / (8 * (1024 ** 3))"
   ]
  },
  {
   "cell_type": "code",
   "execution_count": 12,
   "metadata": {},
   "outputs": [
    {
     "data": {
      "text/plain": [
       "(<Figure size 640x480 with 2 Axes>,\n",
       " <matplotlib.axes._subplots.AxesSubplot at 0x2bd80621e48>)"
      ]
     },
     "execution_count": 12,
     "metadata": {},
     "output_type": "execute_result"
    }
   ],
   "source": [
    "NLD.plotCloseReturns(cr_mat[::5], masked=True, reorder=False, get_counts=False, thr=thr)"
   ]
  },
  {
   "cell_type": "code",
   "execution_count": 12,
   "metadata": {},
   "outputs": [
    {
     "data": {
      "text/plain": [
       "<matplotlib.image.AxesImage at 0x1a21b158ac8>"
      ]
     },
     "execution_count": 12,
     "metadata": {},
     "output_type": "execute_result"
    }
   ],
   "source": [
    "gc.collect()\n",
    "plt.matshow(cr_mat<(cr_mat.max()*.05))"
   ]
  },
  {
   "cell_type": "code",
   "execution_count": 13,
   "metadata": {},
   "outputs": [],
   "source": [
    "gc.collect()\n",
    "sg_dict = NLD.getCloseReturnsSegmentsFromUnorderedMatrix(cr_mat<(cr_mat.max()*.05), rt_len=100,single_file=True, min_dist=100)\n"
   ]
  },
  {
   "cell_type": "code",
   "execution_count": 14,
   "metadata": {},
   "outputs": [
    {
     "name": "stdout",
     "output_type": "stream",
     "text": [
      "193\n"
     ]
    }
   ],
   "source": [
    "time_delta = 100\n",
    "length = 200\n",
    "count = 0\n",
    "\n",
    "for diagonal in list(sg_dict):\n",
    "    for tup0, tup1 in sg_dict[diagonal]:\n",
    "        if tup1 - tup0  > length and np.abs(diagonal) > time_delta:\n",
    "            count += 1\n",
    "print(count)"
   ]
  },
  {
   "cell_type": "code",
   "execution_count": 16,
   "metadata": {},
   "outputs": [
    {
     "data": {
      "text/plain": [
       "0"
      ]
     },
     "execution_count": 16,
     "metadata": {},
     "output_type": "execute_result"
    }
   ],
   "source": [
    "gc.collect()"
   ]
  },
  {
   "cell_type": "code",
   "execution_count": 17,
   "metadata": {},
   "outputs": [],
   "source": [
    "# tup0, tup1 = 6575, 6775\n",
    "# diag = 120\n",
    "# fig1, ax1 = plt.subplots()\n",
    "# t0 = every_single_cycle[::step][tup0:tup1]\n",
    "# t1 = every_single_cycle[::step][tup0 + diagonal:tup1 + diagonal]\n",
    "# r0 = np.arange(t0.shape[0])\n",
    "# r1 = np.arange(t1.shape[0])\n",
    "# ax1.plot(r0, t0, linewidth=1, color='k')\n",
    "# ax1.plot(r1, t1, linewidth=1, color='r')\n",
    "\n",
    "# fig1.suptitle(\" shift: \" + str(diagonal) + \" \" + str(tup0) + \"-\" + str(tup1) +\n",
    "#              \"\\n\" + str(tup0 + diagonal) + \"-\" + str(tup1 + diagonal))"
   ]
  },
  {
   "cell_type": "code",
   "execution_count": 18,
   "metadata": {},
   "outputs": [],
   "source": [
    "# for diagonal in list(sg_dict):\n",
    "#     for tup0, tup1 in sg_dict[diagonal]:\n",
    "#         if tup1-tup0 > length and np.abs(diagonal)>time_delta:\n",
    "#             fig1, ax1 = plt.subplots()\n",
    "#             t0 = full_data[::step][tup0:tup1]\n",
    "#             t1 = full_data[::step][tup0 + diagonal:tup1 + diagonal]\n",
    "#             r0 = np.arange(t0.shape[0])\n",
    "#             r1 = np.arange(t1.shape[0])\n",
    "#             ax1.plot(r0, t0, linewidth=1, color='k')\n",
    "#             ax1.plot(r1, t1, linewidth=1, color='r')\n",
    "\n",
    "#             fig1.suptitle(\" shift: \" + str(diagonal) + \" \" + str(tup0) + \"-\" + str(tup1) +\n",
    "#                          \"\\n\" + str(tup0 + diagonal) + \"-\" + str(tup1 + diagonal))\n",
    "            \n",
    "            "
   ]
  },
  {
   "cell_type": "code",
   "execution_count": 15,
   "metadata": {},
   "outputs": [],
   "source": [
    "import matplotlib as mpl\n",
    "select = { 2067: (9817, 10041),\n",
    "           2183: (10164, 10310),\n",
    "           257: (13215, 13334),\n",
    "#            213: (12312, 12561),\n",
    "#            342: (814, 1097),\n",
    "           588: (1215, 1435),\n",
    "           190: (1220, 1435),\n",
    "           185: (4804, 4960),\n",
    "           176: (1055, 1275),\n",
    "          \n",
    "          \n",
    "}\n",
    "\n",
    "cmap = plt.get_cmap('jet')\n",
    "cNorm = mpl.colors.Normalize(vmin=0, vmax=len(select)- 1)\n",
    "scalarMap = mpl.cm.ScalarMappable(norm=cNorm, cmap=cmap)\n",
    "ls = np.linspace(0, 1, len(select))\n",
    "\n",
    "\n",
    "i = 0\n",
    "fig = plt.figure()\n",
    "ax = Axes3D(fig)\n",
    "for diag, items in select.items():\n",
    "\n",
    "    mean = np.mean(np.array((full_data[::step][items[0]:items[1]], full_data[::step][items[0]+diag:items[1]+diag])), axis=0)\n",
    "    f1, a1 = plt.subplots()\n",
    "    a1.plot(mean)\n",
    "    f1.suptitle(\"diag \" + str(diag) + \": \" + str(items[0]) + \"-\" + str(items[1]))\n",
    "#     emb = NLD.getTraceEmbedding(mean, 15, 3)\n",
    "    emb = NLD.getDerivativeEmbedding(mean, .1, 3)\n",
    "    NLD.plot3Dline(emb, fig_ax_pair=[fig, ax], label=str(diag), color=cmap(ls[i]))\n",
    "    f1, a1 = NLD.plot3Dline(emb, label=str(diag), color=cmap(ls[i]))\n",
    "    i += 1\n",
    "    fig.suptitle(\"diag \" + str(diag) + \": \" + str(items[0]) + \"-\" + str(items[1]))\n",
    "    f1.suptitle(\"diag \" + str(diag) + \": \" + str(items[0]) + \"-\" + str(items[1]))\n",
    "    \n",
    "    fig.legend()"
   ]
  },
  {
   "cell_type": "code",
   "execution_count": 32,
   "metadata": {},
   "outputs": [
    {
     "name": "stderr",
     "output_type": "stream",
     "text": [
      "c:\\users\\agus\\appdata\\local\\programs\\python\\python36\\lib\\site-packages\\findiff\\findiff.py:242: FutureWarning: Using a non-tuple sequence for multidimensional indexing is deprecated; use `arr[tuple(seq)]` instead of `arr[seq]`. In the future this will be interpreted as an array index, `arr[np.array(seq)]`, which will result either in an error or a different result.\n",
      "  yd[ref_multi_slice] += w * y[off_multi_slice]\n",
      "c:\\users\\agus\\appdata\\local\\programs\\python\\python36\\lib\\site-packages\\findiff\\findiff.py:240: FutureWarning: Using a non-tuple sequence for multidimensional indexing is deprecated; use `arr[tuple(seq)]` instead of `arr[seq]`. In the future this will be interpreted as an array index, `arr[np.array(seq)]`, which will result either in an error or a different result.\n",
      "  yd[ref_multi_slice] += y[off_multi_slice]\n"
     ]
    },
    {
     "data": {
      "text/plain": [
       "<matplotlib.legend.Legend at 0x2be0f72bef0>"
      ]
     },
     "execution_count": 32,
     "metadata": {},
     "output_type": "execute_result"
    }
   ],
   "source": [
    "i = 0 \n",
    "diag, items =  176, (1055, 1275)\n",
    "fig = plt.figure()\n",
    "ax = Axes3D(fig)\n",
    "mean = np.mean(np.array((full_data[::step][items[0]:items[1]], full_data[::step][items[0]+diag:items[1]+diag])), axis=0)\n",
    "f1, a1 = plt.subplots()\n",
    "a1.plot(mean, color='k')\n",
    "a1.plot(full_data[::step][items[0]:items[1]])\n",
    "a1.plot(full_data[::step][items[0]+diag:items[1]+diag])\n",
    "f1.suptitle(\"diag \" + str(diag) + \": \" + str(items[0]) + \"-\" + str(items[1]))\n",
    "# emb = NLD.getTraceEmbedding(mean, 15, 3)\n",
    "emb = NLD.getDerivativeEmbedding(mean, .1, 3)\n",
    "NLD.plot3Dline(emb, fig_ax_pair=[fig, ax], label=str(diag), color=cmap(ls[i]))\n",
    "\n",
    "fig.suptitle(\"diag \" + str(diag) + \": \" + str(items[0]) + \"-\" + str(items[1]))\n",
    "\n",
    "fig.legend()"
   ]
  },
  {
   "cell_type": "code",
   "execution_count": 31,
   "metadata": {},
   "outputs": [],
   "source": [
    "emb = NLD.getTraceEmbedding(full_data, 15, 3)\n",
    "fig, ax = NLD.plot3Dscatter(emb)"
   ]
  },
  {
   "cell_type": "code",
   "execution_count": null,
   "metadata": {},
   "outputs": [],
   "source": []
  }
 ],
 "metadata": {
  "kernelspec": {
   "display_name": "Python 3",
   "language": "python",
   "name": "python3"
  },
  "language_info": {
   "codemirror_mode": {
    "name": "ipython",
    "version": 3
   },
   "file_extension": ".py",
   "mimetype": "text/x-python",
   "name": "python",
   "nbconvert_exporter": "python",
   "pygments_lexer": "ipython3",
   "version": "3.6.8"
  }
 },
 "nbformat": 4,
 "nbformat_minor": 4
}
