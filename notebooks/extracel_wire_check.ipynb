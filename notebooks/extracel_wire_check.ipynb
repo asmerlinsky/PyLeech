{
 "cells": [
  {
   "cell_type": "code",
   "execution_count": 1,
   "metadata": {},
   "outputs": [
    {
     "name": "stdout",
     "output_type": "stream",
     "text": [
      "C:\\Users\\Agustin\\Dropbox\\Doctorado\\NeuroData\\PyLeech\n"
     ]
    }
   ],
   "source": [
    "cd .."
   ]
  },
  {
   "cell_type": "code",
   "execution_count": 2,
   "metadata": {},
   "outputs": [
    {
     "name": "stdout",
     "output_type": "stream",
     "text": [
      "C:\\Users\\Agustin\\Dropbox\\Doctorado\\NeuroData\n"
     ]
    }
   ],
   "source": [
    "cd .."
   ]
  },
  {
   "cell_type": "code",
   "execution_count": 3,
   "metadata": {},
   "outputs": [],
   "source": [
    "import numpy as np\n",
    "import PyLeech.Utils.SpSorter as SpSorter\n",
    "import matplotlib.pyplot as plt\n",
    "import PyLeech.Utils.AbfExtension as abfe\n",
    "import PyLeech.Utils.filterUtils as filterUtils\n"
   ]
  },
  {
   "cell_type": "code",
   "execution_count": 4,
   "metadata": {},
   "outputs": [],
   "source": [
    "%matplotlib qt5"
   ]
  },
  {
   "cell_type": "code",
   "execution_count": 5,
   "metadata": {},
   "outputs": [],
   "source": [
    "from importlib import reload \n",
    "reload(filterUtils)\n",
    "np.set_printoptions(precision=3)\n",
    "plt.ion()\n",
    "\n",
    "filenames = ['19-08-27/2019_08_27_0000.abf',\n",
    "             ]\n",
    "\n",
    "arr_dict, time , fs= abfe.getArraysFromAbfFiles(filenames, ['IN4', 'IN5', 'Vm1'])\n",
    "\n",
    "n1 = arr_dict['IN4']\n",
    "n2 = arr_dict['IN5']\n",
    "n3 = arr_dict['Vm1']\n",
    "\n",
    "noise_freqs = filterUtils.getNoiseFreqsFromEveryChannel(np.array([n1, n2, n3]).T, sample_freq=fs, peak_dist=70, max_freq=500)"
   ]
  },
  {
   "cell_type": "code",
   "execution_count": 6,
   "metadata": {},
   "outputs": [
    {
     "name": "stderr",
     "output_type": "stream",
     "text": [
      "c:\\users\\agustin\\appdata\\local\\programs\\python\\python36\\lib\\site-packages\\scipy\\signal\\_arraytools.py:45: FutureWarning: Using a non-tuple sequence for multidimensional indexing is deprecated; use `arr[tuple(seq)]` instead of `arr[seq]`. In the future this will be interpreted as an array index, `arr[np.array(seq)]`, which will result either in an error or a different result.\n",
      "  b = a[a_slice]\n"
     ]
    },
    {
     "data": {
      "text/plain": [
       "[<matplotlib.lines.Line2D at 0x2827af496a0>]"
      ]
     },
     "execution_count": 6,
     "metadata": {},
     "output_type": "execute_result"
    }
   ],
   "source": [
    "fig, ax = plt.subplots(3,1, sharex=True)\n",
    "fig1, ax1 = plt.subplots(3,1, sharex=True)\n",
    "\n",
    "n1_filt = filterUtils.runButterFilter(n1, 3000, sampling_rate=fs)\n",
    "n1_filt = filterUtils.runButterFilter(n1_filt, 5, sampling_rate=fs, butt_order=4, btype='high')\n",
    "n1_filt = filterUtils.runFilter(n1_filt, np.arange(50, 1500, 100), fs, .1)\n",
    "n1_filt = filterUtils.runFilter(n1_filt, [75, 100], fs, .1)\n",
    "filterUtils.plotSpectrums(n1, n1_filt, pltobj=ax1[0], sampling_rate=fs, nperseg=10000)\n",
    "ax[0].plot(n1_filt)\n",
    "ax[0].plot(n1_filt)"
   ]
  },
  {
   "cell_type": "code",
   "execution_count": 7,
   "metadata": {},
   "outputs": [
    {
     "data": {
      "text/plain": [
       "[<matplotlib.lines.Line2D at 0x2827af79860>]"
      ]
     },
     "execution_count": 7,
     "metadata": {},
     "output_type": "execute_result"
    }
   ],
   "source": [
    "n2_filt = filterUtils.runButterFilter(n2, 3000, sampling_rate=fs)\n",
    "n2_filt = filterUtils.runButterFilter(n2_filt, 5, sampling_rate=fs, butt_order=4, btype='high')\n",
    "n2_filt = filterUtils.runFilter(n2_filt, [50, 350, 500], fs, .1)\n",
    "filterUtils.plotSpectrums(n2, n2_filt, pltobj=ax1[1], sampling_rate=fs, nperseg=10000)\n",
    "ax[1].plot(n2)\n",
    "ax[1].plot(n2_filt)\n",
    "\n",
    "n3_filt = filterUtils.runButterFilter(n3, 3000, sampling_rate=fs)\n",
    "# n3_filt = filterUtils.runButterFilter(n3_filt, 5, sampling_rate=fs, butt_order=4, btype='high')\n",
    "n3_filt = filterUtils.runFilter(n3_filt, [50, 350, 500], fs, .1)\n",
    "filterUtils.plotSpectrums(n3, n3_filt, pltobj=ax1[2], sampling_rate=fs, nperseg=10000)\n",
    "ax[2].plot(n3)\n",
    "ax[2].plot(n3_filt)"
   ]
  },
  {
   "cell_type": "code",
   "execution_count": null,
   "metadata": {},
   "outputs": [],
   "source": []
  }
 ],
 "metadata": {
  "kernelspec": {
   "display_name": "Python 3",
   "language": "python",
   "name": "python3"
  },
  "language_info": {
   "codemirror_mode": {
    "name": "ipython",
    "version": 3
   },
   "file_extension": ".py",
   "mimetype": "text/x-python",
   "name": "python",
   "nbconvert_exporter": "python",
   "pygments_lexer": "ipython3",
   "version": "3.6.5"
  }
 },
 "nbformat": 4,
 "nbformat_minor": 4
}
