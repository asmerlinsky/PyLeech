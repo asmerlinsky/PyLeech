{
 "cells": [
  {
   "cell_type": "code",
   "execution_count": 3,
   "metadata": {},
   "outputs": [
    {
     "name": "stdout",
     "output_type": "stream",
     "text": [
      "/home/agustin/Dropbox/Doctorado/NeuroData/PyLeech\n"
     ]
    }
   ],
   "source": [
    "cd .."
   ]
  },
  {
   "cell_type": "code",
   "execution_count": 4,
   "metadata": {},
   "outputs": [
    {
     "name": "stdout",
     "output_type": "stream",
     "text": [
      "/home/agustin/Dropbox/Doctorado/NeuroData\n"
     ]
    }
   ],
   "source": [
    "cd .."
   ]
  },
  {
   "cell_type": "code",
   "execution_count": 5,
   "metadata": {},
   "outputs": [],
   "source": [
    "%matplotlib qt5"
   ]
  },
  {
   "cell_type": "code",
   "execution_count": 11,
   "metadata": {},
   "outputs": [],
   "source": [
    "import os\n",
    "import numpy as np\n",
    "import PyLeech.Utils.CrawlingDatabaseUtils as CDU\n",
    "import PyLeech.Utils.burstStorerLoader as burstStorerLoader\n",
    "import PyLeech.Utils.burstUtils as burstUtils\n",
    "import matplotlib.pyplot as plt"
   ]
  },
  {
   "cell_type": "code",
   "execution_count": 51,
   "metadata": {},
   "outputs": [],
   "source": [
    "\n",
    "\n",
    "cdd = CDU.loadDataDict()\n",
    "sel = \"NS_DP_PP_0\"\n",
    "\n",
    "run_list = []\n",
    "for fn in list(cdd):\n",
    "    if sel in fn:\n",
    "        break\n"
   ]
  },
  {
   "cell_type": "code",
   "execution_count": 66,
   "metadata": {},
   "outputs": [
    {
     "name": "stdout",
     "output_type": "stream",
     "text": [
      "(5880,) (5880,)\n"
     ]
    }
   ],
   "source": [
    "fn = fn.replace(\"\\\\\", '/')\n",
    "basename = os.path.splitext(os.path.basename(fn))[0]\n",
    "burst_object = burstStorerLoader.UnitInfo(fn, mode='load')\n",
    "spike_times = burst_object.spike_freq_dict[burst_object.isDe3][0]\n",
    "spike_freqs = burst_object.spike_freq_dict[burst_object.isDe3][1]\n",
    "print(spike_times.shape, spike_freqs.shape)"
   ]
  },
  {
   "cell_type": "code",
   "execution_count": 67,
   "metadata": {},
   "outputs": [],
   "source": [
    "goods = ~burstUtils.is_outlier(spike_freqs, 6)\n",
    "spike_times = spike_times[goods]\n",
    "spike_freqs = spike_freqs[goods]"
   ]
  },
  {
   "cell_type": "code",
   "execution_count": 68,
   "metadata": {},
   "outputs": [
    {
     "data": {
      "text/plain": [
       "((5855,), (5855,))"
      ]
     },
     "execution_count": 68,
     "metadata": {},
     "output_type": "execute_result"
    }
   ],
   "source": [
    "spike_freqs.shape, spike_times.shape"
   ]
  },
  {
   "cell_type": "code",
   "execution_count": 69,
   "metadata": {},
   "outputs": [
    {
     "data": {
      "text/plain": [
       "array([0.36831881, 1.17128911, 1.63643762, 1.84990297, 2.26297227])"
      ]
     },
     "execution_count": 69,
     "metadata": {},
     "output_type": "execute_result"
    }
   ],
   "source": [
    "spike_times[:5]"
   ]
  },
  {
   "cell_type": "code",
   "execution_count": 70,
   "metadata": {},
   "outputs": [],
   "source": [
    "mask0 = spike_times<400 \n",
    "mask1 = (spike_times>400) & (spike_times<600)\n",
    "diff0 = np.diff(spike_times[mask0])\n",
    "diff1 = np.diff(spike_times[mask1])\n",
    "freqs0 = spike_freqs[mask0]\n",
    "freqs1 = spike_freqs[mask1]"
   ]
  },
  {
   "cell_type": "code",
   "execution_count": 93,
   "metadata": {},
   "outputs": [
    {
     "data": {
      "text/plain": [
       "(-0.001, 1)"
      ]
     },
     "execution_count": 93,
     "metadata": {},
     "output_type": "execute_result"
    }
   ],
   "source": [
    "fig, ax = plt.subplots(2, 1, sharex=True)\n",
    "bins0 = ax[0].hist(diff0, bins=1000)\n",
    "ax[0].axvline(np.median(diff0), c='k')\n",
    "bins1 = ax[1].hist(diff1, bins=1000)\n",
    "ax[1].axvline(np.median(diff1), c='k')\n",
    "ax[0].set_xlim([-.001, 1])"
   ]
  },
  {
   "cell_type": "code",
   "execution_count": 83,
   "metadata": {},
   "outputs": [
    {
     "data": {
      "text/plain": [
       "<matplotlib.lines.Line2D at 0x7efb604a40f0>"
      ]
     },
     "execution_count": 83,
     "metadata": {},
     "output_type": "execute_result"
    }
   ],
   "source": [
    "fig, ax = plt.subplots(2, 1, sharex=True)\n",
    "bins0 = ax[0].hist(freqs0, bins=100)\n",
    "ax[0].axvline(np.median(freqs0), c='k')\n",
    "bins1 = ax[1].hist(freqs1, bins=100)\n",
    "ax[1].axvline(np.median(freqs1), c='k')"
   ]
  },
  {
   "cell_type": "code",
   "execution_count": 81,
   "metadata": {},
   "outputs": [
    {
     "data": {
      "text/plain": [
       "array([0.73139095, 0.73139095, 0.73139095, 0.73139095, 0.73139095,\n",
       "       0.73139095, 0.73139095, 0.73139095, 0.73139095, 0.73139095,\n",
       "       0.73139095, 0.73139095, 0.73139095, 0.73139095, 0.73139095,\n",
       "       0.73139095, 0.73139095, 0.73139095, 0.73139095, 0.73139095,\n",
       "       0.73139095, 0.73139095, 0.73139095, 0.73139095, 0.73139095,\n",
       "       0.73139095, 0.73139095, 0.73139095, 0.73139095, 0.73139095,\n",
       "       0.73139095, 0.73139095, 0.73139095, 0.73139095, 0.73139095,\n",
       "       0.73139095, 0.73139095, 0.73139095, 0.73139095, 0.73139095,\n",
       "       0.73139095, 0.73139095, 0.73139095, 0.73139095, 0.73139095,\n",
       "       0.73139095, 0.73139095, 0.73139095, 0.73139095, 0.73139095,\n",
       "       0.73139095, 0.73139095, 0.73139095, 0.73139095, 0.73139095,\n",
       "       0.73139095, 0.73139095, 0.73139095, 0.73139095, 0.73139095,\n",
       "       0.73139095, 0.73139095, 0.73139095, 0.73139095, 0.73139095,\n",
       "       0.73139095, 0.73139095, 0.73139095, 0.73139095, 0.73139095,\n",
       "       0.73139095, 0.73139095, 0.73139095, 0.73139095, 0.73139095,\n",
       "       0.73139095, 0.73139095, 0.73139095, 0.73139095, 0.73139095,\n",
       "       0.73139095, 0.73139095, 0.73139095, 0.73139095, 0.73139095,\n",
       "       0.73139095, 0.73139095, 0.73139095, 0.73139095, 0.73139095,\n",
       "       0.73139095, 0.73139095, 0.73139095, 0.73139095, 0.73139095,\n",
       "       0.73139095, 0.73139095, 0.73139095, 0.73139095, 0.73139095])"
      ]
     },
     "execution_count": 81,
     "metadata": {},
     "output_type": "execute_result"
    }
   ],
   "source": []
  },
  {
   "cell_type": "code",
   "execution_count": null,
   "metadata": {},
   "outputs": [],
   "source": []
  }
 ],
 "metadata": {
  "kernelspec": {
   "display_name": "Python 3",
   "language": "python",
   "name": "python3"
  },
  "language_info": {
   "codemirror_mode": {
    "name": "ipython",
    "version": 3
   },
   "file_extension": ".py",
   "mimetype": "text/x-python",
   "name": "python",
   "nbconvert_exporter": "python",
   "pygments_lexer": "ipython3",
   "version": "3.6.9"
  }
 },
 "nbformat": 4,
 "nbformat_minor": 4
}
