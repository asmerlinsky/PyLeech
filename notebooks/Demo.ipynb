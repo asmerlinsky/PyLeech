{
 "cells": [
  {
   "cell_type": "code",
   "execution_count": 1,
   "metadata": {},
   "outputs": [
    {
     "name": "stdout",
     "output_type": "stream",
     "text": [
      "C:\\Users\\Agustin\\Dropbox\\Doctorado\\NeuroData\\PyLeech\n"
     ]
    }
   ],
   "source": [
    "cd .."
   ]
  },
  {
   "cell_type": "code",
   "execution_count": 3,
   "metadata": {},
   "outputs": [
    {
     "name": "stdout",
     "output_type": "stream",
     "text": [
      "C:\\Users\\Agustin\\Dropbox\\Doctorado\\NeuroData\n"
     ]
    }
   ],
   "source": [
    "cd .."
   ]
  },
  {
   "cell_type": "code",
   "execution_count": 4,
   "metadata": {},
   "outputs": [],
   "source": [
    "%matplotlib inline\n",
    "import numpy as np\n",
    "import matplotlib.pyplot as plt\n",
    "import PyLeech.Utils.AbfExtension as abfe\n",
    "np.set_printoptions(precision=3)\n",
    "plt.ion()\n",
    "plt.rcParams['figure.figsize'] = (24,12)"
   ]
  },
  {
   "cell_type": "code",
   "execution_count": 5,
   "metadata": {},
   "outputs": [],
   "source": [
    "filenames = ['18-12-13/2018_12_13_0015.abf']\n",
    "arr_dict, time, fs = abfe.getArraysFromAbfFiles(filenames, ['Vm1'])\n",
    "NS = arr_dict['Vm1']"
   ]
  },
  {
   "cell_type": "code",
   "execution_count": 6,
   "metadata": {},
   "outputs": [
    {
     "name": "stdout",
     "output_type": "stream",
     "text": [
      "Loading data from pickle\n",
      "Loaded:\n",
      "filename\n",
      "time\n",
      "traces\n",
      "sample_freq\n",
      "state\n",
      "peaks_idxs\n",
      "evts\n",
      "evt_interval\n",
      "ch_no\n",
      "evt_length\n",
      "evts_median\n",
      "evts_mad\n",
      "evts_max\n",
      "good_evts\n",
      "unitary\n",
      "original_clusters\n",
      "km\n",
      "train_clusters\n",
      "cluster_color\n",
      "template_dict\n",
      "rounds\n",
      "final_spike_dict\n"
     ]
    },
    {
     "name": "stderr",
     "output_type": "stream",
     "text": [
      "c:\\users\\agustin\\appdata\\local\\programs\\python\\python36\\lib\\site-packages\\sklearn\\base.py:312: UserWarning: Trying to unpickle estimator KMeans from version 0.20.0 when using version 0.19.0. This might lead to breaking code or invalid results. Use at your own risk.\n",
      "  UserWarning)\n"
     ]
    }
   ],
   "source": [
    "import PyLeech.Utils.SpSorter as SpSorter\n",
    "sorter = SpSorter.SpSorter('RegistrosDP_PP/2018_12_13_0015.pkl')"
   ]
  },
  {
   "cell_type": "code",
   "execution_count": 7,
   "metadata": {},
   "outputs": [],
   "source": [
    "fn = sorter.filename\n",
    "fn += 'spikes'\n",
    "fn = fn.replace(\"/\", \"\\\\\")"
   ]
  },
  {
   "cell_type": "code",
   "execution_count": 11,
   "metadata": {},
   "outputs": [],
   "source": [
    "import PyLeech.Utils.burstStorerLoader as burstStorerLoader\n",
    "import PyLeech.Utils.burstUtils as burstUtils\n",
    "import PyLeech.Utils.CrawlingDatabaseUtils as CDU\n",
    "%matplotlib qt5\n",
    "%matplotlib qt5\n",
    "plt.rcParams['figure.figsize'] = (24,12)\n",
    "\n",
    "cdb = CDU.loadCrawlingDatabase()\n",
    "good_neurons = cdb.loc[fn].index[cdb.loc[fn, 'neuron_is_good'].values.astype(bool)].values\n",
    "crawling_interval = [cdb.loc[fn].start_time.iloc[0], cdb.loc[fn].end_time.iloc[0]]\n",
    "burst_obj = burstStorerLoader.BurstStorerLoader(fn, 'RegistrosDP_PP', mode='load')"
   ]
  },
  {
   "cell_type": "code",
   "execution_count": 12,
   "metadata": {},
   "outputs": [],
   "source": [
    "import PyLeech.Utils.burstUtils as burstUtils\n",
    "\n",
    "binned_sfd = binned_sfd = burstUtils.digitizeSpikeFreqs(burst_obj.spike_freq_dict, time[-1], 5 / fs, count=True)\n",
    "fig = burstUtils.plotFreq(binned_sfd, color_dict=burst_obj.color_dict, optional_trace=[time[::5], NS[::5]], template_dict=burst_obj.template_dict, scatter_plot=True,\n",
    "             outlier_thres=5, ms=2, draw_list=good_neurons)\n",
    "# del sorter"
   ]
  },
  {
   "cell_type": "code",
   "execution_count": null,
   "metadata": {},
   "outputs": [],
   "source": [
    "plt.rcParams['figure.figsize'] = (24,12)\n",
    "correlation_segments = burstClasses.SegmentandCorrelate(burst_obj.spike_freq_dict, NS, time,\n",
    "                                                          time_intervals=burst_obj.crawling_segments,\n",
    "                                                          intracel_cutoff_freq=2,\n",
    "                                                          no_cycles=1, intracel_peak_height=-52)\n",
    "# correlation_segments.concatenateRasterPlot()"
   ]
  },
  {
   "cell_type": "code",
   "execution_count": null,
   "metadata": {},
   "outputs": [],
   "source": [
    "reload(burstUtils)\n",
    "binned_sfd = burstUtils.digitizeSpikeFreqs(burst_obj.spike_freq_dict, time[-1], 0.1, count=False)"
   ]
  },
  {
   "cell_type": "code",
   "execution_count": null,
   "metadata": {},
   "outputs": [],
   "source": [
    "\n",
    "fig = burstUtils.plotFreq(binned_sfd, color_dict=burst_obj.color_dict, optional_trace=[time[::5], NS[::5]], template_dict=burst_obj.template_dict, scatter_plot=True,\n",
    "             outlier_thres=None, ms=4, draw_list=good_neurons)"
   ]
  },
  {
   "cell_type": "code",
   "execution_count": null,
   "metadata": {},
   "outputs": [],
   "source": [
    "spike_array = np.array([items[1] for key, items in binned_sfd.items()])"
   ]
  },
  {
   "cell_type": "code",
   "execution_count": null,
   "metadata": {},
   "outputs": [],
   "source": [
    "import csv\n",
    "\n",
    "fn = '../dimension_testing.csv'\n",
    "f = open(fn, 'w')\n",
    "w = csv.writer(f)\n",
    "w.writerows(spike_array.transpose())\n",
    "\n",
    "f.close()"
   ]
  },
  {
   "cell_type": "code",
   "execution_count": null,
   "metadata": {},
   "outputs": [],
   "source": [
    "del burst_obj\n",
    "del sorter"
   ]
  },
  {
   "cell_type": "code",
   "execution_count": null,
   "metadata": {},
   "outputs": [],
   "source": [
    "import pickle\n",
    "with open('fitter_list.pickle', 'rb') as handle:\n",
    "   fit_list = pickle.load(handle)\n",
    "\n",
    "for fitter in fit_list:\n",
    "    if fitter.dt == 0.1 and fitter.penalty_param == 2:\n",
    "        fitter.plotFitArray()"
   ]
  }
 ],
 "metadata": {
  "kernelspec": {
   "display_name": "Python 3",
   "language": "python",
   "name": "python3"
  },
  "language_info": {
   "codemirror_mode": {
    "name": "ipython",
    "version": 3
   },
   "file_extension": ".py",
   "mimetype": "text/x-python",
   "name": "python",
   "nbconvert_exporter": "python",
   "pygments_lexer": "ipython3",
   "version": "3.6.5"
  }
 },
 "nbformat": 4,
 "nbformat_minor": 2
}
