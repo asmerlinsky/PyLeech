{
 "cells": [
  {
   "cell_type": "code",
   "execution_count": 1,
   "metadata": {},
   "outputs": [
    {
     "name": "stdout",
     "output_type": "stream",
     "text": [
      "C:\\Users\\agus\\Dropbox\\Doctorado\\NeuroData\\PyLeech\n"
     ]
    }
   ],
   "source": [
    "cd .."
   ]
  },
  {
   "cell_type": "code",
   "execution_count": 2,
   "metadata": {},
   "outputs": [
    {
     "name": "stdout",
     "output_type": "stream",
     "text": [
      "C:\\Users\\agus\\Dropbox\\Doctorado\\NeuroData\n"
     ]
    }
   ],
   "source": [
    "cd .."
   ]
  },
  {
   "cell_type": "code",
   "execution_count": 3,
   "metadata": {},
   "outputs": [],
   "source": [
    "%matplotlib inline\n",
    "import numpy as np\n",
    "import matplotlib.pyplot as plt\n",
    "import PyLeech.Utils.AbfExtension as abfe\n",
    "np.set_printoptions(precision=3)\n",
    "plt.ion()\n",
    "plt.rcParams['figure.figsize'] = (24,12)"
   ]
  },
  {
   "cell_type": "code",
   "execution_count": 4,
   "metadata": {},
   "outputs": [],
   "source": [
    "filenames = ['18-12-13/2018_12_13_0015.abf']\n",
    "arr_dict, time, fs = abfe.getArraysFromAbfFiles(filenames, ['Vm1'])\n",
    "NS = arr_dict['Vm1']"
   ]
  },
  {
   "cell_type": "code",
   "execution_count": 5,
   "metadata": {},
   "outputs": [
    {
     "name": "stdout",
     "output_type": "stream",
     "text": [
      "Loading data from pickle\n",
      "Loaded:\n",
      "filename\n",
      "time\n",
      "traces\n",
      "sample_freq\n",
      "state\n",
      "peaks_idxs\n",
      "evts\n",
      "evt_interval\n",
      "ch_no\n",
      "evt_length\n",
      "evts_median\n",
      "evts_mad\n",
      "evts_max\n",
      "good_evts\n",
      "unitary\n",
      "original_clusters\n",
      "km\n",
      "train_clusters\n",
      "cluster_color\n",
      "template_dict\n",
      "rounds\n",
      "final_spike_dict\n"
     ]
    },
    {
     "name": "stderr",
     "output_type": "stream",
     "text": [
      "c:\\users\\agus\\appdata\\local\\programs\\python\\python36\\lib\\site-packages\\sklearn\\utils\\deprecation.py:144: FutureWarning: The sklearn.cluster.k_means_ module is  deprecated in version 0.22 and will be removed in version 0.24. The corresponding classes / functions should instead be imported from sklearn.cluster. Anything that cannot be imported from sklearn.cluster is now part of the private API.\n",
      "  warnings.warn(message, FutureWarning)\n",
      "c:\\users\\agus\\appdata\\local\\programs\\python\\python36\\lib\\site-packages\\sklearn\\base.py:318: UserWarning: Trying to unpickle estimator KMeans from version 0.20.0 when using version 0.22.1. This might lead to breaking code or invalid results. Use at your own risk.\n",
      "  UserWarning)\n"
     ]
    }
   ],
   "source": [
    "import PyLeech.Utils.SpSorter as SpSorter\n",
    "sorter = SpSorter.SpSorter('RegistrosDP_PP/2018_12_13_0015.pkl')"
   ]
  },
  {
   "cell_type": "code",
   "execution_count": 6,
   "metadata": {},
   "outputs": [],
   "source": [
    "fn = sorter.filename\n",
    "fn += 'spikes'\n",
    "fn = fn.replace(\"/\", \"\\\\\")"
   ]
  },
  {
   "cell_type": "code",
   "execution_count": 7,
   "metadata": {},
   "outputs": [],
   "source": [
    "import PyLeech.Utils.burstStorerLoader as burstStorerLoader\n",
    "import PyLeech.Utils.burstUtils as burstUtils\n",
    "import PyLeech.Utils.CrawlingDatabaseUtils as CDU\n",
    "%matplotlib qt5\n",
    "%matplotlib qt5\n",
    "plt.rcParams['figure.figsize'] = (24,12)\n",
    "\n",
    "cdb = CDU.loadCrawlingDatabase()\n",
    "good_neurons = cdb.loc[fn].index[cdb.loc[fn, 'neuron_is_good'].values.astype(bool)].values\n",
    "crawling_interval = [cdb.loc[fn].start_time.iloc[0], cdb.loc[fn].end_time.iloc[0]]\n",
    "burst_obj = burstStorerLoader.UnitInfo(fn, 'RegistrosDP_PP', mode='load')"
   ]
  },
  {
   "cell_type": "code",
   "execution_count": 9,
   "metadata": {},
   "outputs": [
    {
     "ename": "TypeError",
     "evalue": "object of type <class 'float'> cannot be safely interpreted as an integer.",
     "output_type": "error",
     "traceback": [
      "\u001b[1;31m---------------------------------------------------------------------------\u001b[0m",
      "\u001b[1;31mTypeError\u001b[0m                                 Traceback (most recent call last)",
      "\u001b[1;32mc:\\users\\agus\\appdata\\local\\programs\\python\\python36\\lib\\site-packages\\numpy\\core\\function_base.py\u001b[0m in \u001b[0;36mlinspace\u001b[1;34m(start, stop, num, endpoint, retstep, dtype, axis)\u001b[0m\n\u001b[0;32m    116\u001b[0m     \u001b[1;32mtry\u001b[0m\u001b[1;33m:\u001b[0m\u001b[1;33m\u001b[0m\u001b[0m\n\u001b[1;32m--> 117\u001b[1;33m         \u001b[0mnum\u001b[0m \u001b[1;33m=\u001b[0m \u001b[0moperator\u001b[0m\u001b[1;33m.\u001b[0m\u001b[0mindex\u001b[0m\u001b[1;33m(\u001b[0m\u001b[0mnum\u001b[0m\u001b[1;33m)\u001b[0m\u001b[1;33m\u001b[0m\u001b[0m\n\u001b[0m\u001b[0;32m    118\u001b[0m     \u001b[1;32mexcept\u001b[0m \u001b[0mTypeError\u001b[0m\u001b[1;33m:\u001b[0m\u001b[1;33m\u001b[0m\u001b[0m\n",
      "\u001b[1;31mTypeError\u001b[0m: 'float' object cannot be interpreted as an integer",
      "\nDuring handling of the above exception, another exception occurred:\n",
      "\u001b[1;31mTypeError\u001b[0m                                 Traceback (most recent call last)",
      "\u001b[1;32m<ipython-input-9-353e3342b735>\u001b[0m in \u001b[0;36m<module>\u001b[1;34m\u001b[0m\n\u001b[0;32m      1\u001b[0m \u001b[1;32mimport\u001b[0m \u001b[0mPyLeech\u001b[0m\u001b[1;33m.\u001b[0m\u001b[0mUtils\u001b[0m\u001b[1;33m.\u001b[0m\u001b[0mburstUtils\u001b[0m \u001b[1;32mas\u001b[0m \u001b[0mburstUtils\u001b[0m\u001b[1;33m\u001b[0m\u001b[0m\n\u001b[0;32m      2\u001b[0m \u001b[1;33m\u001b[0m\u001b[0m\n\u001b[1;32m----> 3\u001b[1;33m \u001b[0mbinned_sfd\u001b[0m \u001b[1;33m=\u001b[0m \u001b[0mbinned_sfd\u001b[0m \u001b[1;33m=\u001b[0m \u001b[0mburstUtils\u001b[0m\u001b[1;33m.\u001b[0m\u001b[0mdigitizeSpikeFreqs\u001b[0m\u001b[1;33m(\u001b[0m\u001b[0mburst_obj\u001b[0m\u001b[1;33m.\u001b[0m\u001b[0mspike_freq_dict\u001b[0m\u001b[1;33m,\u001b[0m \u001b[0mtime\u001b[0m\u001b[1;33m[\u001b[0m\u001b[1;33m-\u001b[0m\u001b[1;36m1\u001b[0m\u001b[1;33m]\u001b[0m\u001b[1;33m,\u001b[0m \u001b[1;36m5\u001b[0m \u001b[1;33m/\u001b[0m \u001b[0mfs\u001b[0m\u001b[1;33m,\u001b[0m \u001b[0mcounting\u001b[0m\u001b[1;33m=\u001b[0m\u001b[1;32mTrue\u001b[0m\u001b[1;33m)\u001b[0m\u001b[1;33m\u001b[0m\u001b[0m\n\u001b[0m\u001b[0;32m      4\u001b[0m fig = burstUtils.plotFreq(binned_sfd, color_dict=burst_obj.color_dict, optional_trace=[time[::5], NS[::5]], template_dict=burst_obj.template_dict, scatter_plot=True,\n\u001b[0;32m      5\u001b[0m              outlier_thres=5, ms=2, draw_list=good_neurons)\n",
      "\u001b[1;32m~\\Dropbox\\Doctorado\\NeuroData\\PyLeech\\Utils\\burstUtils.py\u001b[0m in \u001b[0;36mdigitizeSpikeFreqs\u001b[1;34m(spike_freq_dict, step, num, time_length, counting, freq_threshold)\u001b[0m\n\u001b[0;32m     55\u001b[0m     If false, it will return mean freq\"\"\"\n\u001b[0;32m     56\u001b[0m \u001b[1;33m\u001b[0m\u001b[0m\n\u001b[1;32m---> 57\u001b[1;33m     \u001b[0mrg\u001b[0m \u001b[1;33m=\u001b[0m \u001b[0mnp\u001b[0m\u001b[1;33m.\u001b[0m\u001b[0mlinspace\u001b[0m\u001b[1;33m(\u001b[0m\u001b[1;36m0\u001b[0m\u001b[1;33m,\u001b[0m \u001b[0mtime_length\u001b[0m\u001b[1;33m,\u001b[0m \u001b[0mnum\u001b[0m\u001b[1;33m,\u001b[0m \u001b[0mendpoint\u001b[0m\u001b[1;33m=\u001b[0m\u001b[1;32mFalse\u001b[0m\u001b[1;33m)\u001b[0m\u001b[1;33m\u001b[0m\u001b[0m\n\u001b[0m\u001b[0;32m     58\u001b[0m \u001b[1;33m\u001b[0m\u001b[0m\n\u001b[0;32m     59\u001b[0m     \u001b[0mbinned_spike_freq_dict\u001b[0m \u001b[1;33m=\u001b[0m \u001b[1;33m{\u001b[0m\u001b[1;33m}\u001b[0m\u001b[1;33m\u001b[0m\u001b[0m\n",
      "\u001b[1;32m<__array_function__ internals>\u001b[0m in \u001b[0;36mlinspace\u001b[1;34m(*args, **kwargs)\u001b[0m\n",
      "\u001b[1;32mc:\\users\\agus\\appdata\\local\\programs\\python\\python36\\lib\\site-packages\\numpy\\core\\function_base.py\u001b[0m in \u001b[0;36mlinspace\u001b[1;34m(start, stop, num, endpoint, retstep, dtype, axis)\u001b[0m\n\u001b[0;32m    119\u001b[0m         raise TypeError(\n\u001b[0;32m    120\u001b[0m             \u001b[1;34m\"object of type {} cannot be safely interpreted as an integer.\"\u001b[0m\u001b[1;33m\u001b[0m\u001b[0m\n\u001b[1;32m--> 121\u001b[1;33m                 .format(type(num)))\n\u001b[0m\u001b[0;32m    122\u001b[0m \u001b[1;33m\u001b[0m\u001b[0m\n\u001b[0;32m    123\u001b[0m     \u001b[1;32mif\u001b[0m \u001b[0mnum\u001b[0m \u001b[1;33m<\u001b[0m \u001b[1;36m0\u001b[0m\u001b[1;33m:\u001b[0m\u001b[1;33m\u001b[0m\u001b[0m\n",
      "\u001b[1;31mTypeError\u001b[0m: object of type <class 'float'> cannot be safely interpreted as an integer."
     ]
    }
   ],
   "source": [
    "import PyLeech.Utils.burstUtils as burstUtils\n",
    "\n",
    "binned_sfd = binned_sfd = burstUtils.digitizeSpikeFreqs(burst_obj.spike_freq_dict, time[-1], 5 / fs, counting=True)\n",
    "fig = burstUtils.plotFreq(binned_sfd, color_dict=burst_obj.color_dict, optional_trace=[time[::5], NS[::5]], template_dict=burst_obj.template_dict, scatter_plot=True,\n",
    "             outlier_thres=5, ms=2, draw_list=good_neurons)\n",
    "# del sorter"
   ]
  },
  {
   "cell_type": "code",
   "execution_count": 13,
   "metadata": {},
   "outputs": [
    {
     "ename": "TypeError",
     "evalue": "'NoneType' object is not subscriptable",
     "output_type": "error",
     "traceback": [
      "\u001b[1;31m---------------------------------------------------------------------------\u001b[0m",
      "\u001b[1;31mTypeError\u001b[0m                                 Traceback (most recent call last)",
      "\u001b[1;32m<ipython-input-13-8df4f7358665>\u001b[0m in \u001b[0;36m<module>\u001b[1;34m\u001b[0m\n\u001b[0;32m      4\u001b[0m \u001b[1;31m#                                                           time_intervals=burst_obj.crawling_segments,\u001b[0m\u001b[1;33m\u001b[0m\u001b[1;33m\u001b[0m\u001b[0m\n\u001b[0;32m      5\u001b[0m \u001b[1;33m\u001b[0m\u001b[0m\n\u001b[1;32m----> 6\u001b[1;33m                                                           no_cycles=1, intracel_peak_height=-52)\n\u001b[0m\u001b[0;32m      7\u001b[0m \u001b[0mcorrelation_segments\u001b[0m\u001b[1;33m.\u001b[0m\u001b[0mconcatenateRasterPlot\u001b[0m\u001b[1;33m(\u001b[0m\u001b[1;33m)\u001b[0m\u001b[1;33m\u001b[0m\u001b[0m\n",
      "\u001b[1;32m~\\Dropbox\\Doctorado\\NeuroData\\PyLeech\\Utils\\burstClasses.py\u001b[0m in \u001b[0;36m__init__\u001b[1;34m(self, spike_freq_dict, intracel_signal, time_vector, intracel_fs, time_intervals, no_cycles, intracel_peak_height, intracel_peak_distance, intracel_prominence, kernel_spike_sigma, spike_outlier_threshold, kernel_time_range, bin_step, intracel_sigma, separate_by_min, de3_neuron)\u001b[0m\n\u001b[0;32m    201\u001b[0m         \u001b[0mself\u001b[0m\u001b[1;33m.\u001b[0m\u001b[0mintracel_signal\u001b[0m \u001b[1;33m=\u001b[0m \u001b[0mintracel_signal\u001b[0m\u001b[1;33m\u001b[0m\u001b[0m\n\u001b[0;32m    202\u001b[0m         \u001b[0mself\u001b[0m\u001b[1;33m.\u001b[0m\u001b[0mtime\u001b[0m \u001b[1;33m=\u001b[0m \u001b[0mtime_vector\u001b[0m\u001b[1;33m\u001b[0m\u001b[0m\n\u001b[1;32m--> 203\u001b[1;33m         \u001b[1;32mif\u001b[0m \u001b[0mtype\u001b[0m\u001b[1;33m(\u001b[0m\u001b[0mtime_intervals\u001b[0m\u001b[1;33m[\u001b[0m\u001b[1;36m0\u001b[0m\u001b[1;33m]\u001b[0m\u001b[1;33m)\u001b[0m \u001b[1;32mis\u001b[0m \u001b[1;32mnot\u001b[0m \u001b[0mlist\u001b[0m\u001b[1;33m:\u001b[0m\u001b[1;33m\u001b[0m\u001b[0m\n\u001b[0m\u001b[0;32m    204\u001b[0m             \u001b[0mtime_intervals\u001b[0m \u001b[1;33m=\u001b[0m \u001b[1;33m[\u001b[0m\u001b[0mtime_intervals\u001b[0m\u001b[1;33m]\u001b[0m\u001b[1;33m\u001b[0m\u001b[0m\n\u001b[0;32m    205\u001b[0m         \u001b[0mself\u001b[0m\u001b[1;33m.\u001b[0m\u001b[0mtime_intervals\u001b[0m \u001b[1;33m=\u001b[0m \u001b[0mtime_intervals\u001b[0m\u001b[1;33m\u001b[0m\u001b[0m\n",
      "\u001b[1;31mTypeError\u001b[0m: 'NoneType' object is not subscriptable"
     ]
    }
   ],
   "source": [
    "import PyLeech.Utils.burstClasses as burstClasses\n",
    "plt.rcParams['figure.figsize'] = (24,12)\n",
    "correlation_segments = burstClasses.SegmentandCorrelate(burst_obj.spike_freq_dict, NS, time,\n",
    "#                                                           time_intervals=burst_obj.crawling_segments,\n",
    "                                                          \n",
    "                                                          no_cycles=1, intracel_peak_height=-52)\n",
    "correlation_segments.concatenateRasterPlot()"
   ]
  },
  {
   "cell_type": "code",
   "execution_count": null,
   "metadata": {},
   "outputs": [],
   "source": [
    "reload(burstUtils)\n",
    "binned_sfd = burstUtils.digitizeSpikeFreqs(burst_obj.spike_freq_dict, time[-1], 0.1, count=False)"
   ]
  },
  {
   "cell_type": "code",
   "execution_count": null,
   "metadata": {},
   "outputs": [],
   "source": [
    "\n",
    "fig = burstUtils.plotFreq(binned_sfd, color_dict=burst_obj.color_dict, optional_trace=[time[::5], NS[::5]], template_dict=burst_obj.template_dict, scatter_plot=True,\n",
    "             outlier_thres=None, ms=4, draw_list=good_neurons)"
   ]
  },
  {
   "cell_type": "code",
   "execution_count": null,
   "metadata": {},
   "outputs": [],
   "source": [
    "spike_array = np.array([items[1] for key, items in binned_sfd.items()])"
   ]
  },
  {
   "cell_type": "code",
   "execution_count": null,
   "metadata": {},
   "outputs": [],
   "source": [
    "import csv\n",
    "\n",
    "fn = '../dimension_testing.csv'\n",
    "f = open(fn, 'w')\n",
    "w = csv.writer(f)\n",
    "w.writerows(spike_array.transpose())\n",
    "\n",
    "f.close()"
   ]
  },
  {
   "cell_type": "code",
   "execution_count": null,
   "metadata": {},
   "outputs": [],
   "source": [
    "del burst_obj\n",
    "del sorter"
   ]
  },
  {
   "cell_type": "code",
   "execution_count": null,
   "metadata": {},
   "outputs": [],
   "source": [
    "import pickle\n",
    "with open('fitter_list.pickle', 'rb') as handle:\n",
    "   fit_list = pickle.load(handle)\n",
    "\n",
    "for fitter in fit_list:\n",
    "    if fitter.dt == 0.1 and fitter.penalty_param == 2:\n",
    "        fitter.plotFitArray()"
   ]
  }
 ],
 "metadata": {
  "kernelspec": {
   "display_name": "Python 3",
   "language": "python",
   "name": "python3"
  },
  "language_info": {
   "codemirror_mode": {
    "name": "ipython",
    "version": 3
   },
   "file_extension": ".py",
   "mimetype": "text/x-python",
   "name": "python",
   "nbconvert_exporter": "python",
   "pygments_lexer": "ipython3",
   "version": "3.6.5"
  }
 },
 "nbformat": 4,
 "nbformat_minor": 2
}
