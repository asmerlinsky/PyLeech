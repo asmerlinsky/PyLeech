{
 "cells": [
  {
   "cell_type": "code",
   "execution_count": 1,
   "metadata": {},
   "outputs": [
    {
     "name": "stdout",
     "output_type": "stream",
     "text": [
      "C:\\Users\\Agustin\\Dropbox\\Doctorado\\NeuroData\\PyLeech\n"
     ]
    }
   ],
   "source": [
    "cd .."
   ]
  },
  {
   "cell_type": "code",
   "execution_count": 2,
   "metadata": {},
   "outputs": [
    {
     "name": "stdout",
     "output_type": "stream",
     "text": [
      "C:\\Users\\Agustin\\Dropbox\\Doctorado\\NeuroData\n"
     ]
    }
   ],
   "source": [
    "cd .."
   ]
  },
  {
   "cell_type": "code",
   "execution_count": 3,
   "metadata": {},
   "outputs": [],
   "source": [
    "import PyLeech.Utils.CrawlingDatabaseUtils as CDU\n",
    "from PyLeech.Utils.burstStorerLoader import BurstStorerLoader\n",
    "import PyLeech.Utils.burstUtils as burstUtils\n",
    "import numpy as np\n",
    "import matplotlib.pyplot as plt\n",
    "import PyLeech.Utils.NLDUtils as NLD\n",
    "import scipy.signal as spsig\n",
    "import os.path\n",
    "import winsound\n",
    "from mpl_toolkits.mplot3d import Axes3D\n",
    "import PyLeech.Utils.AbfExtension as abfe"
   ]
  },
  {
   "cell_type": "code",
   "execution_count": 4,
   "metadata": {},
   "outputs": [
    {
     "name": "stdout",
     "output_type": "stream",
     "text": [
      "RegistrosDP_PP\\2018_12_03_0005.pklspikes\n"
     ]
    }
   ],
   "source": [
    "cdd = CDU.loadDataDict()\n",
    "file_list = list(cdd)\n",
    "fn = file_list[2]\n",
    "print(fn)"
   ]
  },
  {
   "cell_type": "code",
   "execution_count": 5,
   "metadata": {},
   "outputs": [
    {
     "name": "stdout",
     "output_type": "stream",
     "text": [
      "I need to set attribute 'isDe3' before continuing\n"
     ]
    },
    {
     "data": {
      "text/plain": [
       "2e-05"
      ]
     },
     "execution_count": 5,
     "metadata": {},
     "output_type": "execute_result"
    }
   ],
   "source": [
    "cdd = CDU.loadDataDict()\n",
    "\n",
    "burst_obj = BurstStorerLoader(fn, 'RegistrosDP_PP', mode='load')\n",
    "arr_dict, time_vector1, fs = abfe.getArraysFromAbfFiles(fn, ['Vm1'])\n",
    "0.1/fs\n"
   ]
  },
  {
   "cell_type": "code",
   "execution_count": 6,
   "metadata": {},
   "outputs": [],
   "source": [
    "%matplotlib qt5"
   ]
  },
  {
   "cell_type": "code",
   "execution_count": 7,
   "metadata": {},
   "outputs": [],
   "source": [
    "binning_dt = 0.1\n",
    "spike_kernel_sigma = 8\n",
    "\n",
    "kernel = NLD.generateGaussianKernel(sigma=spike_kernel_sigma, time_range=20, dt_step=(1/fs))\n",
    "conv_NS = spsig.fftconvolve(arr_dict[\"Vm1\"], kernel, mode='same')[::int(0.1*fs)]\n"
   ]
  },
  {
   "cell_type": "code",
   "execution_count": 8,
   "metadata": {},
   "outputs": [],
   "source": [
    "conv_NS[(conv_NS > -43) | (conv_NS < -57)] = np.nan"
   ]
  },
  {
   "cell_type": "code",
   "execution_count": 9,
   "metadata": {},
   "outputs": [
    {
     "data": {
      "text/plain": [
       "[<matplotlib.lines.Line2D at 0x2cf350155f8>]"
      ]
     },
     "execution_count": 9,
     "metadata": {},
     "output_type": "execute_result"
    }
   ],
   "source": [
    "plt.plot(conv_NS)"
   ]
  },
  {
   "cell_type": "code",
   "execution_count": 10,
   "metadata": {},
   "outputs": [],
   "source": [
    "rt_threshold = .01\n",
    "rt = NLD.getCloseReturns(np.array([conv_NS]).T, threshold=rt_threshold, get_mask=True)[:, :, 0]"
   ]
  },
  {
   "cell_type": "code",
   "execution_count": 11,
   "metadata": {},
   "outputs": [
    {
     "data": {
      "text/plain": [
       "<matplotlib.image.AxesImage at 0x1e7867d06d8>"
      ]
     },
     "execution_count": 11,
     "metadata": {},
     "output_type": "execute_result"
    }
   ],
   "source": [
    "plt.matshow(rt)"
   ]
  },
  {
   "cell_type": "code",
   "execution_count": 12,
   "metadata": {},
   "outputs": [],
   "source": [
    "sg_dict = NLD.getCloseReturnsSegmentsFromUnorderedMatrix1(rt, rt_len=200, single_file=True, min_dist=50)"
   ]
  },
  {
   "cell_type": "code",
   "execution_count": 24,
   "metadata": {},
   "outputs": [
    {
     "data": {
      "text/plain": [
       "array([[3045, 3266]])"
      ]
     },
     "execution_count": 24,
     "metadata": {},
     "output_type": "execute_result"
    }
   ],
   "source": [
    "sg_dict[list(sg_dict)[89]]"
   ]
  },
  {
   "cell_type": "code",
   "execution_count": 26,
   "metadata": {},
   "outputs": [
    {
     "name": "stdout",
     "output_type": "stream",
     "text": [
      "90\n"
     ]
    }
   ],
   "source": [
    "h = 0\n",
    "for key, items in sg_dict.items():\n",
    "    \n",
    "    h += items.shape[0]\n",
    "print(h)"
   ]
  },
  {
   "cell_type": "code",
   "execution_count": 84,
   "metadata": {},
   "outputs": [
    {
     "data": {
      "text/plain": [
       "[<matplotlib.lines.Line2D at 0x20376f46fd0>]"
      ]
     },
     "execution_count": 84,
     "metadata": {},
     "output_type": "execute_result"
    }
   ],
   "source": [
    "fig, ax = plt.subplots()\n",
    "ax.plot(conv_NS)"
   ]
  },
  {
   "cell_type": "code",
   "execution_count": 133,
   "metadata": {},
   "outputs": [],
   "source": [
    "i = np.random.randint(0, len(sg_dict))\n",
    "for t0, t1 in sg_dict[list(sg_dict)[i]]:\n",
    "    fig, ax = plt.subplots()\n",
    "    ax.plot(conv_NS[t0:t1])\n",
    "    ax.plot(conv_NS[t0 + list(sg_dict)[i]:t1+list(sg_dict)[i]])"
   ]
  },
  {
   "cell_type": "code",
   "execution_count": 28,
   "metadata": {},
   "outputs": [],
   "source": [
    "for key, items in sg_dict.items():\n",
    "    for t0, t1 in items:\n",
    "        fig, ax = plt.subplots()\n",
    "        ax.plot(conv_NS[t0:t1])\n",
    "        ax.plot(conv_NS[t0 + key:t1+key])"
   ]
  },
  {
   "cell_type": "code",
   "execution_count": 98,
   "metadata": {},
   "outputs": [
    {
     "data": {
      "text/plain": [
       "4"
      ]
     },
     "execution_count": 98,
     "metadata": {},
     "output_type": "execute_result"
    }
   ],
   "source": [
    "len(sg_dict)"
   ]
  },
  {
   "cell_type": "code",
   "execution_count": null,
   "metadata": {},
   "outputs": [],
   "source": []
  }
 ],
 "metadata": {
  "kernelspec": {
   "display_name": "Python 3",
   "language": "python",
   "name": "python3"
  },
  "language_info": {
   "codemirror_mode": {
    "name": "ipython",
    "version": 3
   },
   "file_extension": ".py",
   "mimetype": "text/x-python",
   "name": "python",
   "nbconvert_exporter": "python",
   "pygments_lexer": "ipython3",
   "version": "3.6.5"
  }
 },
 "nbformat": 4,
 "nbformat_minor": 2
}
