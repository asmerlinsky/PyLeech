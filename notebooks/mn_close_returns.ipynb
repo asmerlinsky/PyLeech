{
 "cells": [
  {
   "cell_type": "code",
   "execution_count": 1,
   "metadata": {},
   "outputs": [
    {
     "name": "stdout",
     "output_type": "stream",
     "text": [
      "C:\\Users\\Agustin\\Dropbox\\Doctorado\\NeuroData\\PyLeech\n"
     ]
    }
   ],
   "source": [
    "cd .."
   ]
  },
  {
   "cell_type": "code",
   "execution_count": 2,
   "metadata": {},
   "outputs": [
    {
     "name": "stdout",
     "output_type": "stream",
     "text": [
      "C:\\Users\\Agustin\\Dropbox\\Doctorado\\NeuroData\n"
     ]
    }
   ],
   "source": [
    "cd .."
   ]
  },
  {
   "cell_type": "code",
   "execution_count": 3,
   "metadata": {},
   "outputs": [],
   "source": [
    "%matplotlib qt5"
   ]
  },
  {
   "cell_type": "code",
   "execution_count": 4,
   "metadata": {},
   "outputs": [],
   "source": [
    "import PyLeech.Utils.AbfExtension as abfe\n",
    "import PyLeech.Utils.CrawlingDatabaseUtils as CDU\n",
    "from PyLeech.Utils.burstStorerLoader import UnitInfo\n",
    "import PyLeech.Utils.burstUtils as burstUtils\n",
    "import numpy as np\n",
    "import matplotlib.pyplot as plt\n",
    "import PyLeech.Utils.NLDUtils as NLD\n",
    "import scipy.signal as spsig\n",
    "import os.path\n",
    "import winsound\n",
    "from mpl_toolkits.mplot3d import Axes3D"
   ]
  },
  {
   "cell_type": "code",
   "execution_count": 5,
   "metadata": {},
   "outputs": [],
   "source": [
    "cdd = CDU.loadDataDict()\n",
    "file_list = list(cdd)\n",
    "trace_list = []\n",
    "emb_list = []\n",
    "ran_files = []\n",
    "run_dict = {}"
   ]
  },
  {
   "cell_type": "code",
   "execution_count": 8,
   "metadata": {},
   "outputs": [
    {
     "name": "stdout",
     "output_type": "stream",
     "text": [
      "RegistrosDP_PP\\2018_12_03_0005.pklspikes\n",
      "[3, 1, 2, 6]\n"
     ]
    }
   ],
   "source": [
    "fn = file_list[2]\n",
    "print(fn)\n",
    "print(list(cdd[fn]['neurons']))"
   ]
  },
  {
   "cell_type": "code",
   "execution_count": 9,
   "metadata": {},
   "outputs": [
    {
     "name": "stdout",
     "output_type": "stream",
     "text": [
      "0 RegistrosDP_PP\\18n05010.pklspikes\n",
      "1 RegistrosDP_PP\\2018_10_11_0002.pklspikes\n",
      "2 RegistrosDP_PP\\2018_12_03_0005.pklspikes\n",
      "3 RegistrosDP_PP\\2018_12_04_0003_0004_0005_0006b.pklspikes\n",
      "4 RegistrosDP_PP\\2018_12_06_0005.pklspikes\n",
      "5 RegistrosDP_PP\\2018_12_13_0015.pklspikes\n",
      "6 RegistrosDP_PP\\NS_DP_PP_0.pklspikes\n",
      "7 RegistrosDP_PP\\NS_T_DP_PP_0_cut.pklspikes\n",
      "8 RegistrosDP_PP\\NS_T_DP_PP_1.pklspikes\n",
      "9 RegistrosDP_PP\\2014_09_25_0008.pklspikes\n",
      "10 RegistrosDP_PP\\2019_01_28_0001.pklspikes\n",
      "11 RegistrosDP_PP\\2018_11_06_0004.pklspikes\n",
      "12 RegistrosDP_PP\\2018_12_03_0000_0001.pklspikes\n",
      "13 RegistrosDP_PP\\14217000.pklspikes\n",
      "14 RegistrosDP_PP\\2017_12_08_0002.pklspikes\n",
      "15 RegistrosDP_PP\\cont10.pklspikes\n",
      "16 RegistrosDP_PP\\2018_12_13_0001.pklspikes\n"
     ]
    }
   ],
   "source": [
    "a = [print(i, fn) for fn, i in zip(file_list, range(len(file_list)))]"
   ]
  },
  {
   "cell_type": "code",
   "execution_count": 14,
   "metadata": {},
   "outputs": [
    {
     "name": "stdout",
     "output_type": "stream",
     "text": [
      "RegistrosDP_PP\\2018_12_06_0005.pklspikes\n"
     ]
    }
   ],
   "source": [
    "fn = file_list[4]\n",
    "print(fn)"
   ]
  },
  {
   "cell_type": "code",
   "execution_count": 15,
   "metadata": {},
   "outputs": [],
   "source": [
    "burst_obj = UnitInfo(fn, 'RegistrosDP_PP', mode='load')\n",
    "arr_dict, time_vector1, fs = abfe.getArraysFromAbfFiles(fn, ['Vm1'])\n",
    "\n",
    "binning_dt = 0.25\n",
    "spike_kernel_sigma = 1\n",
    "kernel = NLD.generateGaussianKernel(sigma=spike_kernel_sigma, time_range=20, dt_step=binning_dt)\n",
    "\n",
    "conv_NS = spsig.fftconvolve(arr_dict[\"Vm1\"], kernel, mode='same')[::int(binning_dt*fs)]\n",
    "del arr_dict"
   ]
  },
  {
   "cell_type": "code",
   "execution_count": 16,
   "metadata": {},
   "outputs": [],
   "source": [
    "burst_object = UnitInfo(fn, 'RegistrosDP_PP', 'load')\n",
    "burst_object.isDe3 = cdd[fn][\"DE3\"]\n",
    "\n",
    "good_neurons = [neuron for neuron, neuron_dict in cdd[fn]['neurons'].items() if neuron_dict['neuron_is_good']]\n",
    "\n",
    "spike_freq_array = burstUtils.processSpikeFreqDict(burst_object.spike_freq_dict, binning_dt,\n",
    "                                                   selected_neurons=good_neurons,\n",
    "                                                   time_length=burst_object.time[-1])\n",
    "\n",
    "\n",
    "\n",
    "smoothed_sfd = {}\n",
    "for key, items in spike_freq_array.items():\n",
    "    smoothed_sfd[key] = np.array([items[0], spsig.fftconvolve(items[1], kernel, mode='same')])\n",
    "conv_NS[(conv_NS > -36) | (conv_NS < -65)] = np.nan\n"
   ]
  },
  {
   "cell_type": "code",
   "execution_count": 17,
   "metadata": {},
   "outputs": [],
   "source": [
    "fig, ax_list = burstUtils.plotFreq(burst_object.spike_freq_dict, color_dict='single_color', draw_list=good_neurons, scatter_plot=True, optional_trace=[time_vector1[::int(binning_dt*fs)], conv_NS], outlier_thres=3.5)\n",
    "burstUtils.plotFreq(spike_freq_array, color_dict='single_color', draw_list=good_neurons, scatter_plot=True, optional_trace=[time_vector1[::int(binning_dt*fs)], conv_NS], sharex=ax_list[0])\n",
    "burstUtils.plotFreq(smoothed_sfd, color_dict='single_color', draw_list=good_neurons, scatter_plot=False, optional_trace=[time_vector1[::int(binning_dt*fs)], conv_NS], sharex=ax_list[0])\n",
    "spike_idxs = NLD.getSpikeIdxs(smoothed_sfd, cdd[fn][\"DE3\"], cdd[fn][\"crawling_intervals\"])"
   ]
  },
  {
   "cell_type": "code",
   "execution_count": 18,
   "metadata": {},
   "outputs": [],
   "source": [
    "### para file 4: 5, 10, 12, 21\n",
    "### para file 5: 3, 21, 8, 13\n",
    "phase_1 = smoothed_sfd[5][1]/smoothed_sfd[5][1].max()\n",
    "phase_2 = smoothed_sfd[10][1]/smoothed_sfd[10][1].max()\n",
    "antiphase_1 = smoothed_sfd[12][1]/smoothed_sfd[12][1].max()\n",
    "antiphase_2 = smoothed_sfd[21][1]/smoothed_sfd[21][1].max()"
   ]
  },
  {
   "cell_type": "code",
   "execution_count": 19,
   "metadata": {},
   "outputs": [],
   "source": [
    "summed_activity = antiphase_1 + antiphase_2 - phase_1 - phase_2"
   ]
  },
  {
   "cell_type": "code",
   "execution_count": 20,
   "metadata": {},
   "outputs": [
    {
     "data": {
      "text/plain": [
       "<matplotlib.legend.Legend at 0x1b4987d4518>"
      ]
     },
     "execution_count": 20,
     "metadata": {},
     "output_type": "execute_result"
    }
   ],
   "source": [
    "fig, ax = plt.subplots(3, 1, sharex=True)\n",
    "ax[0].plot(phase_1, label='ph1')\n",
    "ax[0].plot(phase_2, label='ph2')\n",
    "ax[0].plot(antiphase_1, label='antiph1')\n",
    "ax[0].plot(antiphase_2, label='antiph2')\n",
    "ax[1].plot(summed_activity)\n",
    "ax[2].plot(conv_NS)\n",
    "fig.legend()"
   ]
  },
  {
   "cell_type": "code",
   "execution_count": 16,
   "metadata": {},
   "outputs": [
    {
     "data": {
      "text/plain": [
       "[<matplotlib.lines.Line2D at 0x1b11ef5f550>]"
      ]
     },
     "execution_count": 16,
     "metadata": {},
     "output_type": "execute_result"
    }
   ],
   "source": [
    "sc_ns = (conv_NS[3000:7000]-np.median(conv_NS[3000:7000]))/(64-46)\n",
    "fig, ax = plt.subplots()\n",
    "ax.plot(-sc_ns)\n",
    "ax.plot(summed_activity[3000:7000])"
   ]
  },
  {
   "cell_type": "code",
   "execution_count": 17,
   "metadata": {},
   "outputs": [],
   "source": [
    "summed_activity = summed_activity[2860:8800]\n",
    "embedding = NLD.getDerivativeEmbedding(summed_activity, dt=.1, emb_size=3)"
   ]
  },
  {
   "cell_type": "code",
   "execution_count": 18,
   "metadata": {},
   "outputs": [],
   "source": [
    "emb_rt = NLD.getCloseReturns(embedding, get_mask=True, threshold=.05)\n",
    "trace_rt = NLD.getCloseReturns(np.array([summed_activity]).T, get_mask=True, threshold=.05)"
   ]
  },
  {
   "cell_type": "code",
   "execution_count": 19,
   "metadata": {},
   "outputs": [],
   "source": [
    "data1 = NLD.plotCloseReturns(emb_rt, reorder=False)\n",
    "data2 = NLD.plotCloseReturns(trace_rt, reorder=False)"
   ]
  },
  {
   "cell_type": "code",
   "execution_count": 20,
   "metadata": {},
   "outputs": [],
   "source": [
    "emb_sg_dict = NLD.getCloseReturnsSegmentsFromUnorderedMatrix1(emb_rt, single_file=True, min_dist=50, rt_len=150)\n",
    "trace_sg_dict = NLD.getCloseReturnsSegmentsFromUnorderedMatrix1(trace_rt, single_file=True, min_dist=50, rt_len=150)"
   ]
  },
  {
   "cell_type": "code",
   "execution_count": 21,
   "metadata": {},
   "outputs": [
    {
     "name": "stdout",
     "output_type": "stream",
     "text": [
      "53 94\n"
     ]
    }
   ],
   "source": [
    "h = 0 \n",
    "for diag, pairs in emb_sg_dict.items():\n",
    "    h += len(pairs)\n",
    "k = 0\n",
    "for diag, pairs in trace_sg_dict.items():\n",
    "    k += len(pairs)\n",
    "print(h, k)"
   ]
  },
  {
   "cell_type": "code",
   "execution_count": 25,
   "metadata": {},
   "outputs": [],
   "source": [
    "# for diag in NLD.getMainDiagonals(list(emb_sg_dict)):\n",
    "# for diag in list(emb_sg_dict):\n",
    "#     for t0, t1 in emb_sg_dict[diag]:\n",
    "# for diag in list(emb_sg_dict):\n",
    "for diag in dl:\n",
    "    for t0, t1 in emb_sg_dict[diag]:\n",
    "        fig, ax = plt.subplots()\n",
    "        ax.plot(summed_activity[t0:t1])\n",
    "        ax.plot(summed_activity[t0+diag:t1+diag])\n",
    "        fig.suptitle(str(diag))\n",
    "        \n",
    "# for diag in list(trace_sg_dict):\n",
    "#     for t0, t1 in trace_sg_dict[diag]:\n",
    "#         fig, ax = plt.subplots()\n",
    "#         ax.plot(summed_activity[t0:t1])\n",
    "#         ax.plot(summed_activity[t0+diag:t1+diag])\n",
    "#         fig.suptitle(str(diag))"
   ]
  },
  {
   "cell_type": "code",
   "execution_count": 32,
   "metadata": {},
   "outputs": [],
   "source": [
    "dl = [112, 175, 286, 486, 684, 831]\n",
    "for diag in dl:\n",
    "    for t0, t1 in emb_sg_dict[diag]:\n",
    "        fig = plt.figure()\n",
    "        ax = Axes3D(fig)\n",
    "        NLD.plot3Dline(embedding[t0:t1], fig_ax_pair=[fig, ax])\n",
    "        NLD.plot3Dline(embedding[t0+diag:t1+diag], fig_ax_pair=[fig, ax])"
   ]
  },
  {
   "cell_type": "code",
   "execution_count": 35,
   "metadata": {},
   "outputs": [],
   "source": [
    "pos = spsig.find_peaks(summed_activity, height=.4)[0]"
   ]
  },
  {
   "cell_type": "code",
   "execution_count": 37,
   "metadata": {},
   "outputs": [],
   "source": [
    "fig, ax = plt.subplots()\n",
    "ax.plot(summed_activity)\n",
    "for i in pos:\n",
    "    ax.scatter(i, summed_activity[i], color='r')"
   ]
  },
  {
   "cell_type": "code",
   "execution_count": 40,
   "metadata": {},
   "outputs": [
    {
     "name": "stdout",
     "output_type": "stream",
     "text": [
      "(175,)\n",
      "(176,)\n",
      "(234,)\n",
      "(252,)\n",
      "(191,)\n",
      "(143,)\n",
      "(206,)\n",
      "(121,)\n",
      "(119,)\n",
      "(157,)\n",
      "(126,)\n",
      "(177,)\n",
      "(90,)\n",
      "(138,)\n",
      "(115,)\n",
      "(149,)\n",
      "(159,)\n",
      "(100,)\n",
      "(141,)\n",
      "(109,)\n",
      "(121,)\n",
      "(89,)\n",
      "(61,)\n",
      "(131,)\n",
      "(93,)\n",
      "(408,)\n",
      "(422,)\n",
      "(168,)\n",
      "(608,)\n",
      "(66,)\n",
      "(48,)\n",
      "(86,)\n",
      "(41,)\n"
     ]
    }
   ],
   "source": [
    "sg = []\n",
    "for i in range(pos.shape[0]-1):\n",
    "    print(summed_activity[pos[i]:pos[i+1]].shape)\n",
    "    sg.append(summed_activity[pos[i]:pos[i+1]])"
   ]
  },
  {
   "cell_type": "code",
   "execution_count": 46,
   "metadata": {},
   "outputs": [],
   "source": [
    "fig, ax = plt.subplots()\n",
    "for segment in sg:\n",
    "    if segment.shape[0]<300:\n",
    "        ax.plot(segment)"
   ]
  },
  {
   "cell_type": "code",
   "execution_count": null,
   "metadata": {},
   "outputs": [],
   "source": []
  }
 ],
 "metadata": {
  "kernelspec": {
   "display_name": "Python 3",
   "language": "python",
   "name": "python3"
  },
  "language_info": {
   "codemirror_mode": {
    "name": "ipython",
    "version": 3
   },
   "file_extension": ".py",
   "mimetype": "text/x-python",
   "name": "python",
   "nbconvert_exporter": "python",
   "pygments_lexer": "ipython3",
   "version": "3.6.8"
  }
 },
 "nbformat": 4,
 "nbformat_minor": 4
}
